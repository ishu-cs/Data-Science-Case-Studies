{
 "cells": [
  {
   "cell_type": "markdown",
   "metadata": {},
   "source": [
    "### Import the required Libraries"
   ]
  },
  {
   "cell_type": "code",
   "execution_count": 1,
   "metadata": {},
   "outputs": [],
   "source": [
    "import pandas as pd\n",
    "import numpy as np\n",
    "import matplotlib.pyplot as plt\n",
    "import seaborn as sns\n",
    "import sklearn\n",
    "from sklearn.model_selection import train_test_split\n",
    "from sklearn.preprocessing import MinMaxScaler\n",
    "import statsmodels.api as sm\n",
    "from statsmodels.stats.outliers_influence import variance_inflation_factor\n",
    "from sklearn.metrics import r2_score\n",
    "from sklearn.feature_selection import RFE\n",
    "from sklearn.linear_model import LinearRegression\n",
    "import warnings\n",
    "warnings.filterwarnings('ignore')\n",
    "%matplotlib inline\n"
   ]
  },
  {
   "cell_type": "markdown",
   "metadata": {},
   "source": [
    "### Read the csv into a dataframe"
   ]
  },
  {
   "cell_type": "code",
   "execution_count": 2,
   "metadata": {},
   "outputs": [
    {
     "data": {
      "text/html": [
       "<div>\n",
       "<style scoped>\n",
       "    .dataframe tbody tr th:only-of-type {\n",
       "        vertical-align: middle;\n",
       "    }\n",
       "\n",
       "    .dataframe tbody tr th {\n",
       "        vertical-align: top;\n",
       "    }\n",
       "\n",
       "    .dataframe thead th {\n",
       "        text-align: right;\n",
       "    }\n",
       "</style>\n",
       "<table border=\"1\" class=\"dataframe\">\n",
       "  <thead>\n",
       "    <tr style=\"text-align: right;\">\n",
       "      <th></th>\n",
       "      <th>car_ID</th>\n",
       "      <th>symboling</th>\n",
       "      <th>CarName</th>\n",
       "      <th>fueltype</th>\n",
       "      <th>aspiration</th>\n",
       "      <th>doornumber</th>\n",
       "      <th>carbody</th>\n",
       "      <th>drivewheel</th>\n",
       "      <th>enginelocation</th>\n",
       "      <th>wheelbase</th>\n",
       "      <th>...</th>\n",
       "      <th>enginesize</th>\n",
       "      <th>fuelsystem</th>\n",
       "      <th>boreratio</th>\n",
       "      <th>stroke</th>\n",
       "      <th>compressionratio</th>\n",
       "      <th>horsepower</th>\n",
       "      <th>peakrpm</th>\n",
       "      <th>citympg</th>\n",
       "      <th>highwaympg</th>\n",
       "      <th>price</th>\n",
       "    </tr>\n",
       "  </thead>\n",
       "  <tbody>\n",
       "    <tr>\n",
       "      <th>0</th>\n",
       "      <td>1</td>\n",
       "      <td>3</td>\n",
       "      <td>alfa-romero giulia</td>\n",
       "      <td>gas</td>\n",
       "      <td>std</td>\n",
       "      <td>two</td>\n",
       "      <td>convertible</td>\n",
       "      <td>rwd</td>\n",
       "      <td>front</td>\n",
       "      <td>88.6</td>\n",
       "      <td>...</td>\n",
       "      <td>130</td>\n",
       "      <td>mpfi</td>\n",
       "      <td>3.47</td>\n",
       "      <td>2.68</td>\n",
       "      <td>9.0</td>\n",
       "      <td>111</td>\n",
       "      <td>5000</td>\n",
       "      <td>21</td>\n",
       "      <td>27</td>\n",
       "      <td>13495.0</td>\n",
       "    </tr>\n",
       "    <tr>\n",
       "      <th>1</th>\n",
       "      <td>2</td>\n",
       "      <td>3</td>\n",
       "      <td>alfa-romero stelvio</td>\n",
       "      <td>gas</td>\n",
       "      <td>std</td>\n",
       "      <td>two</td>\n",
       "      <td>convertible</td>\n",
       "      <td>rwd</td>\n",
       "      <td>front</td>\n",
       "      <td>88.6</td>\n",
       "      <td>...</td>\n",
       "      <td>130</td>\n",
       "      <td>mpfi</td>\n",
       "      <td>3.47</td>\n",
       "      <td>2.68</td>\n",
       "      <td>9.0</td>\n",
       "      <td>111</td>\n",
       "      <td>5000</td>\n",
       "      <td>21</td>\n",
       "      <td>27</td>\n",
       "      <td>16500.0</td>\n",
       "    </tr>\n",
       "    <tr>\n",
       "      <th>2</th>\n",
       "      <td>3</td>\n",
       "      <td>1</td>\n",
       "      <td>alfa-romero Quadrifoglio</td>\n",
       "      <td>gas</td>\n",
       "      <td>std</td>\n",
       "      <td>two</td>\n",
       "      <td>hatchback</td>\n",
       "      <td>rwd</td>\n",
       "      <td>front</td>\n",
       "      <td>94.5</td>\n",
       "      <td>...</td>\n",
       "      <td>152</td>\n",
       "      <td>mpfi</td>\n",
       "      <td>2.68</td>\n",
       "      <td>3.47</td>\n",
       "      <td>9.0</td>\n",
       "      <td>154</td>\n",
       "      <td>5000</td>\n",
       "      <td>19</td>\n",
       "      <td>26</td>\n",
       "      <td>16500.0</td>\n",
       "    </tr>\n",
       "    <tr>\n",
       "      <th>3</th>\n",
       "      <td>4</td>\n",
       "      <td>2</td>\n",
       "      <td>audi 100 ls</td>\n",
       "      <td>gas</td>\n",
       "      <td>std</td>\n",
       "      <td>four</td>\n",
       "      <td>sedan</td>\n",
       "      <td>fwd</td>\n",
       "      <td>front</td>\n",
       "      <td>99.8</td>\n",
       "      <td>...</td>\n",
       "      <td>109</td>\n",
       "      <td>mpfi</td>\n",
       "      <td>3.19</td>\n",
       "      <td>3.40</td>\n",
       "      <td>10.0</td>\n",
       "      <td>102</td>\n",
       "      <td>5500</td>\n",
       "      <td>24</td>\n",
       "      <td>30</td>\n",
       "      <td>13950.0</td>\n",
       "    </tr>\n",
       "    <tr>\n",
       "      <th>4</th>\n",
       "      <td>5</td>\n",
       "      <td>2</td>\n",
       "      <td>audi 100ls</td>\n",
       "      <td>gas</td>\n",
       "      <td>std</td>\n",
       "      <td>four</td>\n",
       "      <td>sedan</td>\n",
       "      <td>4wd</td>\n",
       "      <td>front</td>\n",
       "      <td>99.4</td>\n",
       "      <td>...</td>\n",
       "      <td>136</td>\n",
       "      <td>mpfi</td>\n",
       "      <td>3.19</td>\n",
       "      <td>3.40</td>\n",
       "      <td>8.0</td>\n",
       "      <td>115</td>\n",
       "      <td>5500</td>\n",
       "      <td>18</td>\n",
       "      <td>22</td>\n",
       "      <td>17450.0</td>\n",
       "    </tr>\n",
       "  </tbody>\n",
       "</table>\n",
       "<p>5 rows × 26 columns</p>\n",
       "</div>"
      ],
      "text/plain": [
       "   car_ID  symboling                   CarName fueltype aspiration doornumber  \\\n",
       "0       1          3        alfa-romero giulia      gas        std        two   \n",
       "1       2          3       alfa-romero stelvio      gas        std        two   \n",
       "2       3          1  alfa-romero Quadrifoglio      gas        std        two   \n",
       "3       4          2               audi 100 ls      gas        std       four   \n",
       "4       5          2                audi 100ls      gas        std       four   \n",
       "\n",
       "       carbody drivewheel enginelocation  wheelbase  ...  enginesize  \\\n",
       "0  convertible        rwd          front       88.6  ...         130   \n",
       "1  convertible        rwd          front       88.6  ...         130   \n",
       "2    hatchback        rwd          front       94.5  ...         152   \n",
       "3        sedan        fwd          front       99.8  ...         109   \n",
       "4        sedan        4wd          front       99.4  ...         136   \n",
       "\n",
       "   fuelsystem  boreratio  stroke compressionratio horsepower  peakrpm citympg  \\\n",
       "0        mpfi       3.47    2.68              9.0        111     5000      21   \n",
       "1        mpfi       3.47    2.68              9.0        111     5000      21   \n",
       "2        mpfi       2.68    3.47              9.0        154     5000      19   \n",
       "3        mpfi       3.19    3.40             10.0        102     5500      24   \n",
       "4        mpfi       3.19    3.40              8.0        115     5500      18   \n",
       "\n",
       "   highwaympg    price  \n",
       "0          27  13495.0  \n",
       "1          27  16500.0  \n",
       "2          26  16500.0  \n",
       "3          30  13950.0  \n",
       "4          22  17450.0  \n",
       "\n",
       "[5 rows x 26 columns]"
      ]
     },
     "execution_count": 2,
     "metadata": {},
     "output_type": "execute_result"
    }
   ],
   "source": [
    "car_price=pd.read_csv('CarPrice_Assignment.csv')\n",
    "car_price.head()"
   ]
  },
  {
   "cell_type": "markdown",
   "metadata": {},
   "source": [
    "### Analyse the dataframe using info and describe methods"
   ]
  },
  {
   "cell_type": "code",
   "execution_count": 3,
   "metadata": {},
   "outputs": [
    {
     "data": {
      "text/html": [
       "<div>\n",
       "<style scoped>\n",
       "    .dataframe tbody tr th:only-of-type {\n",
       "        vertical-align: middle;\n",
       "    }\n",
       "\n",
       "    .dataframe tbody tr th {\n",
       "        vertical-align: top;\n",
       "    }\n",
       "\n",
       "    .dataframe thead th {\n",
       "        text-align: right;\n",
       "    }\n",
       "</style>\n",
       "<table border=\"1\" class=\"dataframe\">\n",
       "  <thead>\n",
       "    <tr style=\"text-align: right;\">\n",
       "      <th></th>\n",
       "      <th>car_ID</th>\n",
       "      <th>symboling</th>\n",
       "      <th>wheelbase</th>\n",
       "      <th>carlength</th>\n",
       "      <th>carwidth</th>\n",
       "      <th>carheight</th>\n",
       "      <th>curbweight</th>\n",
       "      <th>enginesize</th>\n",
       "      <th>boreratio</th>\n",
       "      <th>stroke</th>\n",
       "      <th>compressionratio</th>\n",
       "      <th>horsepower</th>\n",
       "      <th>peakrpm</th>\n",
       "      <th>citympg</th>\n",
       "      <th>highwaympg</th>\n",
       "      <th>price</th>\n",
       "    </tr>\n",
       "  </thead>\n",
       "  <tbody>\n",
       "    <tr>\n",
       "      <th>count</th>\n",
       "      <td>205.000000</td>\n",
       "      <td>205.000000</td>\n",
       "      <td>205.000000</td>\n",
       "      <td>205.000000</td>\n",
       "      <td>205.000000</td>\n",
       "      <td>205.000000</td>\n",
       "      <td>205.000000</td>\n",
       "      <td>205.000000</td>\n",
       "      <td>205.000000</td>\n",
       "      <td>205.000000</td>\n",
       "      <td>205.000000</td>\n",
       "      <td>205.000000</td>\n",
       "      <td>205.000000</td>\n",
       "      <td>205.000000</td>\n",
       "      <td>205.000000</td>\n",
       "      <td>205.000000</td>\n",
       "    </tr>\n",
       "    <tr>\n",
       "      <th>mean</th>\n",
       "      <td>103.000000</td>\n",
       "      <td>0.834146</td>\n",
       "      <td>98.756585</td>\n",
       "      <td>174.049268</td>\n",
       "      <td>65.907805</td>\n",
       "      <td>53.724878</td>\n",
       "      <td>2555.565854</td>\n",
       "      <td>126.907317</td>\n",
       "      <td>3.329756</td>\n",
       "      <td>3.255415</td>\n",
       "      <td>10.142537</td>\n",
       "      <td>104.117073</td>\n",
       "      <td>5125.121951</td>\n",
       "      <td>25.219512</td>\n",
       "      <td>30.751220</td>\n",
       "      <td>13276.710571</td>\n",
       "    </tr>\n",
       "    <tr>\n",
       "      <th>std</th>\n",
       "      <td>59.322565</td>\n",
       "      <td>1.245307</td>\n",
       "      <td>6.021776</td>\n",
       "      <td>12.337289</td>\n",
       "      <td>2.145204</td>\n",
       "      <td>2.443522</td>\n",
       "      <td>520.680204</td>\n",
       "      <td>41.642693</td>\n",
       "      <td>0.270844</td>\n",
       "      <td>0.313597</td>\n",
       "      <td>3.972040</td>\n",
       "      <td>39.544167</td>\n",
       "      <td>476.985643</td>\n",
       "      <td>6.542142</td>\n",
       "      <td>6.886443</td>\n",
       "      <td>7988.852332</td>\n",
       "    </tr>\n",
       "    <tr>\n",
       "      <th>min</th>\n",
       "      <td>1.000000</td>\n",
       "      <td>-2.000000</td>\n",
       "      <td>86.600000</td>\n",
       "      <td>141.100000</td>\n",
       "      <td>60.300000</td>\n",
       "      <td>47.800000</td>\n",
       "      <td>1488.000000</td>\n",
       "      <td>61.000000</td>\n",
       "      <td>2.540000</td>\n",
       "      <td>2.070000</td>\n",
       "      <td>7.000000</td>\n",
       "      <td>48.000000</td>\n",
       "      <td>4150.000000</td>\n",
       "      <td>13.000000</td>\n",
       "      <td>16.000000</td>\n",
       "      <td>5118.000000</td>\n",
       "    </tr>\n",
       "    <tr>\n",
       "      <th>25%</th>\n",
       "      <td>52.000000</td>\n",
       "      <td>0.000000</td>\n",
       "      <td>94.500000</td>\n",
       "      <td>166.300000</td>\n",
       "      <td>64.100000</td>\n",
       "      <td>52.000000</td>\n",
       "      <td>2145.000000</td>\n",
       "      <td>97.000000</td>\n",
       "      <td>3.150000</td>\n",
       "      <td>3.110000</td>\n",
       "      <td>8.600000</td>\n",
       "      <td>70.000000</td>\n",
       "      <td>4800.000000</td>\n",
       "      <td>19.000000</td>\n",
       "      <td>25.000000</td>\n",
       "      <td>7788.000000</td>\n",
       "    </tr>\n",
       "    <tr>\n",
       "      <th>50%</th>\n",
       "      <td>103.000000</td>\n",
       "      <td>1.000000</td>\n",
       "      <td>97.000000</td>\n",
       "      <td>173.200000</td>\n",
       "      <td>65.500000</td>\n",
       "      <td>54.100000</td>\n",
       "      <td>2414.000000</td>\n",
       "      <td>120.000000</td>\n",
       "      <td>3.310000</td>\n",
       "      <td>3.290000</td>\n",
       "      <td>9.000000</td>\n",
       "      <td>95.000000</td>\n",
       "      <td>5200.000000</td>\n",
       "      <td>24.000000</td>\n",
       "      <td>30.000000</td>\n",
       "      <td>10295.000000</td>\n",
       "    </tr>\n",
       "    <tr>\n",
       "      <th>75%</th>\n",
       "      <td>154.000000</td>\n",
       "      <td>2.000000</td>\n",
       "      <td>102.400000</td>\n",
       "      <td>183.100000</td>\n",
       "      <td>66.900000</td>\n",
       "      <td>55.500000</td>\n",
       "      <td>2935.000000</td>\n",
       "      <td>141.000000</td>\n",
       "      <td>3.580000</td>\n",
       "      <td>3.410000</td>\n",
       "      <td>9.400000</td>\n",
       "      <td>116.000000</td>\n",
       "      <td>5500.000000</td>\n",
       "      <td>30.000000</td>\n",
       "      <td>34.000000</td>\n",
       "      <td>16503.000000</td>\n",
       "    </tr>\n",
       "    <tr>\n",
       "      <th>max</th>\n",
       "      <td>205.000000</td>\n",
       "      <td>3.000000</td>\n",
       "      <td>120.900000</td>\n",
       "      <td>208.100000</td>\n",
       "      <td>72.300000</td>\n",
       "      <td>59.800000</td>\n",
       "      <td>4066.000000</td>\n",
       "      <td>326.000000</td>\n",
       "      <td>3.940000</td>\n",
       "      <td>4.170000</td>\n",
       "      <td>23.000000</td>\n",
       "      <td>288.000000</td>\n",
       "      <td>6600.000000</td>\n",
       "      <td>49.000000</td>\n",
       "      <td>54.000000</td>\n",
       "      <td>45400.000000</td>\n",
       "    </tr>\n",
       "  </tbody>\n",
       "</table>\n",
       "</div>"
      ],
      "text/plain": [
       "           car_ID   symboling   wheelbase   carlength    carwidth   carheight  \\\n",
       "count  205.000000  205.000000  205.000000  205.000000  205.000000  205.000000   \n",
       "mean   103.000000    0.834146   98.756585  174.049268   65.907805   53.724878   \n",
       "std     59.322565    1.245307    6.021776   12.337289    2.145204    2.443522   \n",
       "min      1.000000   -2.000000   86.600000  141.100000   60.300000   47.800000   \n",
       "25%     52.000000    0.000000   94.500000  166.300000   64.100000   52.000000   \n",
       "50%    103.000000    1.000000   97.000000  173.200000   65.500000   54.100000   \n",
       "75%    154.000000    2.000000  102.400000  183.100000   66.900000   55.500000   \n",
       "max    205.000000    3.000000  120.900000  208.100000   72.300000   59.800000   \n",
       "\n",
       "        curbweight  enginesize   boreratio      stroke  compressionratio  \\\n",
       "count   205.000000  205.000000  205.000000  205.000000        205.000000   \n",
       "mean   2555.565854  126.907317    3.329756    3.255415         10.142537   \n",
       "std     520.680204   41.642693    0.270844    0.313597          3.972040   \n",
       "min    1488.000000   61.000000    2.540000    2.070000          7.000000   \n",
       "25%    2145.000000   97.000000    3.150000    3.110000          8.600000   \n",
       "50%    2414.000000  120.000000    3.310000    3.290000          9.000000   \n",
       "75%    2935.000000  141.000000    3.580000    3.410000          9.400000   \n",
       "max    4066.000000  326.000000    3.940000    4.170000         23.000000   \n",
       "\n",
       "       horsepower      peakrpm     citympg  highwaympg         price  \n",
       "count  205.000000   205.000000  205.000000  205.000000    205.000000  \n",
       "mean   104.117073  5125.121951   25.219512   30.751220  13276.710571  \n",
       "std     39.544167   476.985643    6.542142    6.886443   7988.852332  \n",
       "min     48.000000  4150.000000   13.000000   16.000000   5118.000000  \n",
       "25%     70.000000  4800.000000   19.000000   25.000000   7788.000000  \n",
       "50%     95.000000  5200.000000   24.000000   30.000000  10295.000000  \n",
       "75%    116.000000  5500.000000   30.000000   34.000000  16503.000000  \n",
       "max    288.000000  6600.000000   49.000000   54.000000  45400.000000  "
      ]
     },
     "execution_count": 3,
     "metadata": {},
     "output_type": "execute_result"
    }
   ],
   "source": [
    "car_price.describe()"
   ]
  },
  {
   "cell_type": "code",
   "execution_count": 4,
   "metadata": {},
   "outputs": [
    {
     "name": "stdout",
     "output_type": "stream",
     "text": [
      "<class 'pandas.core.frame.DataFrame'>\n",
      "RangeIndex: 205 entries, 0 to 204\n",
      "Data columns (total 26 columns):\n",
      "car_ID              205 non-null int64\n",
      "symboling           205 non-null int64\n",
      "CarName             205 non-null object\n",
      "fueltype            205 non-null object\n",
      "aspiration          205 non-null object\n",
      "doornumber          205 non-null object\n",
      "carbody             205 non-null object\n",
      "drivewheel          205 non-null object\n",
      "enginelocation      205 non-null object\n",
      "wheelbase           205 non-null float64\n",
      "carlength           205 non-null float64\n",
      "carwidth            205 non-null float64\n",
      "carheight           205 non-null float64\n",
      "curbweight          205 non-null int64\n",
      "enginetype          205 non-null object\n",
      "cylindernumber      205 non-null object\n",
      "enginesize          205 non-null int64\n",
      "fuelsystem          205 non-null object\n",
      "boreratio           205 non-null float64\n",
      "stroke              205 non-null float64\n",
      "compressionratio    205 non-null float64\n",
      "horsepower          205 non-null int64\n",
      "peakrpm             205 non-null int64\n",
      "citympg             205 non-null int64\n",
      "highwaympg          205 non-null int64\n",
      "price               205 non-null float64\n",
      "dtypes: float64(8), int64(8), object(10)\n",
      "memory usage: 41.7+ KB\n"
     ]
    }
   ],
   "source": [
    "car_price.info()"
   ]
  },
  {
   "cell_type": "markdown",
   "metadata": {},
   "source": [
    "### As the info of the dataframe shows that there are no null values, so null value treatment is not required\n",
    "#### Change the data types as below\n",
    "- convert symboling into char, as these are categorical variable\n",
    "- set car_ID as index of the dataframe\n",
    "    "
   ]
  },
  {
   "cell_type": "code",
   "execution_count": 5,
   "metadata": {},
   "outputs": [],
   "source": [
    "conv_dict={'car_ID':object,'symboling':object}\n",
    "car_price=car_price.astype(conv_dict)"
   ]
  },
  {
   "cell_type": "code",
   "execution_count": 6,
   "metadata": {},
   "outputs": [],
   "source": [
    "car_price.set_index('car_ID',inplace=True)"
   ]
  },
  {
   "cell_type": "markdown",
   "metadata": {},
   "source": [
    "#### Seperating the Company name with car model\n"
   ]
  },
  {
   "cell_type": "code",
   "execution_count": 7,
   "metadata": {},
   "outputs": [
    {
     "data": {
      "text/html": [
       "<div>\n",
       "<style scoped>\n",
       "    .dataframe tbody tr th:only-of-type {\n",
       "        vertical-align: middle;\n",
       "    }\n",
       "\n",
       "    .dataframe tbody tr th {\n",
       "        vertical-align: top;\n",
       "    }\n",
       "\n",
       "    .dataframe thead th {\n",
       "        text-align: right;\n",
       "    }\n",
       "</style>\n",
       "<table border=\"1\" class=\"dataframe\">\n",
       "  <thead>\n",
       "    <tr style=\"text-align: right;\">\n",
       "      <th></th>\n",
       "      <th>Manufacturer</th>\n",
       "      <th>Model</th>\n",
       "    </tr>\n",
       "    <tr>\n",
       "      <th>car_ID</th>\n",
       "      <th></th>\n",
       "      <th></th>\n",
       "    </tr>\n",
       "  </thead>\n",
       "  <tbody>\n",
       "    <tr>\n",
       "      <th>1</th>\n",
       "      <td>alfa-romero</td>\n",
       "      <td>giulia</td>\n",
       "    </tr>\n",
       "    <tr>\n",
       "      <th>2</th>\n",
       "      <td>alfa-romero</td>\n",
       "      <td>stelvio</td>\n",
       "    </tr>\n",
       "    <tr>\n",
       "      <th>3</th>\n",
       "      <td>alfa-romero</td>\n",
       "      <td>Quadrifoglio</td>\n",
       "    </tr>\n",
       "    <tr>\n",
       "      <th>4</th>\n",
       "      <td>audi</td>\n",
       "      <td>100</td>\n",
       "    </tr>\n",
       "    <tr>\n",
       "      <th>5</th>\n",
       "      <td>audi</td>\n",
       "      <td>100ls</td>\n",
       "    </tr>\n",
       "  </tbody>\n",
       "</table>\n",
       "</div>"
      ],
      "text/plain": [
       "       Manufacturer         Model\n",
       "car_ID                           \n",
       "1       alfa-romero        giulia\n",
       "2       alfa-romero       stelvio\n",
       "3       alfa-romero  Quadrifoglio\n",
       "4              audi           100\n",
       "5              audi         100ls"
      ]
     },
     "execution_count": 7,
     "metadata": {},
     "output_type": "execute_result"
    }
   ],
   "source": [
    "# Create a temporary dataframe splitting the CarName into Company Name and Car model\n",
    "temp=car_price.CarName.str.split(expand=True)\n",
    "temp=temp.drop([2,3,4],axis=True)\n",
    "temp.columns = ['Manufacturer','Model']\n",
    "temp.head()"
   ]
  },
  {
   "cell_type": "code",
   "execution_count": 8,
   "metadata": {},
   "outputs": [],
   "source": [
    "## Merge this temp dataframe into original frame based on car_ID and drop Model and CarName columns as not required\n",
    "car_price=pd.concat([car_price,temp], axis=1, ignore_index=False,sort=False)\n",
    "car_price=car_price.drop(['CarName','Model'],axis=1)"
   ]
  },
  {
   "cell_type": "code",
   "execution_count": 9,
   "metadata": {},
   "outputs": [
    {
     "data": {
      "text/html": [
       "<div>\n",
       "<style scoped>\n",
       "    .dataframe tbody tr th:only-of-type {\n",
       "        vertical-align: middle;\n",
       "    }\n",
       "\n",
       "    .dataframe tbody tr th {\n",
       "        vertical-align: top;\n",
       "    }\n",
       "\n",
       "    .dataframe thead th {\n",
       "        text-align: right;\n",
       "    }\n",
       "</style>\n",
       "<table border=\"1\" class=\"dataframe\">\n",
       "  <thead>\n",
       "    <tr style=\"text-align: right;\">\n",
       "      <th></th>\n",
       "      <th>symboling</th>\n",
       "      <th>fueltype</th>\n",
       "      <th>aspiration</th>\n",
       "      <th>doornumber</th>\n",
       "      <th>carbody</th>\n",
       "      <th>drivewheel</th>\n",
       "      <th>enginelocation</th>\n",
       "      <th>wheelbase</th>\n",
       "      <th>carlength</th>\n",
       "      <th>carwidth</th>\n",
       "      <th>...</th>\n",
       "      <th>fuelsystem</th>\n",
       "      <th>boreratio</th>\n",
       "      <th>stroke</th>\n",
       "      <th>compressionratio</th>\n",
       "      <th>horsepower</th>\n",
       "      <th>peakrpm</th>\n",
       "      <th>citympg</th>\n",
       "      <th>highwaympg</th>\n",
       "      <th>price</th>\n",
       "      <th>Manufacturer</th>\n",
       "    </tr>\n",
       "    <tr>\n",
       "      <th>car_ID</th>\n",
       "      <th></th>\n",
       "      <th></th>\n",
       "      <th></th>\n",
       "      <th></th>\n",
       "      <th></th>\n",
       "      <th></th>\n",
       "      <th></th>\n",
       "      <th></th>\n",
       "      <th></th>\n",
       "      <th></th>\n",
       "      <th></th>\n",
       "      <th></th>\n",
       "      <th></th>\n",
       "      <th></th>\n",
       "      <th></th>\n",
       "      <th></th>\n",
       "      <th></th>\n",
       "      <th></th>\n",
       "      <th></th>\n",
       "      <th></th>\n",
       "      <th></th>\n",
       "    </tr>\n",
       "  </thead>\n",
       "  <tbody>\n",
       "    <tr>\n",
       "      <th>1</th>\n",
       "      <td>3</td>\n",
       "      <td>gas</td>\n",
       "      <td>std</td>\n",
       "      <td>two</td>\n",
       "      <td>convertible</td>\n",
       "      <td>rwd</td>\n",
       "      <td>front</td>\n",
       "      <td>88.6</td>\n",
       "      <td>168.8</td>\n",
       "      <td>64.1</td>\n",
       "      <td>...</td>\n",
       "      <td>mpfi</td>\n",
       "      <td>3.47</td>\n",
       "      <td>2.68</td>\n",
       "      <td>9.0</td>\n",
       "      <td>111</td>\n",
       "      <td>5000</td>\n",
       "      <td>21</td>\n",
       "      <td>27</td>\n",
       "      <td>13495.0</td>\n",
       "      <td>alfa-romero</td>\n",
       "    </tr>\n",
       "    <tr>\n",
       "      <th>2</th>\n",
       "      <td>3</td>\n",
       "      <td>gas</td>\n",
       "      <td>std</td>\n",
       "      <td>two</td>\n",
       "      <td>convertible</td>\n",
       "      <td>rwd</td>\n",
       "      <td>front</td>\n",
       "      <td>88.6</td>\n",
       "      <td>168.8</td>\n",
       "      <td>64.1</td>\n",
       "      <td>...</td>\n",
       "      <td>mpfi</td>\n",
       "      <td>3.47</td>\n",
       "      <td>2.68</td>\n",
       "      <td>9.0</td>\n",
       "      <td>111</td>\n",
       "      <td>5000</td>\n",
       "      <td>21</td>\n",
       "      <td>27</td>\n",
       "      <td>16500.0</td>\n",
       "      <td>alfa-romero</td>\n",
       "    </tr>\n",
       "    <tr>\n",
       "      <th>3</th>\n",
       "      <td>1</td>\n",
       "      <td>gas</td>\n",
       "      <td>std</td>\n",
       "      <td>two</td>\n",
       "      <td>hatchback</td>\n",
       "      <td>rwd</td>\n",
       "      <td>front</td>\n",
       "      <td>94.5</td>\n",
       "      <td>171.2</td>\n",
       "      <td>65.5</td>\n",
       "      <td>...</td>\n",
       "      <td>mpfi</td>\n",
       "      <td>2.68</td>\n",
       "      <td>3.47</td>\n",
       "      <td>9.0</td>\n",
       "      <td>154</td>\n",
       "      <td>5000</td>\n",
       "      <td>19</td>\n",
       "      <td>26</td>\n",
       "      <td>16500.0</td>\n",
       "      <td>alfa-romero</td>\n",
       "    </tr>\n",
       "    <tr>\n",
       "      <th>4</th>\n",
       "      <td>2</td>\n",
       "      <td>gas</td>\n",
       "      <td>std</td>\n",
       "      <td>four</td>\n",
       "      <td>sedan</td>\n",
       "      <td>fwd</td>\n",
       "      <td>front</td>\n",
       "      <td>99.8</td>\n",
       "      <td>176.6</td>\n",
       "      <td>66.2</td>\n",
       "      <td>...</td>\n",
       "      <td>mpfi</td>\n",
       "      <td>3.19</td>\n",
       "      <td>3.40</td>\n",
       "      <td>10.0</td>\n",
       "      <td>102</td>\n",
       "      <td>5500</td>\n",
       "      <td>24</td>\n",
       "      <td>30</td>\n",
       "      <td>13950.0</td>\n",
       "      <td>audi</td>\n",
       "    </tr>\n",
       "    <tr>\n",
       "      <th>5</th>\n",
       "      <td>2</td>\n",
       "      <td>gas</td>\n",
       "      <td>std</td>\n",
       "      <td>four</td>\n",
       "      <td>sedan</td>\n",
       "      <td>4wd</td>\n",
       "      <td>front</td>\n",
       "      <td>99.4</td>\n",
       "      <td>176.6</td>\n",
       "      <td>66.4</td>\n",
       "      <td>...</td>\n",
       "      <td>mpfi</td>\n",
       "      <td>3.19</td>\n",
       "      <td>3.40</td>\n",
       "      <td>8.0</td>\n",
       "      <td>115</td>\n",
       "      <td>5500</td>\n",
       "      <td>18</td>\n",
       "      <td>22</td>\n",
       "      <td>17450.0</td>\n",
       "      <td>audi</td>\n",
       "    </tr>\n",
       "  </tbody>\n",
       "</table>\n",
       "<p>5 rows × 25 columns</p>\n",
       "</div>"
      ],
      "text/plain": [
       "       symboling fueltype aspiration doornumber      carbody drivewheel  \\\n",
       "car_ID                                                                    \n",
       "1              3      gas        std        two  convertible        rwd   \n",
       "2              3      gas        std        two  convertible        rwd   \n",
       "3              1      gas        std        two    hatchback        rwd   \n",
       "4              2      gas        std       four        sedan        fwd   \n",
       "5              2      gas        std       four        sedan        4wd   \n",
       "\n",
       "       enginelocation  wheelbase  carlength  carwidth  ...  fuelsystem  \\\n",
       "car_ID                                                 ...               \n",
       "1               front       88.6      168.8      64.1  ...        mpfi   \n",
       "2               front       88.6      168.8      64.1  ...        mpfi   \n",
       "3               front       94.5      171.2      65.5  ...        mpfi   \n",
       "4               front       99.8      176.6      66.2  ...        mpfi   \n",
       "5               front       99.4      176.6      66.4  ...        mpfi   \n",
       "\n",
       "        boreratio stroke compressionratio  horsepower peakrpm  citympg  \\\n",
       "car_ID                                                                   \n",
       "1            3.47   2.68              9.0         111    5000       21   \n",
       "2            3.47   2.68              9.0         111    5000       21   \n",
       "3            2.68   3.47              9.0         154    5000       19   \n",
       "4            3.19   3.40             10.0         102    5500       24   \n",
       "5            3.19   3.40              8.0         115    5500       18   \n",
       "\n",
       "        highwaympg    price  Manufacturer  \n",
       "car_ID                                     \n",
       "1               27  13495.0   alfa-romero  \n",
       "2               27  16500.0   alfa-romero  \n",
       "3               26  16500.0   alfa-romero  \n",
       "4               30  13950.0          audi  \n",
       "5               22  17450.0          audi  \n",
       "\n",
       "[5 rows x 25 columns]"
      ]
     },
     "execution_count": 9,
     "metadata": {},
     "output_type": "execute_result"
    }
   ],
   "source": [
    "car_price.head()"
   ]
  },
  {
   "cell_type": "code",
   "execution_count": 10,
   "metadata": {},
   "outputs": [
    {
     "data": {
      "text/plain": [
       "toyouta         1\n",
       "mercury         1\n",
       "Nissan          1\n",
       "porcshce        1\n",
       "vokswagen       1\n",
       "vw              2\n",
       "maxda           2\n",
       "renault         2\n",
       "chevrolet       3\n",
       "alfa-romero     3\n",
       "jaguar          3\n",
       "isuzu           4\n",
       "porsche         4\n",
       "saab            6\n",
       "plymouth        7\n",
       "audi            7\n",
       "buick           8\n",
       "bmw             8\n",
       "dodge           9\n",
       "volkswagen      9\n",
       "peugeot        11\n",
       "volvo          11\n",
       "subaru         12\n",
       "honda          13\n",
       "mitsubishi     13\n",
       "mazda          15\n",
       "nissan         17\n",
       "toyota         31\n",
       "Name: Manufacturer, dtype: int64"
      ]
     },
     "execution_count": 10,
     "metadata": {},
     "output_type": "execute_result"
    }
   ],
   "source": [
    "# Check Distinct Values in column Manufacturer\n",
    "car_price.Manufacturer.value_counts().sort_values()"
   ]
  },
  {
   "cell_type": "code",
   "execution_count": 11,
   "metadata": {},
   "outputs": [
    {
     "data": {
      "text/plain": [
       "mercury         1\n",
       "renault         2\n",
       "chevrolet       3\n",
       "jaguar          3\n",
       "alfa-romero     3\n",
       "isuzu           4\n",
       "porsche         5\n",
       "saab            6\n",
       "audi            7\n",
       "plymouth        7\n",
       "buick           8\n",
       "bmw             8\n",
       "dodge           9\n",
       "volvo          11\n",
       "peugeot        11\n",
       "volkswagen     12\n",
       "subaru         12\n",
       "mitsubishi     13\n",
       "honda          13\n",
       "mazda          17\n",
       "nissan         18\n",
       "toyota         32\n",
       "Name: Manufacturer, dtype: int64"
      ]
     },
     "execution_count": 11,
     "metadata": {},
     "output_type": "execute_result"
    }
   ],
   "source": [
    "# Update the incorrect column values of the Manufacturer column\n",
    "car_price.loc[car_price['Manufacturer'] == 'toyouta','Manufacturer' ] = 'toyota'\n",
    "car_price.loc[car_price['Manufacturer'] == 'Nissan','Manufacturer' ] = 'nissan'\n",
    "car_price.loc[car_price['Manufacturer'] == 'vokswagen','Manufacturer' ] = 'volkswagen'\n",
    "car_price.loc[car_price['Manufacturer'] == 'porcshce','Manufacturer' ] = 'porsche'\n",
    "car_price.loc[car_price['Manufacturer'] == 'maxda','Manufacturer' ] = 'mazda'\n",
    "car_price.loc[car_price['Manufacturer'] == 'vw','Manufacturer' ] = 'volkswagen'\n",
    "car_price.Manufacturer.value_counts().sort_values()"
   ]
  },
  {
   "cell_type": "markdown",
   "metadata": {},
   "source": [
    "### Now let'sfirst figure out if we can apply the linear regression model on the given dataset or not\n",
    "- Check if the dependent varaible and independent variables follow some linear pattern\n",
    "- Check for the multicolinearity, ie. the how much the non independent variables are correlated to each other"
   ]
  },
  {
   "cell_type": "markdown",
   "metadata": {},
   "source": [
    "### Plot the scatterplot of the dependent varaible(Price) with all other numeric(intiger) indipendent variables"
   ]
  },
  {
   "cell_type": "code",
   "execution_count": 12,
   "metadata": {},
   "outputs": [],
   "source": [
    "# Get the list of the variables having int data type\n",
    "data_types = car_price.columns.to_series().groupby(car_price.dtypes).groups\n",
    "#print(data_types)\n",
    "int_var=[]\n",
    "for i in data_types.keys():\n",
    "    if i=='int64':\n",
    "        int_var.append(data_types[i])\n",
    "int_var=list(int_var[0])\n",
    "\n",
    "float_var=[]\n",
    "for i in data_types.keys():\n",
    "    if i=='float64':\n",
    "        float_var.append(data_types[i])\n",
    "float_var=list(float_var[0])"
   ]
  },
  {
   "cell_type": "code",
   "execution_count": 13,
   "metadata": {},
   "outputs": [
    {
     "name": "stdout",
     "output_type": "stream",
     "text": [
      "curbweight\n"
     ]
    },
    {
     "data": {
      "image/png": "[encoded data removed]",
      "text/plain": [
       "<Figure size 432x288 with 1 Axes>"
      ]
     },
     "metadata": {
      "needs_background": "light"
     },
     "output_type": "display_data"
    },
    {
     "name": "stdout",
     "output_type": "stream",
     "text": [
      "enginesize\n"
     ]
    },
    {
     "data": {
      "image/png": "[encoded data removed]",
      "text/plain": [
       "<Figure size 432x288 with 1 Axes>"
      ]
     },
     "metadata": {
      "needs_background": "light"
     },
     "output_type": "display_data"
    },
    {
     "name": "stdout",
     "output_type": "stream",
     "text": [
      "horsepower\n"
     ]
    },
    {
     "data": {
      "image/png": "[encoded data removed]",
      "text/plain": [
       "<Figure size 432x288 with 1 Axes>"
      ]
     },
     "metadata": {
      "needs_background": "light"
     },
     "output_type": "display_data"
    },
    {
     "name": "stdout",
     "output_type": "stream",
     "text": [
      "peakrpm\n"
     ]
    },
    {
     "data": {
      "image/png": "[encoded data removed]",
      "text/plain": [
       "<Figure size 432x288 with 1 Axes>"
      ]
     },
     "metadata": {
      "needs_background": "light"
     },
     "output_type": "display_data"
    },
    {
     "name": "stdout",
     "output_type": "stream",
     "text": [
      "citympg\n"
     ]
    },
    {
     "data": {
      "image/png": "[encoded data removed]",
      "text/plain": [
       "<Figure size 432x288 with 1 Axes>"
      ]
     },
     "metadata": {
      "needs_background": "light"
     },
     "output_type": "display_data"
    },
    {
     "name": "stdout",
     "output_type": "stream",
     "text": [
      "highwaympg\n"
     ]
    },
    {
     "data": {
      "image/png": "[encoded data removed]",
      "text/plain": [
       "<Figure size 432x288 with 1 Axes>"
      ]
     },
     "metadata": {
      "needs_background": "light"
     },
     "output_type": "display_data"
    }
   ],
   "source": [
    "for i in int_var:\n",
    "    print (i)\n",
    "    plt.scatter(car_price[i],car_price['price'])\n",
    "    plt.xlabel(i,fontsize=18)\n",
    "    plt.ylabel('CAR PRICE',fontsize=18)\n",
    "    plt.show()"
   ]
  },
  {
   "cell_type": "markdown",
   "metadata": {},
   "source": [
    "### Plot the scatterplot of the dependent varaible(Price) with all other numeric(Float) indipendent variables"
   ]
  },
  {
   "cell_type": "code",
   "execution_count": 14,
   "metadata": {},
   "outputs": [
    {
     "name": "stdout",
     "output_type": "stream",
     "text": [
      "wheelbase\n"
     ]
    },
    {
     "data": {
      "image/png": "[encoded data removed]",
      "text/plain": [
       "<Figure size 432x288 with 1 Axes>"
      ]
     },
     "metadata": {
      "needs_background": "light"
     },
     "output_type": "display_data"
    },
    {
     "name": "stdout",
     "output_type": "stream",
     "text": [
      "carlength\n"
     ]
    },
    {
     "data": {
      "image/png": "[encoded data removed]",
      "text/plain": [
       "<Figure size 432x288 with 1 Axes>"
      ]
     },
     "metadata": {
      "needs_background": "light"
     },
     "output_type": "display_data"
    },
    {
     "name": "stdout",
     "output_type": "stream",
     "text": [
      "carwidth\n"
     ]
    },
    {
     "data": {
      "image/png": "[encoded data removed]",
      "text/plain": [
       "<Figure size 432x288 with 1 Axes>"
      ]
     },
     "metadata": {
      "needs_background": "light"
     },
     "output_type": "display_data"
    },
    {
     "name": "stdout",
     "output_type": "stream",
     "text": [
      "carheight\n"
     ]
    },
    {
     "data": {
      "image/png": "[encoded data removed]",
      "text/plain": [
       "<Figure size 432x288 with 1 Axes>"
      ]
     },
     "metadata": {
      "needs_background": "light"
     },
     "output_type": "display_data"
    },
    {
     "name": "stdout",
     "output_type": "stream",
     "text": [
      "boreratio\n"
     ]
    },
    {
     "data": {
      "image/png": "[encoded data removed]",
      "text/plain": [
       "<Figure size 432x288 with 1 Axes>"
      ]
     },
     "metadata": {
      "needs_background": "light"
     },
     "output_type": "display_data"
    },
    {
     "name": "stdout",
     "output_type": "stream",
     "text": [
      "stroke\n"
     ]
    },
    {
     "data": {
      "image/png": "[encoded data removed]",
      "text/plain": [
       "<Figure size 432x288 with 1 Axes>"
      ]
     },
     "metadata": {
      "needs_background": "light"
     },
     "output_type": "display_data"
    },
    {
     "name": "stdout",
     "output_type": "stream",
     "text": [
      "compressionratio\n"
     ]
    },
    {
     "data": {
      "image/png": "[encoded data removed]",
      "text/plain": [
       "<Figure size 432x288 with 1 Axes>"
      ]
     },
     "metadata": {
      "needs_background": "light"
     },
     "output_type": "display_data"
    },
    {
     "name": "stdout",
     "output_type": "stream",
     "text": [
      "price\n"
     ]
    },
    {
     "data": {
      "image/png": "[encoded data removed]",
      "text/plain": [
       "<Figure size 432x288 with 1 Axes>"
      ]
     },
     "metadata": {
      "needs_background": "light"
     },
     "output_type": "display_data"
    }
   ],
   "source": [
    "for i in float_var:\n",
    "    print (i)\n",
    "    plt.scatter(car_price[i],car_price['price'])\n",
    "    plt.xlabel(i,fontsize=18)\n",
    "    plt.ylabel('CAR PRICE',fontsize=18)\n",
    "    plt.show()"
   ]
  },
  {
   "cell_type": "markdown",
   "metadata": {},
   "source": [
    "### Now let's visualise the Categorical data by plotting the box plot"
   ]
  },
  {
   "cell_type": "code",
   "execution_count": 15,
   "metadata": {},
   "outputs": [
    {
     "name": "stdout",
     "output_type": "stream",
     "text": [
      "['symboling', 'fueltype', 'aspiration', 'doornumber', 'carbody', 'drivewheel', 'enginelocation', 'enginetype', 'cylindernumber', 'fuelsystem', 'Manufacturer']\n",
      "['fueltype', 'aspiration', 'doornumber', 'carbody', 'drivewheel', 'enginelocation', 'enginetype', 'cylindernumber', 'fuelsystem', 'Manufacturer', 'symboling']\n"
     ]
    }
   ],
   "source": [
    "### Fetch the list of the categorical Variables\n",
    "cat_var=[]\n",
    "for i in data_types.keys():\n",
    "    if i=='object':\n",
    "        cat_var.append(data_types[i])\n",
    "cat_var=list(cat_var[0])\n",
    "print(cat_var)\n",
    "temp=cat_var[1:12]\n",
    "temp.append(cat_var[0])\n",
    "cat_var=temp\n",
    "print(temp)"
   ]
  },
  {
   "cell_type": "code",
   "execution_count": 16,
   "metadata": {},
   "outputs": [
    {
     "data": {
      "image/png": "[encoded data removed]",
      "text/plain": [
       "<Figure size 2160x1800 with 11 Axes>"
      ]
     },
     "metadata": {
      "needs_background": "light"
     },
     "output_type": "display_data"
    }
   ],
   "source": [
    "### Plot the box plot between Price and independent categorical variables\n",
    "plt.figure(figsize=(30,25))\n",
    "for i,j in zip(cat_var,range(1,12)):\n",
    "    plt.subplot(6,2,j)\n",
    "    sns.boxplot(x=i,y='price', data = car_price)\n",
    "    "
   ]
  },
  {
   "cell_type": "markdown",
   "metadata": {},
   "source": [
    "## Data Preperation\n",
    "- Convert Binary ctegorical variables to 0/1\n",
    "- Convert other categorical variables to dummy variables"
   ]
  },
  {
   "cell_type": "code",
   "execution_count": 17,
   "metadata": {},
   "outputs": [
    {
     "name": "stdout",
     "output_type": "stream",
     "text": [
      "diesel     20\n",
      "gas       185\n",
      "Name: fueltype, dtype: int64\n",
      "turbo     37\n",
      "std      168\n",
      "Name: aspiration, dtype: int64\n",
      "two      90\n",
      "four    115\n",
      "Name: doornumber, dtype: int64\n",
      "convertible     6\n",
      "hardtop         8\n",
      "wagon          25\n",
      "hatchback      70\n",
      "sedan          96\n",
      "Name: carbody, dtype: int64\n",
      "4wd      9\n",
      "rwd     76\n",
      "fwd    120\n",
      "Name: drivewheel, dtype: int64\n",
      "rear       3\n",
      "front    202\n",
      "Name: enginelocation, dtype: int64\n",
      "dohcv      1\n",
      "rotor      4\n",
      "dohc      12\n",
      "l         12\n",
      "ohcv      13\n",
      "ohcf      15\n",
      "ohc      148\n",
      "Name: enginetype, dtype: int64\n",
      "three       1\n",
      "twelve      1\n",
      "two         4\n",
      "eight       5\n",
      "five       11\n",
      "six        24\n",
      "four      159\n",
      "Name: cylindernumber, dtype: int64\n",
      "mfi      1\n",
      "spfi     1\n",
      "4bbl     3\n",
      "spdi     9\n",
      "1bbl    11\n",
      "idi     20\n",
      "2bbl    66\n",
      "mpfi    94\n",
      "Name: fuelsystem, dtype: int64\n",
      "mercury         1\n",
      "renault         2\n",
      "chevrolet       3\n",
      "jaguar          3\n",
      "alfa-romero     3\n",
      "isuzu           4\n",
      "porsche         5\n",
      "saab            6\n",
      "audi            7\n",
      "plymouth        7\n",
      "buick           8\n",
      "bmw             8\n",
      "dodge           9\n",
      "volvo          11\n",
      "peugeot        11\n",
      "volkswagen     12\n",
      "subaru         12\n",
      "mitsubishi     13\n",
      "honda          13\n",
      "mazda          17\n",
      "nissan         18\n",
      "toyota         32\n",
      "Name: Manufacturer, dtype: int64\n",
      "-2     3\n",
      "-1    22\n",
      " 3    27\n",
      " 2    32\n",
      " 1    54\n",
      " 0    67\n",
      "Name: symboling, dtype: int64\n"
     ]
    }
   ],
   "source": [
    "## Check how many unique values each categorical variable have\n",
    "for i in cat_var:\n",
    "    print(car_price[i].value_counts().sort_values())\n",
    "#car_price.Manufacturer.value_counts().sort_values()"
   ]
  },
  {
   "cell_type": "markdown",
   "metadata": {},
   "source": [
    "#### So we can see that there are below binary categorical variables, whose encoding we will do as follows\n",
    "- fueltype        : diesel=0,     gas=1\n",
    "- aspiration      : turbo=0,      std=1\n",
    "- doornumber      : two =0,       four=1\n",
    "- enginelocation  : rear=0,       front=1"
   ]
  },
  {
   "cell_type": "code",
   "execution_count": 18,
   "metadata": {},
   "outputs": [],
   "source": [
    "car_price.loc[car_price['fueltype'] == 'diesel','fueltype' ] = 0\n",
    "car_price.loc[car_price['fueltype'] == 'gas','fueltype' ] = 1\n",
    "car_price.loc[car_price['aspiration'] == 'turbo','aspiration' ] = 0\n",
    "car_price.loc[car_price['aspiration'] == 'std','aspiration' ] = 1\n",
    "car_price.loc[car_price['doornumber'] == 'two','doornumber' ] = 0\n",
    "car_price.loc[car_price['doornumber'] == 'four','doornumber' ] = 1\n",
    "car_price.loc[car_price['enginelocation'] == 'rear','enginelocation' ] = 0\n",
    "car_price.loc[car_price['enginelocation'] == 'front','enginelocation' ] = 1"
   ]
  },
  {
   "cell_type": "code",
   "execution_count": 19,
   "metadata": {},
   "outputs": [],
   "source": [
    "## Create a function to convert the dummy variables\n",
    "def conv_dumm(x,y):\n",
    "    x_df=pd.get_dummies(y[x],drop_first=True)\n",
    "    temp = pd.concat([y,x_df],axis=1)\n",
    "    temp=temp.drop(x,axis=1)\n",
    "    return(temp)\n",
    "    #return(y)"
   ]
  },
  {
   "cell_type": "code",
   "execution_count": 20,
   "metadata": {},
   "outputs": [],
   "source": [
    "## Convert categorical variables to dummy variable \n",
    "car_price=conv_dumm('carbody',car_price)\n",
    "car_price=conv_dumm('drivewheel',car_price)\n",
    "car_price=conv_dumm('enginetype',car_price)\n",
    "car_price=conv_dumm('cylindernumber',car_price)\n",
    "car_price=conv_dumm('fuelsystem',car_price)\n",
    "car_price=conv_dumm('Manufacturer',car_price)\n",
    "car_price=conv_dumm('symboling',car_price)\n"
   ]
  },
  {
   "cell_type": "code",
   "execution_count": 21,
   "metadata": {},
   "outputs": [
    {
     "data": {
      "text/plain": [
       "Index([        'fueltype',       'aspiration',       'doornumber',\n",
       "         'enginelocation',        'wheelbase',        'carlength',\n",
       "               'carwidth',        'carheight',       'curbweight',\n",
       "             'enginesize',        'boreratio',           'stroke',\n",
       "       'compressionratio',       'horsepower',          'peakrpm',\n",
       "                'citympg',       'highwaympg',            'price',\n",
       "                'hardtop',        'hatchback',            'sedan',\n",
       "                  'wagon',              'fwd',              'rwd',\n",
       "                  'dohcv',                'l',              'ohc',\n",
       "                   'ohcf',             'ohcv',            'rotor',\n",
       "                   'five',             'four',              'six',\n",
       "                  'three',           'twelve',              'two',\n",
       "                   '2bbl',             '4bbl',              'idi',\n",
       "                    'mfi',             'mpfi',             'spdi',\n",
       "                   'spfi',             'audi',              'bmw',\n",
       "                  'buick',        'chevrolet',            'dodge',\n",
       "                  'honda',            'isuzu',           'jaguar',\n",
       "                  'mazda',          'mercury',       'mitsubishi',\n",
       "                 'nissan',          'peugeot',         'plymouth',\n",
       "                'porsche',          'renault',             'saab',\n",
       "                 'subaru',           'toyota',       'volkswagen',\n",
       "                  'volvo',                 -1,                  0,\n",
       "                        1,                  2,                  3],\n",
       "      dtype='object')"
      ]
     },
     "execution_count": 21,
     "metadata": {},
     "output_type": "execute_result"
    }
   ],
   "source": [
    "car_price.columns"
   ]
  },
  {
   "cell_type": "code",
   "execution_count": 22,
   "metadata": {},
   "outputs": [],
   "source": [
    "## Create a temporary dataframe having just the numerical variables and the dummy variable\n",
    "#car_price_temp=car_price.drop(['symboling','CarName','carbody','drivewheel','enginetype','cylindernumber','fuelsystem','Manufacturer','Model'],axis=1)"
   ]
  },
  {
   "cell_type": "code",
   "execution_count": 23,
   "metadata": {},
   "outputs": [],
   "source": [
    "#car_price_temp.columns"
   ]
  },
  {
   "cell_type": "markdown",
   "metadata": {},
   "source": [
    "### Split this data into train-test"
   ]
  },
  {
   "cell_type": "code",
   "execution_count": 24,
   "metadata": {},
   "outputs": [
    {
     "name": "stdout",
     "output_type": "stream",
     "text": [
      "(143, 69)\n",
      "(62, 69)\n"
     ]
    }
   ],
   "source": [
    "np.random.seed(0)\n",
    "df_train,df_test=train_test_split(car_price,train_size=0.7,random_state=100)\n",
    "print(df_train.shape)\n",
    "print(df_test.shape)"
   ]
  },
  {
   "cell_type": "code",
   "execution_count": 25,
   "metadata": {},
   "outputs": [
    {
     "name": "stdout",
     "output_type": "stream",
     "text": [
      "<class 'pandas.core.frame.DataFrame'>\n",
      "Int64Index: 143 entries, 123 to 9\n",
      "Data columns (total 69 columns):\n",
      "fueltype            143 non-null int64\n",
      "aspiration          143 non-null int64\n",
      "doornumber          143 non-null int64\n",
      "enginelocation      143 non-null int64\n",
      "wheelbase           143 non-null float64\n",
      "carlength           143 non-null float64\n",
      "carwidth            143 non-null float64\n",
      "carheight           143 non-null float64\n",
      "curbweight          143 non-null int64\n",
      "enginesize          143 non-null int64\n",
      "boreratio           143 non-null float64\n",
      "stroke              143 non-null float64\n",
      "compressionratio    143 non-null float64\n",
      "horsepower          143 non-null int64\n",
      "peakrpm             143 non-null int64\n",
      "citympg             143 non-null int64\n",
      "highwaympg          143 non-null int64\n",
      "price               143 non-null float64\n",
      "hardtop             143 non-null uint8\n",
      "hatchback           143 non-null uint8\n",
      "sedan               143 non-null uint8\n",
      "wagon               143 non-null uint8\n",
      "fwd                 143 non-null uint8\n",
      "rwd                 143 non-null uint8\n",
      "dohcv               143 non-null uint8\n",
      "l                   143 non-null uint8\n",
      "ohc                 143 non-null uint8\n",
      "ohcf                143 non-null uint8\n",
      "ohcv                143 non-null uint8\n",
      "rotor               143 non-null uint8\n",
      "five                143 non-null uint8\n",
      "four                143 non-null uint8\n",
      "six                 143 non-null uint8\n",
      "three               143 non-null uint8\n",
      "twelve              143 non-null uint8\n",
      "two                 143 non-null uint8\n",
      "2bbl                143 non-null uint8\n",
      "4bbl                143 non-null uint8\n",
      "idi                 143 non-null uint8\n",
      "mfi                 143 non-null uint8\n",
      "mpfi                143 non-null uint8\n",
      "spdi                143 non-null uint8\n",
      "spfi                143 non-null uint8\n",
      "audi                143 non-null uint8\n",
      "bmw                 143 non-null uint8\n",
      "buick               143 non-null uint8\n",
      "chevrolet           143 non-null uint8\n",
      "dodge               143 non-null uint8\n",
      "honda               143 non-null uint8\n",
      "isuzu               143 non-null uint8\n",
      "jaguar              143 non-null uint8\n",
      "mazda               143 non-null uint8\n",
      "mercury             143 non-null uint8\n",
      "mitsubishi          143 non-null uint8\n",
      "nissan              143 non-null uint8\n",
      "peugeot             143 non-null uint8\n",
      "plymouth            143 non-null uint8\n",
      "porsche             143 non-null uint8\n",
      "renault             143 non-null uint8\n",
      "saab                143 non-null uint8\n",
      "subaru              143 non-null uint8\n",
      "toyota              143 non-null uint8\n",
      "volkswagen          143 non-null uint8\n",
      "volvo               143 non-null uint8\n",
      "-1                  143 non-null uint8\n",
      "0                   143 non-null uint8\n",
      "1                   143 non-null uint8\n",
      "2                   143 non-null uint8\n",
      "3                   143 non-null uint8\n",
      "dtypes: float64(8), int64(10), uint8(51)\n",
      "memory usage: 28.3 KB\n"
     ]
    }
   ],
   "source": [
    "df_train.info()"
   ]
  },
  {
   "cell_type": "markdown",
   "metadata": {},
   "source": [
    "### Scale the numeric variables"
   ]
  },
  {
   "cell_type": "code",
   "execution_count": 26,
   "metadata": {},
   "outputs": [],
   "source": [
    "num_var=['wheelbase','carlength','carwidth','carheight','curbweight','enginesize','boreratio','stroke','compressionratio','horsepower','peakrpm','citympg','highwaympg']"
   ]
  },
  {
   "cell_type": "code",
   "execution_count": 27,
   "metadata": {},
   "outputs": [],
   "source": [
    "## Intantiate the scalar object\n",
    "scaler=MinMaxScaler()\n",
    "## Fit on data\n",
    "df_train[num_var]=scaler.fit_transform(df_train[num_var])"
   ]
  },
  {
   "cell_type": "code",
   "execution_count": 28,
   "metadata": {},
   "outputs": [
    {
     "data": {
      "text/html": [
       "<div>\n",
       "<style scoped>\n",
       "    .dataframe tbody tr th:only-of-type {\n",
       "        vertical-align: middle;\n",
       "    }\n",
       "\n",
       "    .dataframe tbody tr th {\n",
       "        vertical-align: top;\n",
       "    }\n",
       "\n",
       "    .dataframe thead th {\n",
       "        text-align: right;\n",
       "    }\n",
       "</style>\n",
       "<table border=\"1\" class=\"dataframe\">\n",
       "  <thead>\n",
       "    <tr style=\"text-align: right;\">\n",
       "      <th></th>\n",
       "      <th>fueltype</th>\n",
       "      <th>aspiration</th>\n",
       "      <th>doornumber</th>\n",
       "      <th>enginelocation</th>\n",
       "      <th>wheelbase</th>\n",
       "      <th>carlength</th>\n",
       "      <th>carwidth</th>\n",
       "      <th>carheight</th>\n",
       "      <th>curbweight</th>\n",
       "      <th>enginesize</th>\n",
       "      <th>...</th>\n",
       "      <th>saab</th>\n",
       "      <th>subaru</th>\n",
       "      <th>toyota</th>\n",
       "      <th>volkswagen</th>\n",
       "      <th>volvo</th>\n",
       "      <th>-1</th>\n",
       "      <th>0</th>\n",
       "      <th>1</th>\n",
       "      <th>2</th>\n",
       "      <th>3</th>\n",
       "    </tr>\n",
       "  </thead>\n",
       "  <tbody>\n",
       "    <tr>\n",
       "      <th>count</th>\n",
       "      <td>143.000000</td>\n",
       "      <td>143.000000</td>\n",
       "      <td>143.000000</td>\n",
       "      <td>143.000000</td>\n",
       "      <td>143.000000</td>\n",
       "      <td>143.000000</td>\n",
       "      <td>143.000000</td>\n",
       "      <td>143.000000</td>\n",
       "      <td>143.000000</td>\n",
       "      <td>143.000000</td>\n",
       "      <td>...</td>\n",
       "      <td>143.000000</td>\n",
       "      <td>143.000000</td>\n",
       "      <td>143.000000</td>\n",
       "      <td>143.000000</td>\n",
       "      <td>143.000000</td>\n",
       "      <td>143.000000</td>\n",
       "      <td>143.000000</td>\n",
       "      <td>143.000000</td>\n",
       "      <td>143.000000</td>\n",
       "      <td>143.000000</td>\n",
       "    </tr>\n",
       "    <tr>\n",
       "      <th>mean</th>\n",
       "      <td>0.909091</td>\n",
       "      <td>0.818182</td>\n",
       "      <td>0.559441</td>\n",
       "      <td>0.993007</td>\n",
       "      <td>0.411141</td>\n",
       "      <td>0.525476</td>\n",
       "      <td>0.461655</td>\n",
       "      <td>0.509004</td>\n",
       "      <td>0.407878</td>\n",
       "      <td>0.241351</td>\n",
       "      <td>...</td>\n",
       "      <td>0.020979</td>\n",
       "      <td>0.076923</td>\n",
       "      <td>0.139860</td>\n",
       "      <td>0.048951</td>\n",
       "      <td>0.041958</td>\n",
       "      <td>0.090909</td>\n",
       "      <td>0.349650</td>\n",
       "      <td>0.300699</td>\n",
       "      <td>0.118881</td>\n",
       "      <td>0.125874</td>\n",
       "    </tr>\n",
       "    <tr>\n",
       "      <th>std</th>\n",
       "      <td>0.288490</td>\n",
       "      <td>0.387050</td>\n",
       "      <td>0.498199</td>\n",
       "      <td>0.083624</td>\n",
       "      <td>0.205581</td>\n",
       "      <td>0.204848</td>\n",
       "      <td>0.184517</td>\n",
       "      <td>0.215378</td>\n",
       "      <td>0.211269</td>\n",
       "      <td>0.154619</td>\n",
       "      <td>...</td>\n",
       "      <td>0.143818</td>\n",
       "      <td>0.267406</td>\n",
       "      <td>0.348061</td>\n",
       "      <td>0.216524</td>\n",
       "      <td>0.201198</td>\n",
       "      <td>0.288490</td>\n",
       "      <td>0.478536</td>\n",
       "      <td>0.460174</td>\n",
       "      <td>0.324786</td>\n",
       "      <td>0.332873</td>\n",
       "    </tr>\n",
       "    <tr>\n",
       "      <th>min</th>\n",
       "      <td>0.000000</td>\n",
       "      <td>0.000000</td>\n",
       "      <td>0.000000</td>\n",
       "      <td>0.000000</td>\n",
       "      <td>0.000000</td>\n",
       "      <td>0.000000</td>\n",
       "      <td>0.000000</td>\n",
       "      <td>0.000000</td>\n",
       "      <td>0.000000</td>\n",
       "      <td>0.000000</td>\n",
       "      <td>...</td>\n",
       "      <td>0.000000</td>\n",
       "      <td>0.000000</td>\n",
       "      <td>0.000000</td>\n",
       "      <td>0.000000</td>\n",
       "      <td>0.000000</td>\n",
       "      <td>0.000000</td>\n",
       "      <td>0.000000</td>\n",
       "      <td>0.000000</td>\n",
       "      <td>0.000000</td>\n",
       "      <td>0.000000</td>\n",
       "    </tr>\n",
       "    <tr>\n",
       "      <th>25%</th>\n",
       "      <td>1.000000</td>\n",
       "      <td>1.000000</td>\n",
       "      <td>0.000000</td>\n",
       "      <td>1.000000</td>\n",
       "      <td>0.272414</td>\n",
       "      <td>0.399187</td>\n",
       "      <td>0.304167</td>\n",
       "      <td>0.353982</td>\n",
       "      <td>0.245539</td>\n",
       "      <td>0.135849</td>\n",
       "      <td>...</td>\n",
       "      <td>0.000000</td>\n",
       "      <td>0.000000</td>\n",
       "      <td>0.000000</td>\n",
       "      <td>0.000000</td>\n",
       "      <td>0.000000</td>\n",
       "      <td>0.000000</td>\n",
       "      <td>0.000000</td>\n",
       "      <td>0.000000</td>\n",
       "      <td>0.000000</td>\n",
       "      <td>0.000000</td>\n",
       "    </tr>\n",
       "    <tr>\n",
       "      <th>50%</th>\n",
       "      <td>1.000000</td>\n",
       "      <td>1.000000</td>\n",
       "      <td>1.000000</td>\n",
       "      <td>1.000000</td>\n",
       "      <td>0.341379</td>\n",
       "      <td>0.502439</td>\n",
       "      <td>0.425000</td>\n",
       "      <td>0.522124</td>\n",
       "      <td>0.355702</td>\n",
       "      <td>0.184906</td>\n",
       "      <td>...</td>\n",
       "      <td>0.000000</td>\n",
       "      <td>0.000000</td>\n",
       "      <td>0.000000</td>\n",
       "      <td>0.000000</td>\n",
       "      <td>0.000000</td>\n",
       "      <td>0.000000</td>\n",
       "      <td>0.000000</td>\n",
       "      <td>0.000000</td>\n",
       "      <td>0.000000</td>\n",
       "      <td>0.000000</td>\n",
       "    </tr>\n",
       "    <tr>\n",
       "      <th>75%</th>\n",
       "      <td>1.000000</td>\n",
       "      <td>1.000000</td>\n",
       "      <td>1.000000</td>\n",
       "      <td>1.000000</td>\n",
       "      <td>0.503448</td>\n",
       "      <td>0.669919</td>\n",
       "      <td>0.550000</td>\n",
       "      <td>0.668142</td>\n",
       "      <td>0.559542</td>\n",
       "      <td>0.301887</td>\n",
       "      <td>...</td>\n",
       "      <td>0.000000</td>\n",
       "      <td>0.000000</td>\n",
       "      <td>0.000000</td>\n",
       "      <td>0.000000</td>\n",
       "      <td>0.000000</td>\n",
       "      <td>0.000000</td>\n",
       "      <td>1.000000</td>\n",
       "      <td>1.000000</td>\n",
       "      <td>0.000000</td>\n",
       "      <td>0.000000</td>\n",
       "    </tr>\n",
       "    <tr>\n",
       "      <th>max</th>\n",
       "      <td>1.000000</td>\n",
       "      <td>1.000000</td>\n",
       "      <td>1.000000</td>\n",
       "      <td>1.000000</td>\n",
       "      <td>1.000000</td>\n",
       "      <td>1.000000</td>\n",
       "      <td>1.000000</td>\n",
       "      <td>1.000000</td>\n",
       "      <td>1.000000</td>\n",
       "      <td>1.000000</td>\n",
       "      <td>...</td>\n",
       "      <td>1.000000</td>\n",
       "      <td>1.000000</td>\n",
       "      <td>1.000000</td>\n",
       "      <td>1.000000</td>\n",
       "      <td>1.000000</td>\n",
       "      <td>1.000000</td>\n",
       "      <td>1.000000</td>\n",
       "      <td>1.000000</td>\n",
       "      <td>1.000000</td>\n",
       "      <td>1.000000</td>\n",
       "    </tr>\n",
       "  </tbody>\n",
       "</table>\n",
       "<p>8 rows × 69 columns</p>\n",
       "</div>"
      ],
      "text/plain": [
       "         fueltype  aspiration  doornumber  enginelocation   wheelbase  \\\n",
       "count  143.000000  143.000000  143.000000      143.000000  143.000000   \n",
       "mean     0.909091    0.818182    0.559441        0.993007    0.411141   \n",
       "std      0.288490    0.387050    0.498199        0.083624    0.205581   \n",
       "min      0.000000    0.000000    0.000000        0.000000    0.000000   \n",
       "25%      1.000000    1.000000    0.000000        1.000000    0.272414   \n",
       "50%      1.000000    1.000000    1.000000        1.000000    0.341379   \n",
       "75%      1.000000    1.000000    1.000000        1.000000    0.503448   \n",
       "max      1.000000    1.000000    1.000000        1.000000    1.000000   \n",
       "\n",
       "        carlength    carwidth   carheight  curbweight  enginesize  ...  \\\n",
       "count  143.000000  143.000000  143.000000  143.000000  143.000000  ...   \n",
       "mean     0.525476    0.461655    0.509004    0.407878    0.241351  ...   \n",
       "std      0.204848    0.184517    0.215378    0.211269    0.154619  ...   \n",
       "min      0.000000    0.000000    0.000000    0.000000    0.000000  ...   \n",
       "25%      0.399187    0.304167    0.353982    0.245539    0.135849  ...   \n",
       "50%      0.502439    0.425000    0.522124    0.355702    0.184906  ...   \n",
       "75%      0.669919    0.550000    0.668142    0.559542    0.301887  ...   \n",
       "max      1.000000    1.000000    1.000000    1.000000    1.000000  ...   \n",
       "\n",
       "             saab      subaru      toyota  volkswagen       volvo          -1  \\\n",
       "count  143.000000  143.000000  143.000000  143.000000  143.000000  143.000000   \n",
       "mean     0.020979    0.076923    0.139860    0.048951    0.041958    0.090909   \n",
       "std      0.143818    0.267406    0.348061    0.216524    0.201198    0.288490   \n",
       "min      0.000000    0.000000    0.000000    0.000000    0.000000    0.000000   \n",
       "25%      0.000000    0.000000    0.000000    0.000000    0.000000    0.000000   \n",
       "50%      0.000000    0.000000    0.000000    0.000000    0.000000    0.000000   \n",
       "75%      0.000000    0.000000    0.000000    0.000000    0.000000    0.000000   \n",
       "max      1.000000    1.000000    1.000000    1.000000    1.000000    1.000000   \n",
       "\n",
       "                0           1           2           3  \n",
       "count  143.000000  143.000000  143.000000  143.000000  \n",
       "mean     0.349650    0.300699    0.118881    0.125874  \n",
       "std      0.478536    0.460174    0.324786    0.332873  \n",
       "min      0.000000    0.000000    0.000000    0.000000  \n",
       "25%      0.000000    0.000000    0.000000    0.000000  \n",
       "50%      0.000000    0.000000    0.000000    0.000000  \n",
       "75%      1.000000    1.000000    0.000000    0.000000  \n",
       "max      1.000000    1.000000    1.000000    1.000000  \n",
       "\n",
       "[8 rows x 69 columns]"
      ]
     },
     "execution_count": 28,
     "metadata": {},
     "output_type": "execute_result"
    }
   ],
   "source": [
    "df_train.describe()"
   ]
  },
  {
   "cell_type": "markdown",
   "metadata": {},
   "source": [
    "#### Get the X_train and y_train"
   ]
  },
  {
   "cell_type": "code",
   "execution_count": 29,
   "metadata": {},
   "outputs": [],
   "source": [
    "y_train=df_train.pop('price')\n",
    "X_train=df_train"
   ]
  },
  {
   "cell_type": "code",
   "execution_count": 30,
   "metadata": {},
   "outputs": [
    {
     "data": {
      "text/plain": [
       "car_ID\n",
       "123     7609.0\n",
       "126    22018.0\n",
       "167     9538.0\n",
       "2      16500.0\n",
       "200    18950.0\n",
       "Name: price, dtype: float64"
      ]
     },
     "execution_count": 30,
     "metadata": {},
     "output_type": "execute_result"
    }
   ],
   "source": [
    "y_train.head()"
   ]
  },
  {
   "cell_type": "markdown",
   "metadata": {},
   "source": [
    "### Since there huge number of Predective variables, so let's use RFE to select top 20 variables"
   ]
  },
  {
   "cell_type": "code",
   "execution_count": 31,
   "metadata": {},
   "outputs": [],
   "source": [
    "lm = LinearRegression()\n",
    "lm.fit(X_train,y_train)\n",
    "\n",
    "rfe=RFE(lm,20)\n",
    "rfe=rfe.fit(X_train,y_train)"
   ]
  },
  {
   "cell_type": "code",
   "execution_count": 32,
   "metadata": {},
   "outputs": [],
   "source": [
    "#list(zip(X_train.columns,rfe.support_,rfe.ranking_))"
   ]
  },
  {
   "cell_type": "code",
   "execution_count": 33,
   "metadata": {},
   "outputs": [
    {
     "data": {
      "text/plain": [
       "Index(['enginelocation', 'carwidth', 'curbweight', 'enginesize', 'boreratio',\n",
       "       'stroke', 'horsepower', 'peakrpm', 'dohcv', 'l', 'rotor', 'five',\n",
       "       'four', 'three', 'twelve', 'two', 'bmw', 'mitsubishi', 'peugeot',\n",
       "       'porsche'],\n",
       "      dtype='object')"
      ]
     },
     "execution_count": 33,
     "metadata": {},
     "output_type": "execute_result"
    }
   ],
   "source": [
    "## Columns which RFE chosen for model building\n",
    "cols=X_train.columns[rfe.support_]\n",
    "cols"
   ]
  },
  {
   "cell_type": "code",
   "execution_count": 34,
   "metadata": {},
   "outputs": [],
   "source": [
    "## Columns which RFE rejected for model building\n",
    "#cols_rej=X_train.columns[~rfe.support_]\n",
    "#cols_rej"
   ]
  },
  {
   "cell_type": "markdown",
   "metadata": {},
   "source": [
    "### Now lets take the variables suggested by RFE and use the stats model for detailed stats "
   ]
  },
  {
   "cell_type": "code",
   "execution_count": 35,
   "metadata": {},
   "outputs": [
    {
     "data": {
      "text/plain": [
       "Index(['enginelocation', 'carwidth', 'curbweight', 'enginesize', 'boreratio',\n",
       "       'stroke', 'horsepower', 'peakrpm', 'dohcv', 'l', 'rotor', 'five',\n",
       "       'four', 'three', 'twelve', 'two', 'bmw', 'mitsubishi', 'peugeot',\n",
       "       'porsche'],\n",
       "      dtype='object')"
      ]
     },
     "execution_count": 35,
     "metadata": {},
     "output_type": "execute_result"
    }
   ],
   "source": [
    "# Create a data frame with variables, what RFE has suggested\n",
    "X_train_rfe = X_train[cols]\n",
    "X_train_rfe.columns"
   ]
  },
  {
   "cell_type": "code",
   "execution_count": 36,
   "metadata": {},
   "outputs": [
    {
     "data": {
      "text/html": [
       "<div>\n",
       "<style scoped>\n",
       "    .dataframe tbody tr th:only-of-type {\n",
       "        vertical-align: middle;\n",
       "    }\n",
       "\n",
       "    .dataframe tbody tr th {\n",
       "        vertical-align: top;\n",
       "    }\n",
       "\n",
       "    .dataframe thead th {\n",
       "        text-align: right;\n",
       "    }\n",
       "</style>\n",
       "<table border=\"1\" class=\"dataframe\">\n",
       "  <thead>\n",
       "    <tr style=\"text-align: right;\">\n",
       "      <th></th>\n",
       "      <th>const</th>\n",
       "      <th>enginelocation</th>\n",
       "      <th>carwidth</th>\n",
       "      <th>curbweight</th>\n",
       "      <th>enginesize</th>\n",
       "      <th>boreratio</th>\n",
       "      <th>stroke</th>\n",
       "      <th>horsepower</th>\n",
       "      <th>peakrpm</th>\n",
       "      <th>dohcv</th>\n",
       "      <th>...</th>\n",
       "      <th>rotor</th>\n",
       "      <th>five</th>\n",
       "      <th>four</th>\n",
       "      <th>three</th>\n",
       "      <th>twelve</th>\n",
       "      <th>two</th>\n",
       "      <th>bmw</th>\n",
       "      <th>mitsubishi</th>\n",
       "      <th>peugeot</th>\n",
       "      <th>porsche</th>\n",
       "    </tr>\n",
       "    <tr>\n",
       "      <th>car_ID</th>\n",
       "      <th></th>\n",
       "      <th></th>\n",
       "      <th></th>\n",
       "      <th></th>\n",
       "      <th></th>\n",
       "      <th></th>\n",
       "      <th></th>\n",
       "      <th></th>\n",
       "      <th></th>\n",
       "      <th></th>\n",
       "      <th></th>\n",
       "      <th></th>\n",
       "      <th></th>\n",
       "      <th></th>\n",
       "      <th></th>\n",
       "      <th></th>\n",
       "      <th></th>\n",
       "      <th></th>\n",
       "      <th></th>\n",
       "      <th></th>\n",
       "      <th></th>\n",
       "    </tr>\n",
       "  </thead>\n",
       "  <tbody>\n",
       "    <tr>\n",
       "      <th>123</th>\n",
       "      <td>1.0</td>\n",
       "      <td>1</td>\n",
       "      <td>0.291667</td>\n",
       "      <td>0.272692</td>\n",
       "      <td>0.139623</td>\n",
       "      <td>0.230159</td>\n",
       "      <td>0.525253</td>\n",
       "      <td>0.083333</td>\n",
       "      <td>0.551020</td>\n",
       "      <td>0</td>\n",
       "      <td>...</td>\n",
       "      <td>0</td>\n",
       "      <td>0</td>\n",
       "      <td>1</td>\n",
       "      <td>0</td>\n",
       "      <td>0</td>\n",
       "      <td>0</td>\n",
       "      <td>0</td>\n",
       "      <td>0</td>\n",
       "      <td>0</td>\n",
       "      <td>0</td>\n",
       "    </tr>\n",
       "    <tr>\n",
       "      <th>126</th>\n",
       "      <td>1.0</td>\n",
       "      <td>1</td>\n",
       "      <td>0.666667</td>\n",
       "      <td>0.500388</td>\n",
       "      <td>0.339623</td>\n",
       "      <td>1.000000</td>\n",
       "      <td>0.464646</td>\n",
       "      <td>0.395833</td>\n",
       "      <td>0.551020</td>\n",
       "      <td>0</td>\n",
       "      <td>...</td>\n",
       "      <td>0</td>\n",
       "      <td>0</td>\n",
       "      <td>1</td>\n",
       "      <td>0</td>\n",
       "      <td>0</td>\n",
       "      <td>0</td>\n",
       "      <td>0</td>\n",
       "      <td>0</td>\n",
       "      <td>0</td>\n",
       "      <td>1</td>\n",
       "    </tr>\n",
       "    <tr>\n",
       "      <th>167</th>\n",
       "      <td>1.0</td>\n",
       "      <td>1</td>\n",
       "      <td>0.308333</td>\n",
       "      <td>0.314973</td>\n",
       "      <td>0.139623</td>\n",
       "      <td>0.444444</td>\n",
       "      <td>0.449495</td>\n",
       "      <td>0.266667</td>\n",
       "      <td>1.000000</td>\n",
       "      <td>0</td>\n",
       "      <td>...</td>\n",
       "      <td>0</td>\n",
       "      <td>0</td>\n",
       "      <td>1</td>\n",
       "      <td>0</td>\n",
       "      <td>0</td>\n",
       "      <td>0</td>\n",
       "      <td>0</td>\n",
       "      <td>0</td>\n",
       "      <td>0</td>\n",
       "      <td>0</td>\n",
       "    </tr>\n",
       "    <tr>\n",
       "      <th>2</th>\n",
       "      <td>1.0</td>\n",
       "      <td>1</td>\n",
       "      <td>0.316667</td>\n",
       "      <td>0.411171</td>\n",
       "      <td>0.260377</td>\n",
       "      <td>0.626984</td>\n",
       "      <td>0.247475</td>\n",
       "      <td>0.262500</td>\n",
       "      <td>0.346939</td>\n",
       "      <td>0</td>\n",
       "      <td>...</td>\n",
       "      <td>0</td>\n",
       "      <td>0</td>\n",
       "      <td>1</td>\n",
       "      <td>0</td>\n",
       "      <td>0</td>\n",
       "      <td>0</td>\n",
       "      <td>0</td>\n",
       "      <td>0</td>\n",
       "      <td>0</td>\n",
       "      <td>0</td>\n",
       "    </tr>\n",
       "    <tr>\n",
       "      <th>200</th>\n",
       "      <td>1.0</td>\n",
       "      <td>1</td>\n",
       "      <td>0.575000</td>\n",
       "      <td>0.647401</td>\n",
       "      <td>0.260377</td>\n",
       "      <td>0.746032</td>\n",
       "      <td>0.484848</td>\n",
       "      <td>0.475000</td>\n",
       "      <td>0.387755</td>\n",
       "      <td>0</td>\n",
       "      <td>...</td>\n",
       "      <td>0</td>\n",
       "      <td>0</td>\n",
       "      <td>1</td>\n",
       "      <td>0</td>\n",
       "      <td>0</td>\n",
       "      <td>0</td>\n",
       "      <td>0</td>\n",
       "      <td>0</td>\n",
       "      <td>0</td>\n",
       "      <td>0</td>\n",
       "    </tr>\n",
       "  </tbody>\n",
       "</table>\n",
       "<p>5 rows × 21 columns</p>\n",
       "</div>"
      ],
      "text/plain": [
       "        const  enginelocation  carwidth  curbweight  enginesize  boreratio  \\\n",
       "car_ID                                                                       \n",
       "123       1.0               1  0.291667    0.272692    0.139623   0.230159   \n",
       "126       1.0               1  0.666667    0.500388    0.339623   1.000000   \n",
       "167       1.0               1  0.308333    0.314973    0.139623   0.444444   \n",
       "2         1.0               1  0.316667    0.411171    0.260377   0.626984   \n",
       "200       1.0               1  0.575000    0.647401    0.260377   0.746032   \n",
       "\n",
       "          stroke  horsepower   peakrpm  dohcv  ...  rotor  five  four  three  \\\n",
       "car_ID                                         ...                             \n",
       "123     0.525253    0.083333  0.551020      0  ...      0     0     1      0   \n",
       "126     0.464646    0.395833  0.551020      0  ...      0     0     1      0   \n",
       "167     0.449495    0.266667  1.000000      0  ...      0     0     1      0   \n",
       "2       0.247475    0.262500  0.346939      0  ...      0     0     1      0   \n",
       "200     0.484848    0.475000  0.387755      0  ...      0     0     1      0   \n",
       "\n",
       "        twelve  two  bmw  mitsubishi  peugeot  porsche  \n",
       "car_ID                                                  \n",
       "123          0    0    0           0        0        0  \n",
       "126          0    0    0           0        0        1  \n",
       "167          0    0    0           0        0        0  \n",
       "2            0    0    0           0        0        0  \n",
       "200          0    0    0           0        0        0  \n",
       "\n",
       "[5 rows x 21 columns]"
      ]
     },
     "execution_count": 36,
     "metadata": {},
     "output_type": "execute_result"
    }
   ],
   "source": [
    "## Add a constant \n",
    "X_train_rfe = sm.add_constant(X_train_rfe)\n",
    "X_train_rfe.head()"
   ]
  },
  {
   "cell_type": "code",
   "execution_count": 37,
   "metadata": {},
   "outputs": [],
   "source": [
    "## Run the stats model to fit on data\n",
    "lm=sm.OLS(y_train,X_train_rfe).fit()"
   ]
  },
  {
   "cell_type": "code",
   "execution_count": 38,
   "metadata": {},
   "outputs": [
    {
     "name": "stdout",
     "output_type": "stream",
     "text": [
      "                            OLS Regression Results                            \n",
      "==============================================================================\n",
      "Dep. Variable:                  price   R-squared:                       0.945\n",
      "Model:                            OLS   Adj. R-squared:                  0.937\n",
      "Method:                 Least Squares   F-statistic:                     118.9\n",
      "Date:                Mon, 20 Jan 2020   Prob (F-statistic):           3.74e-69\n",
      "Time:                        20:34:18   Log-Likelihood:                -1276.4\n",
      "No. Observations:                 143   AIC:                             2591.\n",
      "Df Residuals:                     124   BIC:                             2647.\n",
      "Df Model:                          18                                         \n",
      "Covariance Type:            nonrobust                                         \n",
      "==================================================================================\n",
      "                     coef    std err          t      P>|t|      [0.025      0.975]\n",
      "----------------------------------------------------------------------------------\n",
      "const           6149.9666   3062.785      2.008      0.047      87.858    1.22e+04\n",
      "enginelocation  -1.31e+04   2970.310     -4.412      0.000    -1.9e+04   -7225.545\n",
      "carwidth        1.216e+04   2224.885      5.465      0.000    7756.308    1.66e+04\n",
      "curbweight      1.273e+04   2808.288      4.533      0.000    7172.623    1.83e+04\n",
      "enginesize      4.667e+04   5617.665      8.307      0.000    3.55e+04    5.78e+04\n",
      "boreratio      -1.352e+04   1990.517     -6.791      0.000   -1.75e+04   -9577.649\n",
      "stroke         -9257.7814   1650.080     -5.611      0.000   -1.25e+04   -5991.811\n",
      "horsepower      3859.8039   3086.395      1.251      0.213   -2249.037    9968.645\n",
      "peakrpm         1187.9131   1227.306      0.968      0.335   -1241.269    3617.095\n",
      "dohcv            380.0971   3062.806      0.124      0.901   -5682.054    6442.248\n",
      "l               4759.4531    908.775      5.237      0.000    2960.732    6558.174\n",
      "rotor           8992.5022   1201.348      7.485      0.000    6614.698    1.14e+04\n",
      "five            6438.5582   1210.769      5.318      0.000    4042.107    8835.009\n",
      "four            9564.9161   1484.791      6.442      0.000    6626.098    1.25e+04\n",
      "three           1.328e+04   1859.817      7.141      0.000    9599.495     1.7e+04\n",
      "twelve         -1.827e+04   3592.433     -5.085      0.000   -2.54e+04   -1.12e+04\n",
      "two             8992.5022   1201.348      7.485      0.000    6614.698    1.14e+04\n",
      "bmw             1.041e+04    932.448     11.161      0.000    8561.105    1.23e+04\n",
      "mitsubishi     -2218.1730    728.551     -3.045      0.003   -3660.179    -776.167\n",
      "peugeot        -8521.1411   1163.349     -7.325      0.000   -1.08e+04   -6218.548\n",
      "porsche         4718.4889   2081.080      2.267      0.025     599.448    8837.529\n",
      "==============================================================================\n",
      "Omnibus:                       22.363   Durbin-Watson:                   1.935\n",
      "Prob(Omnibus):                  0.000   Jarque-Bera (JB):               37.915\n",
      "Skew:                           0.753   Prob(JB):                     5.85e-09\n",
      "Kurtosis:                       5.024   Cond. No.                     4.39e+17\n",
      "==============================================================================\n",
      "\n",
      "Warnings:\n",
      "[1] Standard Errors assume that the covariance matrix of the errors is correctly specified.\n",
      "[2] The smallest eigenvalue is 2.8e-33. This might indicate that there are\n",
      "strong multicollinearity problems or that the design matrix is singular.\n"
     ]
    }
   ],
   "source": [
    "## See the summary of the model\n",
    "print(lm.summary())"
   ]
  },
  {
   "cell_type": "code",
   "execution_count": null,
   "metadata": {},
   "outputs": [],
   "source": []
  },
  {
   "cell_type": "code",
   "execution_count": 39,
   "metadata": {},
   "outputs": [
    {
     "data": {
      "text/html": [
       "<div>\n",
       "<style scoped>\n",
       "    .dataframe tbody tr th:only-of-type {\n",
       "        vertical-align: middle;\n",
       "    }\n",
       "\n",
       "    .dataframe tbody tr th {\n",
       "        vertical-align: top;\n",
       "    }\n",
       "\n",
       "    .dataframe thead th {\n",
       "        text-align: right;\n",
       "    }\n",
       "</style>\n",
       "<table border=\"1\" class=\"dataframe\">\n",
       "  <thead>\n",
       "    <tr style=\"text-align: right;\">\n",
       "      <th></th>\n",
       "      <th>Features</th>\n",
       "      <th>VIF</th>\n",
       "    </tr>\n",
       "  </thead>\n",
       "  <tbody>\n",
       "    <tr>\n",
       "      <th>10</th>\n",
       "      <td>rotor</td>\n",
       "      <td>inf</td>\n",
       "    </tr>\n",
       "    <tr>\n",
       "      <th>9</th>\n",
       "      <td>l</td>\n",
       "      <td>inf</td>\n",
       "    </tr>\n",
       "    <tr>\n",
       "      <th>18</th>\n",
       "      <td>peugeot</td>\n",
       "      <td>inf</td>\n",
       "    </tr>\n",
       "    <tr>\n",
       "      <th>15</th>\n",
       "      <td>two</td>\n",
       "      <td>inf</td>\n",
       "    </tr>\n",
       "    <tr>\n",
       "      <th>13</th>\n",
       "      <td>three</td>\n",
       "      <td>inf</td>\n",
       "    </tr>\n",
       "    <tr>\n",
       "      <th>3</th>\n",
       "      <td>enginesize</td>\n",
       "      <td>90.24</td>\n",
       "    </tr>\n",
       "    <tr>\n",
       "      <th>0</th>\n",
       "      <td>enginelocation</td>\n",
       "      <td>74.30</td>\n",
       "    </tr>\n",
       "    <tr>\n",
       "      <th>2</th>\n",
       "      <td>curbweight</td>\n",
       "      <td>61.82</td>\n",
       "    </tr>\n",
       "    <tr>\n",
       "      <th>12</th>\n",
       "      <td>four</td>\n",
       "      <td>57.64</td>\n",
       "    </tr>\n",
       "    <tr>\n",
       "      <th>1</th>\n",
       "      <td>carwidth</td>\n",
       "      <td>45.04</td>\n",
       "    </tr>\n",
       "    <tr>\n",
       "      <th>4</th>\n",
       "      <td>boreratio</td>\n",
       "      <td>42.65</td>\n",
       "    </tr>\n",
       "    <tr>\n",
       "      <th>5</th>\n",
       "      <td>stroke</td>\n",
       "      <td>31.64</td>\n",
       "    </tr>\n",
       "    <tr>\n",
       "      <th>6</th>\n",
       "      <td>horsepower</td>\n",
       "      <td>27.79</td>\n",
       "    </tr>\n",
       "    <tr>\n",
       "      <th>7</th>\n",
       "      <td>peakrpm</td>\n",
       "      <td>10.91</td>\n",
       "    </tr>\n",
       "    <tr>\n",
       "      <th>11</th>\n",
       "      <td>five</td>\n",
       "      <td>3.29</td>\n",
       "    </tr>\n",
       "    <tr>\n",
       "      <th>14</th>\n",
       "      <td>twelve</td>\n",
       "      <td>3.22</td>\n",
       "    </tr>\n",
       "    <tr>\n",
       "      <th>19</th>\n",
       "      <td>porsche</td>\n",
       "      <td>2.39</td>\n",
       "    </tr>\n",
       "    <tr>\n",
       "      <th>8</th>\n",
       "      <td>dohcv</td>\n",
       "      <td>2.04</td>\n",
       "    </tr>\n",
       "    <tr>\n",
       "      <th>16</th>\n",
       "      <td>bmw</td>\n",
       "      <td>1.36</td>\n",
       "    </tr>\n",
       "    <tr>\n",
       "      <th>17</th>\n",
       "      <td>mitsubishi</td>\n",
       "      <td>1.24</td>\n",
       "    </tr>\n",
       "  </tbody>\n",
       "</table>\n",
       "</div>"
      ],
      "text/plain": [
       "          Features    VIF\n",
       "10           rotor    inf\n",
       "9                l    inf\n",
       "18         peugeot    inf\n",
       "15             two    inf\n",
       "13           three    inf\n",
       "3       enginesize  90.24\n",
       "0   enginelocation  74.30\n",
       "2       curbweight  61.82\n",
       "12            four  57.64\n",
       "1         carwidth  45.04\n",
       "4        boreratio  42.65\n",
       "5           stroke  31.64\n",
       "6       horsepower  27.79\n",
       "7          peakrpm  10.91\n",
       "11            five   3.29\n",
       "14          twelve   3.22\n",
       "19         porsche   2.39\n",
       "8            dohcv   2.04\n",
       "16             bmw   1.36\n",
       "17      mitsubishi   1.24"
      ]
     },
     "execution_count": 39,
     "metadata": {},
     "output_type": "execute_result"
    }
   ],
   "source": [
    "##Calculate the VIF of all the predictors\n",
    "temp=X_train_rfe.drop('const',axis=1)\n",
    "VIF = pd.DataFrame()\n",
    "VIF['Features']=temp.columns\n",
    "VIF['VIF']=[variance_inflation_factor(temp.values, i) for i in range (temp.shape[1])]\n",
    "VIF['VIF']=round(VIF['VIF'],2)\n",
    "VIF=VIF.sort_values(by='VIF',ascending=False)\n",
    "VIF"
   ]
  },
  {
   "cell_type": "code",
   "execution_count": 40,
   "metadata": {},
   "outputs": [],
   "source": [
    "## Create a function to remove a column and run the stats model on new dataframe\n",
    "## Function returns new model and updated dataframe\n",
    "def reit_lm(df,col):\n",
    "    df=df.drop(col,axis=1)\n",
    "    lm=sm.OLS(y_train,df).fit()\n",
    "    print(lm.summary())\n",
    "    return(df,lm)"
   ]
  },
  {
   "cell_type": "code",
   "execution_count": 41,
   "metadata": {},
   "outputs": [],
   "source": [
    "##Create a function to Calculate the VIF of all the predictors\n",
    "def VIF_calc(df):\n",
    "    temp=df.drop('const',axis=1)\n",
    "    VIF = pd.DataFrame()\n",
    "    VIF['Features']=temp.columns\n",
    "    VIF['VIF']=[variance_inflation_factor(temp.values, i) for i in range (temp.shape[1])]\n",
    "    VIF['VIF']=round(VIF['VIF'],2)\n",
    "    VIF=VIF.sort_values(by='VIF',ascending=False)\n",
    "    print(VIF)"
   ]
  },
  {
   "cell_type": "markdown",
   "metadata": {},
   "source": [
    "#### We can see the p-value for \"dohcv\" is high (>0.05), so let's drop it and reiterate the model"
   ]
  },
  {
   "cell_type": "code",
   "execution_count": 42,
   "metadata": {},
   "outputs": [
    {
     "name": "stdout",
     "output_type": "stream",
     "text": [
      "                            OLS Regression Results                            \n",
      "==============================================================================\n",
      "Dep. Variable:                  price   R-squared:                       0.945\n",
      "Model:                            OLS   Adj. R-squared:                  0.938\n",
      "Method:                 Least Squares   F-statistic:                     126.9\n",
      "Date:                Mon, 20 Jan 2020   Prob (F-statistic):           3.29e-70\n",
      "Time:                        20:34:31   Log-Likelihood:                -1276.4\n",
      "No. Observations:                 143   AIC:                             2589.\n",
      "Df Residuals:                     125   BIC:                             2642.\n",
      "Df Model:                          17                                         \n",
      "Covariance Type:            nonrobust                                         \n",
      "==================================================================================\n",
      "                     coef    std err          t      P>|t|      [0.025      0.975]\n",
      "----------------------------------------------------------------------------------\n",
      "const           5993.8700   2781.567      2.155      0.033     488.804    1.15e+04\n",
      "enginelocation -1.293e+04   2618.891     -4.938      0.000   -1.81e+04   -7750.012\n",
      "carwidth         1.22e+04   2190.300      5.571      0.000    7867.118    1.65e+04\n",
      "curbweight      1.267e+04   2747.687      4.610      0.000    7227.712    1.81e+04\n",
      "enginesize       4.66e+04   5567.555      8.369      0.000    3.56e+04    5.76e+04\n",
      "boreratio      -1.353e+04   1981.181     -6.828      0.000   -1.74e+04   -9605.983\n",
      "stroke         -9256.5818   1643.540     -5.632      0.000   -1.25e+04   -6003.812\n",
      "horsepower      3994.9442   2876.512      1.389      0.167   -1698.030    9687.918\n",
      "peakrpm         1159.6507   1201.232      0.965      0.336   -1217.737    3537.039\n",
      "l               4761.2847    905.070      5.261      0.000    2970.039    6552.530\n",
      "rotor           8984.0445   1194.680      7.520      0.000    6619.624    1.13e+04\n",
      "five            6429.1720   1203.636      5.341      0.000    4047.028    8811.316\n",
      "four            9558.8430   1478.129      6.467      0.000    6633.443    1.25e+04\n",
      "three           1.328e+04   1852.036      7.168      0.000    9610.145    1.69e+04\n",
      "twelve         -1.829e+04   3573.045     -5.120      0.000   -2.54e+04   -1.12e+04\n",
      "two             8984.0445   1194.680      7.520      0.000    6619.624    1.13e+04\n",
      "bmw              1.04e+04    926.738     11.221      0.000    8564.904    1.22e+04\n",
      "mitsubishi     -2222.4106    724.878     -3.066      0.003   -3657.035    -787.787\n",
      "peugeot        -8514.2697   1157.445     -7.356      0.000   -1.08e+04   -6223.542\n",
      "porsche         4863.4232   1715.691      2.835      0.005    1467.859    8258.988\n",
      "==============================================================================\n",
      "Omnibus:                       22.385   Durbin-Watson:                   1.937\n",
      "Prob(Omnibus):                  0.000   Jarque-Bera (JB):               37.891\n",
      "Skew:                           0.754   Prob(JB):                     5.92e-09\n",
      "Kurtosis:                       5.021   Cond. No.                     1.04e+17\n",
      "==============================================================================\n",
      "\n",
      "Warnings:\n",
      "[1] Standard Errors assume that the covariance matrix of the errors is correctly specified.\n",
      "[2] The smallest eigenvalue is 4.99e-32. This might indicate that there are\n",
      "strong multicollinearity problems or that the design matrix is singular.\n"
     ]
    }
   ],
   "source": [
    "X_train_rfe,lm=reit_lm(X_train_rfe,'dohcv')"
   ]
  },
  {
   "cell_type": "code",
   "execution_count": 43,
   "metadata": {},
   "outputs": [
    {
     "name": "stdout",
     "output_type": "stream",
     "text": [
      "          Features    VIF\n",
      "9            rotor    inf\n",
      "8                l    inf\n",
      "17         peugeot    inf\n",
      "14             two    inf\n",
      "12           three    inf\n",
      "3       enginesize  85.27\n",
      "0   enginelocation  70.03\n",
      "2       curbweight  59.97\n",
      "11            four  56.38\n",
      "1         carwidth  42.78\n",
      "4        boreratio  42.65\n",
      "5           stroke  31.62\n",
      "6       horsepower  24.55\n",
      "7          peakrpm  10.08\n",
      "13          twelve   3.21\n",
      "10            five   3.20\n",
      "18         porsche   1.93\n",
      "15             bmw   1.35\n",
      "16      mitsubishi   1.24\n"
     ]
    }
   ],
   "source": [
    "VIF_calc(X_train_rfe)"
   ]
  },
  {
   "cell_type": "markdown",
   "metadata": {},
   "source": [
    "#### We can see that column \"peakrpm\" is having high p-value, let's drop it"
   ]
  },
  {
   "cell_type": "code",
   "execution_count": 44,
   "metadata": {},
   "outputs": [
    {
     "name": "stdout",
     "output_type": "stream",
     "text": [
      "                            OLS Regression Results                            \n",
      "==============================================================================\n",
      "Dep. Variable:                  price   R-squared:                       0.945\n",
      "Model:                            OLS   Adj. R-squared:                  0.938\n",
      "Method:                 Least Squares   F-statistic:                     134.8\n",
      "Date:                Mon, 20 Jan 2020   Prob (F-statistic):           4.41e-71\n",
      "Time:                        20:34:36   Log-Likelihood:                -1276.9\n",
      "No. Observations:                 143   AIC:                             2588.\n",
      "Df Residuals:                     126   BIC:                             2638.\n",
      "Df Model:                          16                                         \n",
      "Covariance Type:            nonrobust                                         \n",
      "==================================================================================\n",
      "                     coef    std err          t      P>|t|      [0.025      0.975]\n",
      "----------------------------------------------------------------------------------\n",
      "const           6680.5269   2688.362      2.485      0.014    1360.337     1.2e+04\n",
      "enginelocation  -1.32e+04   2603.242     -5.072      0.000   -1.84e+04   -8051.103\n",
      "carwidth         1.24e+04   2179.670      5.691      0.000    8090.732    1.67e+04\n",
      "curbweight      1.218e+04   2700.242      4.510      0.000    6834.975    1.75e+04\n",
      "enginesize      4.618e+04   5549.348      8.322      0.000    3.52e+04    5.72e+04\n",
      "boreratio      -1.402e+04   1912.946     -7.330      0.000   -1.78e+04   -1.02e+04\n",
      "stroke         -9324.7165   1641.581     -5.680      0.000   -1.26e+04   -6076.077\n",
      "horsepower      5528.6801   2397.321      2.306      0.023     784.452    1.03e+04\n",
      "l               4798.6276    903.999      5.308      0.000    3009.641    6587.614\n",
      "rotor           9213.8336   1170.411      7.872      0.000    6897.624    1.15e+04\n",
      "five            6574.3413   1193.883      5.507      0.000    4211.682    8937.000\n",
      "four            9788.5260   1458.461      6.712      0.000    6902.274    1.27e+04\n",
      "three           1.339e+04   1847.716      7.247      0.000    9733.763     1.7e+04\n",
      "twelve         -1.861e+04   3557.007     -5.232      0.000   -2.56e+04   -1.16e+04\n",
      "two             9213.8336   1170.411      7.872      0.000    6897.624    1.15e+04\n",
      "bmw              1.04e+04    926.487     11.223      0.000    8564.417    1.22e+04\n",
      "mitsubishi     -2253.4699    723.968     -3.113      0.002   -3686.182    -820.758\n",
      "peugeot        -8591.7124   1154.350     -7.443      0.000   -1.09e+04   -6307.288\n",
      "porsche         4799.6791   1713.957      2.800      0.006    1407.809    8191.549\n",
      "==============================================================================\n",
      "Omnibus:                       24.964   Durbin-Watson:                   1.948\n",
      "Prob(Omnibus):                  0.000   Jarque-Bera (JB):               42.876\n",
      "Skew:                           0.831   Prob(JB):                     4.89e-10\n",
      "Kurtosis:                       5.106   Cond. No.                     8.62e+16\n",
      "==============================================================================\n",
      "\n",
      "Warnings:\n",
      "[1] Standard Errors assume that the covariance matrix of the errors is correctly specified.\n",
      "[2] The smallest eigenvalue is 6.94e-32. This might indicate that there are\n",
      "strong multicollinearity problems or that the design matrix is singular.\n"
     ]
    }
   ],
   "source": [
    "X_train_rfe,lm=reit_lm(X_train_rfe,'peakrpm')"
   ]
  },
  {
   "cell_type": "code",
   "execution_count": 45,
   "metadata": {},
   "outputs": [
    {
     "name": "stdout",
     "output_type": "stream",
     "text": [
      "          Features    VIF\n",
      "16         peugeot    inf\n",
      "7                l    inf\n",
      "8            rotor    inf\n",
      "11           three    inf\n",
      "13             two    inf\n",
      "3       enginesize  85.27\n",
      "0   enginelocation  66.62\n",
      "2       curbweight  57.83\n",
      "10            four  52.87\n",
      "1         carwidth  42.69\n",
      "4        boreratio  38.98\n",
      "5           stroke  31.51\n",
      "6       horsepower  16.86\n",
      "12          twelve   3.14\n",
      "9             five   3.06\n",
      "17         porsche   1.91\n",
      "14             bmw   1.35\n",
      "15      mitsubishi   1.24\n"
     ]
    }
   ],
   "source": [
    "VIF_calc(X_train_rfe)"
   ]
  },
  {
   "cell_type": "markdown",
   "metadata": {},
   "source": [
    "#### As we can see there is no change in R-Squared. Also now thep-value of column \"peugeot\" is very high, so, let's drop it"
   ]
  },
  {
   "cell_type": "code",
   "execution_count": 46,
   "metadata": {},
   "outputs": [
    {
     "name": "stdout",
     "output_type": "stream",
     "text": [
      "                            OLS Regression Results                            \n",
      "==============================================================================\n",
      "Dep. Variable:                  price   R-squared:                       0.945\n",
      "Model:                            OLS   Adj. R-squared:                  0.938\n",
      "Method:                 Least Squares   F-statistic:                     134.8\n",
      "Date:                Mon, 20 Jan 2020   Prob (F-statistic):           4.41e-71\n",
      "Time:                        20:34:41   Log-Likelihood:                -1276.9\n",
      "No. Observations:                 143   AIC:                             2588.\n",
      "Df Residuals:                     126   BIC:                             2638.\n",
      "Df Model:                          16                                         \n",
      "Covariance Type:            nonrobust                                         \n",
      "==================================================================================\n",
      "                     coef    std err          t      P>|t|      [0.025      0.975]\n",
      "----------------------------------------------------------------------------------\n",
      "const           6680.5269   2688.362      2.485      0.014    1360.337     1.2e+04\n",
      "enginelocation  -1.32e+04   2603.242     -5.072      0.000   -1.84e+04   -8051.103\n",
      "carwidth         1.24e+04   2179.670      5.691      0.000    8090.732    1.67e+04\n",
      "curbweight      1.218e+04   2700.242      4.510      0.000    6834.975    1.75e+04\n",
      "enginesize      4.618e+04   5549.348      8.322      0.000    3.52e+04    5.72e+04\n",
      "boreratio      -1.402e+04   1912.946     -7.330      0.000   -1.78e+04   -1.02e+04\n",
      "stroke         -9324.7165   1641.581     -5.680      0.000   -1.26e+04   -6076.077\n",
      "horsepower      5528.6801   2397.321      2.306      0.023     784.452    1.03e+04\n",
      "l              -3793.0847    940.967     -4.031      0.000   -5655.230   -1930.939\n",
      "rotor           9213.8336   1170.411      7.872      0.000    6897.624    1.15e+04\n",
      "five            6574.3413   1193.883      5.507      0.000    4211.682    8937.000\n",
      "four            9788.5260   1458.461      6.712      0.000    6902.274    1.27e+04\n",
      "three           2.198e+04   2945.496      7.463      0.000    1.62e+04    2.78e+04\n",
      "twelve         -1.861e+04   3557.007     -5.232      0.000   -2.56e+04   -1.16e+04\n",
      "two             9213.8336   1170.411      7.872      0.000    6897.624    1.15e+04\n",
      "bmw              1.04e+04    926.487     11.223      0.000    8564.417    1.22e+04\n",
      "mitsubishi     -2253.4699    723.968     -3.113      0.002   -3686.182    -820.758\n",
      "porsche         4799.6791   1713.957      2.800      0.006    1407.809    8191.549\n",
      "==============================================================================\n",
      "Omnibus:                       24.964   Durbin-Watson:                   1.948\n",
      "Prob(Omnibus):                  0.000   Jarque-Bera (JB):               42.876\n",
      "Skew:                           0.831   Prob(JB):                     4.89e-10\n",
      "Kurtosis:                       5.106   Cond. No.                     9.16e+16\n",
      "==============================================================================\n",
      "\n",
      "Warnings:\n",
      "[1] Standard Errors assume that the covariance matrix of the errors is correctly specified.\n",
      "[2] The smallest eigenvalue is 6.15e-32. This might indicate that there are\n",
      "strong multicollinearity problems or that the design matrix is singular.\n"
     ]
    }
   ],
   "source": [
    "X_train_rfe,lm=reit_lm(X_train_rfe,'peugeot')"
   ]
  },
  {
   "cell_type": "code",
   "execution_count": 47,
   "metadata": {},
   "outputs": [
    {
     "name": "stdout",
     "output_type": "stream",
     "text": [
      "          Features    VIF\n",
      "8            rotor    inf\n",
      "13             two    inf\n",
      "3       enginesize  85.27\n",
      "0   enginelocation  66.62\n",
      "2       curbweight  57.83\n",
      "10            four  52.87\n",
      "1         carwidth  42.69\n",
      "4        boreratio  38.98\n",
      "5           stroke  31.51\n",
      "6       horsepower  16.86\n",
      "12          twelve   3.14\n",
      "9             five   3.06\n",
      "11           three   2.22\n",
      "7                l   2.10\n",
      "16         porsche   1.91\n",
      "14             bmw   1.35\n",
      "15      mitsubishi   1.24\n"
     ]
    }
   ],
   "source": [
    "VIF_calc(X_train_rfe)"
   ]
  },
  {
   "cell_type": "markdown",
   "metadata": {},
   "source": [
    "#### VIF for column \"rotor\" is way too high, let's drop it"
   ]
  },
  {
   "cell_type": "code",
   "execution_count": 48,
   "metadata": {},
   "outputs": [
    {
     "name": "stdout",
     "output_type": "stream",
     "text": [
      "                            OLS Regression Results                            \n",
      "==============================================================================\n",
      "Dep. Variable:                  price   R-squared:                       0.945\n",
      "Model:                            OLS   Adj. R-squared:                  0.938\n",
      "Method:                 Least Squares   F-statistic:                     134.8\n",
      "Date:                Mon, 20 Jan 2020   Prob (F-statistic):           4.41e-71\n",
      "Time:                        20:34:48   Log-Likelihood:                -1276.9\n",
      "No. Observations:                 143   AIC:                             2588.\n",
      "Df Residuals:                     126   BIC:                             2638.\n",
      "Df Model:                          16                                         \n",
      "Covariance Type:            nonrobust                                         \n",
      "==================================================================================\n",
      "                     coef    std err          t      P>|t|      [0.025      0.975]\n",
      "----------------------------------------------------------------------------------\n",
      "const           6680.5269   2688.362      2.485      0.014    1360.337     1.2e+04\n",
      "enginelocation  -1.32e+04   2603.242     -5.072      0.000   -1.84e+04   -8051.103\n",
      "carwidth         1.24e+04   2179.670      5.691      0.000    8090.732    1.67e+04\n",
      "curbweight      1.218e+04   2700.242      4.510      0.000    6834.975    1.75e+04\n",
      "enginesize      4.618e+04   5549.348      8.322      0.000    3.52e+04    5.72e+04\n",
      "boreratio      -1.402e+04   1912.946     -7.330      0.000   -1.78e+04   -1.02e+04\n",
      "stroke         -9324.7165   1641.581     -5.680      0.000   -1.26e+04   -6076.077\n",
      "horsepower      5528.6801   2397.321      2.306      0.023     784.452    1.03e+04\n",
      "l              -3793.0847    940.967     -4.031      0.000   -5655.230   -1930.939\n",
      "five            6574.3413   1193.883      5.507      0.000    4211.682    8937.000\n",
      "four            9788.5260   1458.461      6.712      0.000    6902.274    1.27e+04\n",
      "three           2.198e+04   2945.496      7.463      0.000    1.62e+04    2.78e+04\n",
      "twelve         -1.861e+04   3557.007     -5.232      0.000   -2.56e+04   -1.16e+04\n",
      "two             1.843e+04   2340.823      7.872      0.000    1.38e+04    2.31e+04\n",
      "bmw              1.04e+04    926.487     11.223      0.000    8564.417    1.22e+04\n",
      "mitsubishi     -2253.4699    723.968     -3.113      0.002   -3686.182    -820.758\n",
      "porsche         4799.6791   1713.957      2.800      0.006    1407.809    8191.549\n",
      "==============================================================================\n",
      "Omnibus:                       24.964   Durbin-Watson:                   1.948\n",
      "Prob(Omnibus):                  0.000   Jarque-Bera (JB):               42.876\n",
      "Skew:                           0.831   Prob(JB):                     4.89e-10\n",
      "Kurtosis:                       5.106   Cond. No.                         84.3\n",
      "==============================================================================\n",
      "\n",
      "Warnings:\n",
      "[1] Standard Errors assume that the covariance matrix of the errors is correctly specified.\n"
     ]
    }
   ],
   "source": [
    "X_train_rfe,lm=reit_lm(X_train_rfe,'rotor')"
   ]
  },
  {
   "cell_type": "code",
   "execution_count": 49,
   "metadata": {},
   "outputs": [
    {
     "name": "stdout",
     "output_type": "stream",
     "text": [
      "          Features    VIF\n",
      "3       enginesize  85.27\n",
      "0   enginelocation  66.62\n",
      "2       curbweight  57.83\n",
      "9             four  52.87\n",
      "1         carwidth  42.69\n",
      "4        boreratio  38.98\n",
      "5           stroke  31.51\n",
      "6       horsepower  16.86\n",
      "12             two   5.18\n",
      "11          twelve   3.14\n",
      "8             five   3.06\n",
      "10           three   2.22\n",
      "7                l   2.10\n",
      "15         porsche   1.91\n",
      "13             bmw   1.35\n",
      "14      mitsubishi   1.24\n"
     ]
    }
   ],
   "source": [
    "VIF_calc(X_train_rfe)"
   ]
  },
  {
   "cell_type": "markdown",
   "metadata": {},
   "source": [
    "#### VIF of column \"enginesize\" is way to high, let's drop it"
   ]
  },
  {
   "cell_type": "code",
   "execution_count": 50,
   "metadata": {},
   "outputs": [
    {
     "name": "stdout",
     "output_type": "stream",
     "text": [
      "                            OLS Regression Results                            \n",
      "==============================================================================\n",
      "Dep. Variable:                  price   R-squared:                       0.914\n",
      "Model:                            OLS   Adj. R-squared:                  0.904\n",
      "Method:                 Least Squares   F-statistic:                     90.54\n",
      "Date:                Mon, 20 Jan 2020   Prob (F-statistic):           3.50e-60\n",
      "Time:                        20:35:33   Log-Likelihood:                -1308.3\n",
      "No. Observations:                 143   AIC:                             2649.\n",
      "Df Residuals:                     127   BIC:                             2696.\n",
      "Df Model:                          15                                         \n",
      "Covariance Type:            nonrobust                                         \n",
      "==================================================================================\n",
      "                     coef    std err          t      P>|t|      [0.025      0.975]\n",
      "----------------------------------------------------------------------------------\n",
      "const           1.392e+04   3153.922      4.414      0.000    7680.726    2.02e+04\n",
      "enginelocation -1.594e+04   3201.905     -4.979      0.000   -2.23e+04   -9606.584\n",
      "carwidth        1.353e+04   2697.451      5.014      0.000    8188.264    1.89e+04\n",
      "curbweight      2.223e+04   2994.304      7.425      0.000    1.63e+04    2.82e+04\n",
      "boreratio      -3882.1295   1828.391     -2.123      0.036   -7500.186    -264.073\n",
      "stroke          -575.1910   1563.156     -0.368      0.714   -3668.394    2518.012\n",
      "horsepower      4338.3507   2967.200      1.462      0.146   -1533.203    1.02e+04\n",
      "l              -5318.7821   1144.367     -4.648      0.000   -7583.277   -3054.287\n",
      "five             147.1402   1128.840      0.130      0.896   -2086.631    2380.912\n",
      "four             896.5338   1230.814      0.728      0.468   -1539.026    3332.094\n",
      "three           1.344e+04   3423.425      3.927      0.000    6668.913    2.02e+04\n",
      "twelve          4126.0391   2824.175      1.461      0.146   -1462.493    9714.572\n",
      "two             2192.5142   1603.920      1.367      0.174    -981.354    5366.383\n",
      "bmw             9808.7641   1145.415      8.564      0.000    7542.195    1.21e+04\n",
      "mitsubishi     -1913.6099    896.236     -2.135      0.035   -3687.100    -140.120\n",
      "porsche         4471.5427   2124.613      2.105      0.037     267.317    8675.769\n",
      "==============================================================================\n",
      "Omnibus:                       21.506   Durbin-Watson:                   2.076\n",
      "Prob(Omnibus):                  0.000   Jarque-Bera (JB):               42.970\n",
      "Skew:                           0.656   Prob(JB):                     4.67e-10\n",
      "Kurtosis:                       5.344   Cond. No.                         43.8\n",
      "==============================================================================\n",
      "\n",
      "Warnings:\n",
      "[1] Standard Errors assume that the covariance matrix of the errors is correctly specified.\n"
     ]
    }
   ],
   "source": [
    "X_train_rfe,lm=reit_lm(X_train_rfe,'enginesize')"
   ]
  },
  {
   "cell_type": "code",
   "execution_count": 51,
   "metadata": {},
   "outputs": [
    {
     "name": "stdout",
     "output_type": "stream",
     "text": [
      "          Features    VIF\n",
      "0   enginelocation  60.11\n",
      "2       curbweight  45.71\n",
      "1         carwidth  42.69\n",
      "8             four  26.94\n",
      "3        boreratio  23.77\n",
      "4           stroke  17.98\n",
      "5       horsepower  16.85\n",
      "6                l   2.02\n",
      "9            three   2.00\n",
      "7             five   1.93\n",
      "14         porsche   1.88\n",
      "11             two   1.75\n",
      "10          twelve   1.37\n",
      "12             bmw   1.35\n",
      "13      mitsubishi   1.24\n"
     ]
    }
   ],
   "source": [
    "VIF_calc(X_train_rfe)"
   ]
  },
  {
   "cell_type": "markdown",
   "metadata": {},
   "source": [
    "#### p-value for \"five\"  is too high, let's drop it"
   ]
  },
  {
   "cell_type": "code",
   "execution_count": 52,
   "metadata": {},
   "outputs": [
    {
     "name": "stdout",
     "output_type": "stream",
     "text": [
      "                            OLS Regression Results                            \n",
      "==============================================================================\n",
      "Dep. Variable:                  price   R-squared:                       0.914\n",
      "Model:                            OLS   Adj. R-squared:                  0.905\n",
      "Method:                 Least Squares   F-statistic:                     97.75\n",
      "Date:                Mon, 20 Jan 2020   Prob (F-statistic):           3.50e-61\n",
      "Time:                        20:35:50   Log-Likelihood:                -1308.3\n",
      "No. Observations:                 143   AIC:                             2647.\n",
      "Df Residuals:                     128   BIC:                             2691.\n",
      "Df Model:                          14                                         \n",
      "Covariance Type:            nonrobust                                         \n",
      "==================================================================================\n",
      "                     coef    std err          t      P>|t|      [0.025      0.975]\n",
      "----------------------------------------------------------------------------------\n",
      "const           1.398e+04   3111.998      4.492      0.000    7820.629    2.01e+04\n",
      "enginelocation -1.594e+04   3189.537     -4.999      0.000   -2.23e+04   -9633.867\n",
      "carwidth        1.363e+04   2567.989      5.307      0.000    8548.340    1.87e+04\n",
      "curbweight      2.217e+04   2944.705      7.529      0.000    1.63e+04     2.8e+04\n",
      "boreratio      -3858.7543   1812.575     -2.129      0.035   -7445.243    -272.265\n",
      "stroke          -560.8563   1553.283     -0.361      0.719   -3634.293    2512.580\n",
      "horsepower      4211.1731   2791.416      1.509      0.134   -1312.120    9734.466\n",
      "l              -5323.9773   1139.272     -4.673      0.000   -7578.222   -3069.733\n",
      "four             823.5533   1091.876      0.754      0.452   -1336.910    2984.017\n",
      "three           1.338e+04   3380.009      3.960      0.000    6696.029    2.01e+04\n",
      "twelve          4135.7343   2812.334      1.471      0.144   -1428.948    9700.417\n",
      "two             2126.8728   1516.953      1.402      0.163    -874.678    5128.423\n",
      "bmw             9773.6648   1109.029      8.813      0.000    7579.261     1.2e+04\n",
      "mitsubishi     -1905.8354    890.809     -2.139      0.034   -3668.453    -143.218\n",
      "porsche         4464.5487   2115.764      2.110      0.037     278.148    8650.950\n",
      "==============================================================================\n",
      "Omnibus:                       21.167   Durbin-Watson:                   2.075\n",
      "Prob(Omnibus):                  0.000   Jarque-Bera (JB):               42.012\n",
      "Skew:                           0.648   Prob(JB):                     7.54e-10\n",
      "Kurtosis:                       5.318   Cond. No.                         43.8\n",
      "==============================================================================\n",
      "\n",
      "Warnings:\n",
      "[1] Standard Errors assume that the covariance matrix of the errors is correctly specified.\n"
     ]
    }
   ],
   "source": [
    "X_train_rfe,lm=reit_lm(X_train_rfe,'five')"
   ]
  },
  {
   "cell_type": "code",
   "execution_count": 53,
   "metadata": {},
   "outputs": [
    {
     "name": "stdout",
     "output_type": "stream",
     "text": [
      "          Features    VIF\n",
      "0   enginelocation  56.80\n",
      "2       curbweight  44.74\n",
      "1         carwidth  39.42\n",
      "3        boreratio  23.50\n",
      "7             four  21.64\n",
      "4           stroke  17.80\n",
      "5       horsepower  15.14\n",
      "6                l   2.02\n",
      "8            three   1.97\n",
      "13         porsche   1.88\n",
      "10             two   1.59\n",
      "9           twelve   1.37\n",
      "11             bmw   1.28\n",
      "12      mitsubishi   1.23\n"
     ]
    }
   ],
   "source": [
    "VIF_calc(X_train_rfe)"
   ]
  },
  {
   "cell_type": "markdown",
   "metadata": {},
   "source": [
    "#### p-value of column \"stroke\" is high,let's drop it"
   ]
  },
  {
   "cell_type": "code",
   "execution_count": 54,
   "metadata": {},
   "outputs": [
    {
     "name": "stdout",
     "output_type": "stream",
     "text": [
      "                            OLS Regression Results                            \n",
      "==============================================================================\n",
      "Dep. Variable:                  price   R-squared:                       0.914\n",
      "Model:                            OLS   Adj. R-squared:                  0.906\n",
      "Method:                 Least Squares   F-statistic:                     106.0\n",
      "Date:                Mon, 20 Jan 2020   Prob (F-statistic):           3.55e-62\n",
      "Time:                        20:36:07   Log-Likelihood:                -1308.3\n",
      "No. Observations:                 143   AIC:                             2645.\n",
      "Df Residuals:                     129   BIC:                             2686.\n",
      "Df Model:                          13                                         \n",
      "Covariance Type:            nonrobust                                         \n",
      "==================================================================================\n",
      "                     coef    std err          t      P>|t|      [0.025      0.975]\n",
      "----------------------------------------------------------------------------------\n",
      "const           1.375e+04   3035.859      4.529      0.000    7741.785    1.98e+04\n",
      "enginelocation  -1.59e+04   3175.935     -5.005      0.000   -2.22e+04   -9612.636\n",
      "carwidth        1.345e+04   2510.738      5.357      0.000    8482.181    1.84e+04\n",
      "curbweight      2.191e+04   2848.946      7.692      0.000    1.63e+04    2.76e+04\n",
      "boreratio      -3583.8312   1639.349     -2.186      0.031   -6827.323    -340.339\n",
      "horsepower      4171.8376   2779.871      1.501      0.136   -1328.206    9671.881\n",
      "l              -5256.5930   1120.089     -4.693      0.000   -7472.716   -3040.470\n",
      "four             744.2771   1065.963      0.698      0.486   -1364.757    2853.311\n",
      "three           1.321e+04   3334.115      3.962      0.000    6613.149    1.98e+04\n",
      "twelve          4401.1307   2705.421      1.627      0.106    -951.611    9753.872\n",
      "two             2047.1090   1495.715      1.369      0.173    -912.200    5006.418\n",
      "bmw             9774.5232   1105.282      8.843      0.000    7587.695     1.2e+04\n",
      "mitsubishi     -1965.7853    872.245     -2.254      0.026   -3691.543    -240.028\n",
      "porsche         4484.1181   2107.929      2.127      0.035     313.529    8654.707\n",
      "==============================================================================\n",
      "Omnibus:                       21.152   Durbin-Watson:                   2.061\n",
      "Prob(Omnibus):                  0.000   Jarque-Bera (JB):               41.333\n",
      "Skew:                           0.653   Prob(JB):                     1.06e-09\n",
      "Kurtosis:                       5.287   Cond. No.                         41.4\n",
      "==============================================================================\n",
      "\n",
      "Warnings:\n",
      "[1] Standard Errors assume that the covariance matrix of the errors is correctly specified.\n"
     ]
    }
   ],
   "source": [
    "X_train_rfe,lm=reit_lm(X_train_rfe,'stroke')"
   ]
  },
  {
   "cell_type": "code",
   "execution_count": 55,
   "metadata": {},
   "outputs": [
    {
     "name": "stdout",
     "output_type": "stream",
     "text": [
      "          Features    VIF\n",
      "0   enginelocation  51.86\n",
      "2       curbweight  41.55\n",
      "1         carwidth  38.29\n",
      "6             four  20.52\n",
      "3        boreratio  19.43\n",
      "4       horsepower  15.09\n",
      "5                l   1.96\n",
      "7            three   1.92\n",
      "12         porsche   1.87\n",
      "9              two   1.54\n",
      "10             bmw   1.28\n",
      "8           twelve   1.27\n",
      "11      mitsubishi   1.19\n"
     ]
    }
   ],
   "source": [
    "VIF_calc(X_train_rfe)"
   ]
  },
  {
   "cell_type": "markdown",
   "metadata": {},
   "source": [
    "#### p-value of column \"four\" is high, let's drop it"
   ]
  },
  {
   "cell_type": "code",
   "execution_count": 56,
   "metadata": {},
   "outputs": [
    {
     "name": "stdout",
     "output_type": "stream",
     "text": [
      "                            OLS Regression Results                            \n",
      "==============================================================================\n",
      "Dep. Variable:                  price   R-squared:                       0.914\n",
      "Model:                            OLS   Adj. R-squared:                  0.906\n",
      "Method:                 Least Squares   F-statistic:                     115.2\n",
      "Date:                Mon, 20 Jan 2020   Prob (F-statistic):           4.11e-63\n",
      "Time:                        20:36:23   Log-Likelihood:                -1308.6\n",
      "No. Observations:                 143   AIC:                             2643.\n",
      "Df Residuals:                     130   BIC:                             2682.\n",
      "Df Model:                          12                                         \n",
      "Covariance Type:            nonrobust                                         \n",
      "==================================================================================\n",
      "                     coef    std err          t      P>|t|      [0.025      0.975]\n",
      "----------------------------------------------------------------------------------\n",
      "const           1.406e+04   2997.458      4.690      0.000    8127.412       2e+04\n",
      "enginelocation -1.531e+04   3055.348     -5.010      0.000   -2.14e+04   -9261.482\n",
      "carwidth        1.297e+04   2410.717      5.381      0.000    8202.130    1.77e+04\n",
      "curbweight      2.121e+04   2658.858      7.977      0.000    1.59e+04    2.65e+04\n",
      "boreratio      -2919.6537   1332.507     -2.191      0.030   -5555.859    -283.449\n",
      "horsepower      3442.6912   2571.181      1.339      0.183   -1644.083    8529.466\n",
      "l              -4934.8641   1018.905     -4.843      0.000   -6950.647   -2919.082\n",
      "three           1.187e+04   2718.619      4.365      0.000    6488.955    1.72e+04\n",
      "twelve          4782.2024   2644.570      1.808      0.073    -449.763       1e+04\n",
      "two             1459.5731   1234.120      1.183      0.239    -981.986    3901.133\n",
      "bmw             9528.4984   1045.545      9.113      0.000    7460.012    1.16e+04\n",
      "mitsubishi     -1809.5056    841.374     -2.151      0.033   -3474.064    -144.947\n",
      "porsche         4633.2067   2092.948      2.214      0.029     492.559    8773.855\n",
      "==============================================================================\n",
      "Omnibus:                       21.940   Durbin-Watson:                   2.079\n",
      "Prob(Omnibus):                  0.000   Jarque-Bera (JB):               44.235\n",
      "Skew:                           0.666   Prob(JB):                     2.48e-10\n",
      "Kurtosis:                       5.377   Cond. No.                         37.4\n",
      "==============================================================================\n",
      "\n",
      "Warnings:\n",
      "[1] Standard Errors assume that the covariance matrix of the errors is correctly specified.\n"
     ]
    }
   ],
   "source": [
    "X_train_rfe,lm=reit_lm(X_train_rfe,'four')"
   ]
  },
  {
   "cell_type": "code",
   "execution_count": 57,
   "metadata": {},
   "outputs": [
    {
     "name": "stdout",
     "output_type": "stream",
     "text": [
      "          Features    VIF\n",
      "2       curbweight  36.76\n",
      "1         carwidth  34.98\n",
      "4       horsepower  13.03\n",
      "3        boreratio  12.82\n",
      "0   enginelocation  11.91\n",
      "11         porsche   1.80\n",
      "5                l   1.63\n",
      "6            three   1.29\n",
      "7           twelve   1.22\n",
      "9              bmw   1.15\n",
      "10      mitsubishi   1.11\n",
      "8              two   1.06\n"
     ]
    }
   ],
   "source": [
    "VIF_calc(X_train_rfe)"
   ]
  },
  {
   "cell_type": "markdown",
   "metadata": {},
   "source": [
    "#### p-valueof column \"two\" is high,let's drop it"
   ]
  },
  {
   "cell_type": "code",
   "execution_count": 58,
   "metadata": {},
   "outputs": [
    {
     "name": "stdout",
     "output_type": "stream",
     "text": [
      "                            OLS Regression Results                            \n",
      "==============================================================================\n",
      "Dep. Variable:                  price   R-squared:                       0.913\n",
      "Model:                            OLS   Adj. R-squared:                  0.906\n",
      "Method:                 Least Squares   F-statistic:                     125.2\n",
      "Date:                Mon, 20 Jan 2020   Prob (F-statistic):           7.15e-64\n",
      "Time:                        20:36:33   Log-Likelihood:                -1309.4\n",
      "No. Observations:                 143   AIC:                             2643.\n",
      "Df Residuals:                     131   BIC:                             2678.\n",
      "Df Model:                          11                                         \n",
      "Covariance Type:            nonrobust                                         \n",
      "==================================================================================\n",
      "                     coef    std err          t      P>|t|      [0.025      0.975]\n",
      "----------------------------------------------------------------------------------\n",
      "const           1.411e+04   3001.649      4.702      0.000    8174.962    2.01e+04\n",
      "enginelocation -1.534e+04   3059.856     -5.013      0.000   -2.14e+04   -9287.411\n",
      "carwidth         1.31e+04   2412.098      5.429      0.000    8323.741    1.79e+04\n",
      "curbweight      2.078e+04   2637.878      7.878      0.000    1.56e+04     2.6e+04\n",
      "boreratio      -2811.9325   1331.412     -2.112      0.037   -5445.782    -178.083\n",
      "horsepower      3873.6804   2549.096      1.520      0.131   -1169.040    8916.401\n",
      "l              -4922.9909   1020.405     -4.825      0.000   -6941.596   -2904.386\n",
      "three           1.181e+04   2722.390      4.340      0.000    6429.341    1.72e+04\n",
      "twelve          4607.6747   2644.465      1.742      0.084    -623.708    9839.058\n",
      "bmw             9461.4725   1045.596      9.049      0.000    7393.034    1.15e+04\n",
      "mitsubishi     -1881.9073    840.420     -2.239      0.027   -3544.459    -219.355\n",
      "porsche         4364.6097   2083.754      2.095      0.038     242.447    8486.772\n",
      "==============================================================================\n",
      "Omnibus:                       20.457   Durbin-Watson:                   2.085\n",
      "Prob(Omnibus):                  0.000   Jarque-Bera (JB):               39.110\n",
      "Skew:                           0.640   Prob(JB):                     3.22e-09\n",
      "Kurtosis:                       5.219   Cond. No.                         37.3\n",
      "==============================================================================\n",
      "\n",
      "Warnings:\n",
      "[1] Standard Errors assume that the covariance matrix of the errors is correctly specified.\n"
     ]
    }
   ],
   "source": [
    "X_train_rfe,lm=reit_lm(X_train_rfe,'two')"
   ]
  },
  {
   "cell_type": "code",
   "execution_count": 59,
   "metadata": {},
   "outputs": [
    {
     "name": "stdout",
     "output_type": "stream",
     "text": [
      "          Features    VIF\n",
      "2       curbweight  36.08\n",
      "1         carwidth  34.92\n",
      "4       horsepower  12.76\n",
      "3        boreratio  12.75\n",
      "0   enginelocation  11.90\n",
      "10         porsche   1.78\n",
      "5                l   1.63\n",
      "6            three   1.29\n",
      "7           twelve   1.22\n",
      "8              bmw   1.14\n",
      "9       mitsubishi   1.11\n"
     ]
    }
   ],
   "source": [
    "VIF_calc(X_train_rfe)"
   ]
  },
  {
   "cell_type": "markdown",
   "metadata": {},
   "source": [
    "#### p-value of \"horsepower\" is high, let's drop it"
   ]
  },
  {
   "cell_type": "code",
   "execution_count": 60,
   "metadata": {},
   "outputs": [
    {
     "name": "stdout",
     "output_type": "stream",
     "text": [
      "                            OLS Regression Results                            \n",
      "==============================================================================\n",
      "Dep. Variable:                  price   R-squared:                       0.912\n",
      "Model:                            OLS   Adj. R-squared:                  0.905\n",
      "Method:                 Least Squares   F-statistic:                     136.1\n",
      "Date:                Mon, 20 Jan 2020   Prob (F-statistic):           1.86e-64\n",
      "Time:                        20:36:41   Log-Likelihood:                -1310.6\n",
      "No. Observations:                 143   AIC:                             2643.\n",
      "Df Residuals:                     132   BIC:                             2676.\n",
      "Df Model:                          10                                         \n",
      "Covariance Type:            nonrobust                                         \n",
      "==================================================================================\n",
      "                     coef    std err          t      P>|t|      [0.025      0.975]\n",
      "----------------------------------------------------------------------------------\n",
      "const           1.421e+04   3015.776      4.713      0.000    8247.309    2.02e+04\n",
      "enginelocation -1.552e+04   3072.629     -5.052      0.000   -2.16e+04   -9444.875\n",
      "carwidth        1.322e+04   2422.520      5.459      0.000    8432.866     1.8e+04\n",
      "curbweight      2.298e+04   2218.081     10.358      0.000    1.86e+04    2.74e+04\n",
      "boreratio      -2854.3942   1337.704     -2.134      0.035   -5500.504    -208.284\n",
      "l              -5519.8514    946.445     -5.832      0.000   -7392.014   -3647.689\n",
      "three            1.25e+04   2697.866      4.634      0.000    7165.273    1.78e+04\n",
      "twelve          5965.5880   2501.230      2.385      0.018    1017.908    1.09e+04\n",
      "bmw             9692.9347   1039.560      9.324      0.000    7636.583    1.17e+04\n",
      "mitsubishi     -1684.2470    834.402     -2.019      0.046   -3334.776     -33.718\n",
      "porsche         5736.3535   1887.374      3.039      0.003    2002.942    9469.765\n",
      "==============================================================================\n",
      "Omnibus:                       21.371   Durbin-Watson:                   2.028\n",
      "Prob(Omnibus):                  0.000   Jarque-Bera (JB):               47.035\n",
      "Skew:                           0.612   Prob(JB):                     6.12e-11\n",
      "Kurtosis:                       5.529   Cond. No.                         36.7\n",
      "==============================================================================\n",
      "\n",
      "Warnings:\n",
      "[1] Standard Errors assume that the covariance matrix of the errors is correctly specified.\n"
     ]
    }
   ],
   "source": [
    "X_train_rfe,lm=reit_lm(X_train_rfe,'horsepower')"
   ]
  },
  {
   "cell_type": "code",
   "execution_count": 61,
   "metadata": {},
   "outputs": [
    {
     "name": "stdout",
     "output_type": "stream",
     "text": [
      "         Features    VIF\n",
      "1        carwidth  34.89\n",
      "2      curbweight  25.03\n",
      "3       boreratio  12.75\n",
      "0  enginelocation  11.83\n",
      "4               l   1.39\n",
      "9         porsche   1.33\n",
      "5           three   1.26\n",
      "7             bmw   1.12\n",
      "6          twelve   1.08\n",
      "8      mitsubishi   1.08\n"
     ]
    }
   ],
   "source": [
    "VIF_calc(X_train_rfe)"
   ]
  },
  {
   "cell_type": "markdown",
   "metadata": {},
   "source": [
    "#### p-value of all the variables are below 0.05 whereas the VIF of \"carwidth\" is high,let's drop it"
   ]
  },
  {
   "cell_type": "code",
   "execution_count": 62,
   "metadata": {},
   "outputs": [
    {
     "name": "stdout",
     "output_type": "stream",
     "text": [
      "                            OLS Regression Results                            \n",
      "==============================================================================\n",
      "Dep. Variable:                  price   R-squared:                       0.892\n",
      "Model:                            OLS   Adj. R-squared:                  0.884\n",
      "Method:                 Least Squares   F-statistic:                     121.6\n",
      "Date:                Mon, 20 Jan 2020   Prob (F-statistic):           1.02e-59\n",
      "Time:                        20:36:51   Log-Likelihood:                -1325.2\n",
      "No. Observations:                 143   AIC:                             2670.\n",
      "Df Residuals:                     133   BIC:                             2700.\n",
      "Df Model:                           9                                         \n",
      "Covariance Type:            nonrobust                                         \n",
      "==================================================================================\n",
      "                     coef    std err          t      P>|t|      [0.025      0.975]\n",
      "----------------------------------------------------------------------------------\n",
      "const           1.165e+04   3285.672      3.545      0.001    5147.659    1.81e+04\n",
      "enginelocation -1.091e+04   3258.281     -3.348      0.001   -1.74e+04   -4463.714\n",
      "curbweight      3.274e+04   1446.200     22.640      0.000    2.99e+04    3.56e+04\n",
      "boreratio      -2668.8546   1474.979     -1.809      0.073   -5586.307     248.597\n",
      "l              -5394.9994   1043.602     -5.170      0.000   -7459.204   -3330.795\n",
      "three            1.03e+04   2942.088      3.499      0.001    4475.712    1.61e+04\n",
      "twelve          5814.9413   2758.630      2.108      0.037     358.479    1.13e+04\n",
      "bmw             8958.8372   1136.977      7.880      0.000    6709.941    1.12e+04\n",
      "mitsubishi     -1772.8783    920.151     -1.927      0.056   -3592.901      47.145\n",
      "porsche         8522.4513   2004.177      4.252      0.000    4558.267    1.25e+04\n",
      "==============================================================================\n",
      "Omnibus:                       21.249   Durbin-Watson:                   2.027\n",
      "Prob(Omnibus):                  0.000   Jarque-Bera (JB):              102.309\n",
      "Skew:                          -0.209   Prob(JB):                     6.08e-23\n",
      "Kurtosis:                       7.123   Cond. No.                         33.3\n",
      "==============================================================================\n",
      "\n",
      "Warnings:\n",
      "[1] Standard Errors assume that the covariance matrix of the errors is correctly specified.\n"
     ]
    }
   ],
   "source": [
    "X_train_rfe,lm=reit_lm(X_train_rfe,'carwidth')"
   ]
  },
  {
   "cell_type": "code",
   "execution_count": 63,
   "metadata": {},
   "outputs": [
    {
     "name": "stdout",
     "output_type": "stream",
     "text": [
      "         Features    VIF\n",
      "2       boreratio  12.75\n",
      "1      curbweight   8.93\n",
      "0  enginelocation   8.23\n",
      "3               l   1.39\n",
      "8         porsche   1.27\n",
      "4           three   1.23\n",
      "6             bmw   1.10\n",
      "5          twelve   1.08\n",
      "7      mitsubishi   1.08\n"
     ]
    }
   ],
   "source": [
    "VIF_calc(X_train_rfe)"
   ]
  },
  {
   "cell_type": "markdown",
   "metadata": {},
   "source": [
    "#### p-value and VIF of boreratio is high, let's drop it"
   ]
  },
  {
   "cell_type": "code",
   "execution_count": 64,
   "metadata": {},
   "outputs": [
    {
     "name": "stdout",
     "output_type": "stream",
     "text": [
      "                            OLS Regression Results                            \n",
      "==============================================================================\n",
      "Dep. Variable:                  price   R-squared:                       0.889\n",
      "Model:                            OLS   Adj. R-squared:                  0.882\n",
      "Method:                 Least Squares   F-statistic:                     134.1\n",
      "Date:                Mon, 20 Jan 2020   Prob (F-statistic):           4.26e-60\n",
      "Time:                        20:37:03   Log-Likelihood:                -1326.9\n",
      "No. Observations:                 143   AIC:                             2672.\n",
      "Df Residuals:                     134   BIC:                             2699.\n",
      "Df Model:                           8                                         \n",
      "Covariance Type:            nonrobust                                         \n",
      "==================================================================================\n",
      "                     coef    std err          t      P>|t|      [0.025      0.975]\n",
      "----------------------------------------------------------------------------------\n",
      "const           1.119e+04   3303.822      3.388      0.001    4659.691    1.77e+04\n",
      "enginelocation -1.115e+04   3282.996     -3.397      0.001   -1.76e+04   -4659.282\n",
      "curbweight      3.128e+04   1208.296     25.885      0.000    2.89e+04    3.37e+04\n",
      "l              -5653.5504   1042.508     -5.423      0.000   -7715.449   -3591.651\n",
      "three           1.076e+04   2955.464      3.642      0.000    4917.559    1.66e+04\n",
      "twelve          6089.3098   2777.733      2.192      0.030     595.439    1.16e+04\n",
      "bmw             8876.4326   1145.663      7.748      0.000    6610.510    1.11e+04\n",
      "mitsubishi     -1763.4113    927.911     -1.900      0.060   -3598.657      71.834\n",
      "porsche         7450.4941   1930.792      3.859      0.000    3631.723    1.13e+04\n",
      "==============================================================================\n",
      "Omnibus:                       15.801   Durbin-Watson:                   1.993\n",
      "Prob(Omnibus):                  0.000   Jarque-Bera (JB):               57.805\n",
      "Skew:                          -0.062   Prob(JB):                     2.80e-13\n",
      "Kurtosis:                       6.112   Cond. No.                         31.5\n",
      "==============================================================================\n",
      "\n",
      "Warnings:\n",
      "[1] Standard Errors assume that the covariance matrix of the errors is correctly specified.\n"
     ]
    }
   ],
   "source": [
    "X_train_rfe,lm=reit_lm(X_train_rfe,'boreratio')"
   ]
  },
  {
   "cell_type": "code",
   "execution_count": 65,
   "metadata": {},
   "outputs": [
    {
     "name": "stdout",
     "output_type": "stream",
     "text": [
      "         Features   VIF\n",
      "1      curbweight  6.08\n",
      "0  enginelocation  5.33\n",
      "2               l  1.36\n",
      "3           three  1.22\n",
      "5             bmw  1.10\n",
      "4          twelve  1.08\n",
      "6      mitsubishi  1.08\n",
      "7         porsche  1.07\n"
     ]
    }
   ],
   "source": [
    "VIF_calc(X_train_rfe)"
   ]
  },
  {
   "cell_type": "markdown",
   "metadata": {},
   "source": [
    "#### p-value of mitsubishi  is increased to 0.06, let's drop it"
   ]
  },
  {
   "cell_type": "code",
   "execution_count": 66,
   "metadata": {},
   "outputs": [
    {
     "name": "stdout",
     "output_type": "stream",
     "text": [
      "                            OLS Regression Results                            \n",
      "==============================================================================\n",
      "Dep. Variable:                  price   R-squared:                       0.886\n",
      "Model:                            OLS   Adj. R-squared:                  0.880\n",
      "Method:                 Least Squares   F-statistic:                     149.9\n",
      "Date:                Mon, 20 Jan 2020   Prob (F-statistic):           1.97e-60\n",
      "Time:                        20:37:19   Log-Likelihood:                -1328.8\n",
      "No. Observations:                 143   AIC:                             2674.\n",
      "Df Residuals:                     135   BIC:                             2697.\n",
      "Df Model:                           7                                         \n",
      "Covariance Type:            nonrobust                                         \n",
      "==================================================================================\n",
      "                     coef    std err          t      P>|t|      [0.025      0.975]\n",
      "----------------------------------------------------------------------------------\n",
      "const           1.104e+04   3334.601      3.310      0.001    4443.686    1.76e+04\n",
      "enginelocation -1.117e+04   3314.591     -3.369      0.001   -1.77e+04   -4610.504\n",
      "curbweight      3.138e+04   1218.571     25.755      0.000     2.9e+04    3.38e+04\n",
      "l              -5557.9152   1051.316     -5.287      0.000   -7637.095   -3478.735\n",
      "three           1.084e+04   2983.660      3.632      0.000    4935.399    1.67e+04\n",
      "twelve          6154.7680   2804.256      2.195      0.030     608.813    1.17e+04\n",
      "bmw             8983.1135   1155.302      7.776      0.000    6698.281    1.13e+04\n",
      "porsche         7552.8218   1948.620      3.876      0.000    3699.051    1.14e+04\n",
      "==============================================================================\n",
      "Omnibus:                       14.160   Durbin-Watson:                   1.924\n",
      "Prob(Omnibus):                  0.001   Jarque-Bera (JB):               46.339\n",
      "Skew:                          -0.024   Prob(JB):                     8.66e-11\n",
      "Kurtosis:                       5.788   Cond. No.                         31.4\n",
      "==============================================================================\n",
      "\n",
      "Warnings:\n",
      "[1] Standard Errors assume that the covariance matrix of the errors is correctly specified.\n"
     ]
    }
   ],
   "source": [
    "X_train_rfe,lm=reit_lm(X_train_rfe,'mitsubishi')"
   ]
  },
  {
   "cell_type": "code",
   "execution_count": 67,
   "metadata": {},
   "outputs": [
    {
     "name": "stdout",
     "output_type": "stream",
     "text": [
      "         Features   VIF\n",
      "1      curbweight  6.07\n",
      "0  enginelocation  5.18\n",
      "2               l  1.36\n",
      "3           three  1.22\n",
      "5             bmw  1.10\n",
      "4          twelve  1.08\n",
      "6         porsche  1.07\n"
     ]
    }
   ],
   "source": [
    "VIF_calc(X_train_rfe)"
   ]
  },
  {
   "cell_type": "markdown",
   "metadata": {},
   "source": [
    "#### VIF of curbweight is high, let's drop it"
   ]
  },
  {
   "cell_type": "code",
   "execution_count": 68,
   "metadata": {},
   "outputs": [
    {
     "name": "stdout",
     "output_type": "stream",
     "text": [
      "                            OLS Regression Results                            \n",
      "==============================================================================\n",
      "Dep. Variable:                  price   R-squared:                       0.326\n",
      "Model:                            OLS   Adj. R-squared:                  0.296\n",
      "Method:                 Least Squares   F-statistic:                     10.95\n",
      "Date:                Mon, 20 Jan 2020   Prob (F-statistic):           6.22e-10\n",
      "Time:                        20:37:28   Log-Likelihood:                -1455.9\n",
      "No. Observations:                 143   AIC:                             2926.\n",
      "Df Residuals:                     136   BIC:                             2947.\n",
      "Df Model:                           6                                         \n",
      "Covariance Type:            nonrobust                                         \n",
      "==================================================================================\n",
      "                     coef    std err          t      P>|t|      [0.025      0.975]\n",
      "----------------------------------------------------------------------------------\n",
      "const           1.904e+04   8044.078      2.366      0.019    3127.912    3.49e+04\n",
      "enginelocation -7318.7500   8022.541     -0.912      0.363   -2.32e+04    8546.313\n",
      "l               3821.9341   2389.447      1.600      0.112    -903.343    8547.212\n",
      "three          -1.039e+04   6947.725     -1.495      0.137   -2.41e+04    3351.798\n",
      "twelve          2.428e+04   6576.737      3.692      0.000    1.13e+04    3.73e+04\n",
      "bmw             1.516e+04   2738.114      5.537      0.000    9745.897    2.06e+04\n",
      "porsche         1.499e+04   4669.020      3.211      0.002    5759.163    2.42e+04\n",
      "==============================================================================\n",
      "Omnibus:                       59.024   Durbin-Watson:                   2.101\n",
      "Prob(Omnibus):                  0.000   Jarque-Bera (JB):              139.423\n",
      "Skew:                           1.771   Prob(JB):                     5.30e-31\n",
      "Kurtosis:                       6.295   Cond. No.                         30.2\n",
      "==============================================================================\n",
      "\n",
      "Warnings:\n",
      "[1] Standard Errors assume that the covariance matrix of the errors is correctly specified.\n"
     ]
    }
   ],
   "source": [
    "X_train_rfe,lm=reit_lm(X_train_rfe,'curbweight')"
   ]
  },
  {
   "cell_type": "code",
   "execution_count": 69,
   "metadata": {},
   "outputs": [
    {
     "name": "stdout",
     "output_type": "stream",
     "text": [
      "         Features   VIF\n",
      "1               l  1.20\n",
      "0  enginelocation  1.14\n",
      "2           three  1.12\n",
      "4             bmw  1.05\n",
      "3          twelve  1.01\n",
      "5         porsche  1.01\n"
     ]
    }
   ],
   "source": [
    "VIF_calc(X_train_rfe)"
   ]
  },
  {
   "cell_type": "markdown",
   "metadata": {},
   "source": [
    "#### As soon we dropped the curbweight column, the R-squared value dropped drastically from 0.886 to 0.326, so we should not drop it rather drop enginelocation variable, the next highest VIF value varaible"
   ]
  },
  {
   "cell_type": "code",
   "execution_count": 70,
   "metadata": {},
   "outputs": [
    {
     "data": {
      "text/html": [
       "<div>\n",
       "<style scoped>\n",
       "    .dataframe tbody tr th:only-of-type {\n",
       "        vertical-align: middle;\n",
       "    }\n",
       "\n",
       "    .dataframe tbody tr th {\n",
       "        vertical-align: top;\n",
       "    }\n",
       "\n",
       "    .dataframe thead th {\n",
       "        text-align: right;\n",
       "    }\n",
       "</style>\n",
       "<table border=\"1\" class=\"dataframe\">\n",
       "  <thead>\n",
       "    <tr style=\"text-align: right;\">\n",
       "      <th></th>\n",
       "      <th>const</th>\n",
       "      <th>enginelocation</th>\n",
       "      <th>l</th>\n",
       "      <th>three</th>\n",
       "      <th>twelve</th>\n",
       "      <th>bmw</th>\n",
       "      <th>porsche</th>\n",
       "      <th>curbweight</th>\n",
       "    </tr>\n",
       "    <tr>\n",
       "      <th>car_ID</th>\n",
       "      <th></th>\n",
       "      <th></th>\n",
       "      <th></th>\n",
       "      <th></th>\n",
       "      <th></th>\n",
       "      <th></th>\n",
       "      <th></th>\n",
       "      <th></th>\n",
       "    </tr>\n",
       "  </thead>\n",
       "  <tbody>\n",
       "    <tr>\n",
       "      <th>123</th>\n",
       "      <td>1.0</td>\n",
       "      <td>1</td>\n",
       "      <td>0</td>\n",
       "      <td>0</td>\n",
       "      <td>0</td>\n",
       "      <td>0</td>\n",
       "      <td>0</td>\n",
       "      <td>0.272692</td>\n",
       "    </tr>\n",
       "    <tr>\n",
       "      <th>126</th>\n",
       "      <td>1.0</td>\n",
       "      <td>1</td>\n",
       "      <td>0</td>\n",
       "      <td>0</td>\n",
       "      <td>0</td>\n",
       "      <td>0</td>\n",
       "      <td>1</td>\n",
       "      <td>0.500388</td>\n",
       "    </tr>\n",
       "    <tr>\n",
       "      <th>167</th>\n",
       "      <td>1.0</td>\n",
       "      <td>1</td>\n",
       "      <td>0</td>\n",
       "      <td>0</td>\n",
       "      <td>0</td>\n",
       "      <td>0</td>\n",
       "      <td>0</td>\n",
       "      <td>0.314973</td>\n",
       "    </tr>\n",
       "    <tr>\n",
       "      <th>2</th>\n",
       "      <td>1.0</td>\n",
       "      <td>1</td>\n",
       "      <td>0</td>\n",
       "      <td>0</td>\n",
       "      <td>0</td>\n",
       "      <td>0</td>\n",
       "      <td>0</td>\n",
       "      <td>0.411171</td>\n",
       "    </tr>\n",
       "    <tr>\n",
       "      <th>200</th>\n",
       "      <td>1.0</td>\n",
       "      <td>1</td>\n",
       "      <td>0</td>\n",
       "      <td>0</td>\n",
       "      <td>0</td>\n",
       "      <td>0</td>\n",
       "      <td>0</td>\n",
       "      <td>0.647401</td>\n",
       "    </tr>\n",
       "  </tbody>\n",
       "</table>\n",
       "</div>"
      ],
      "text/plain": [
       "        const  enginelocation  l  three  twelve  bmw  porsche  curbweight\n",
       "car_ID                                                                   \n",
       "123       1.0               1  0      0       0    0        0    0.272692\n",
       "126       1.0               1  0      0       0    0        1    0.500388\n",
       "167       1.0               1  0      0       0    0        0    0.314973\n",
       "2         1.0               1  0      0       0    0        0    0.411171\n",
       "200       1.0               1  0      0       0    0        0    0.647401"
      ]
     },
     "execution_count": 70,
     "metadata": {},
     "output_type": "execute_result"
    }
   ],
   "source": [
    "## Add curbweight column again to the dataframe\n",
    "X_train_rfe=pd.concat([X_train_rfe,X_train['curbweight']],axis = 1,ignore_index=False)\n",
    "X_train_rfe.head()"
   ]
  },
  {
   "cell_type": "markdown",
   "metadata": {},
   "source": [
    "#### now drop enginelocation and see the effect"
   ]
  },
  {
   "cell_type": "code",
   "execution_count": 71,
   "metadata": {},
   "outputs": [
    {
     "name": "stdout",
     "output_type": "stream",
     "text": [
      "                            OLS Regression Results                            \n",
      "==============================================================================\n",
      "Dep. Variable:                  price   R-squared:                       0.876\n",
      "Model:                            OLS   Adj. R-squared:                  0.871\n",
      "Method:                 Least Squares   F-statistic:                     160.7\n",
      "Date:                Mon, 20 Jan 2020   Prob (F-statistic):           3.36e-59\n",
      "Time:                        20:38:01   Log-Likelihood:                -1334.6\n",
      "No. Observations:                 143   AIC:                             2683.\n",
      "Df Residuals:                     136   BIC:                             2704.\n",
      "Df Model:                           6                                         \n",
      "Covariance Type:            nonrobust                                         \n",
      "==============================================================================\n",
      "                 coef    std err          t      P>|t|      [0.025      0.975]\n",
      "------------------------------------------------------------------------------\n",
      "const        -57.4352    539.018     -0.107      0.915   -1123.376    1008.506\n",
      "l          -5502.6297   1090.446     -5.046      0.000   -7659.053   -3346.206\n",
      "three       1.071e+04   3094.849      3.461      0.001    4590.813    1.68e+04\n",
      "twelve      6261.6183   2908.798      2.153      0.033     509.293     1.2e+04\n",
      "bmw         9019.5246   1198.396      7.526      0.000    6649.624    1.14e+04\n",
      "porsche     1.131e+04   1657.313      6.825      0.000    8033.591    1.46e+04\n",
      "curbweight   3.12e+04   1262.796     24.707      0.000    2.87e+04    3.37e+04\n",
      "==============================================================================\n",
      "Omnibus:                       12.427   Durbin-Watson:                   1.961\n",
      "Prob(Omnibus):                  0.002   Jarque-Bera (JB):               34.330\n",
      "Skew:                           0.104   Prob(JB):                     3.51e-08\n",
      "Kurtosis:                       5.391   Cond. No.                         14.9\n",
      "==============================================================================\n",
      "\n",
      "Warnings:\n",
      "[1] Standard Errors assume that the covariance matrix of the errors is correctly specified.\n"
     ]
    }
   ],
   "source": [
    "X_train_rfe,lm=reit_lm(X_train_rfe,'enginelocation')"
   ]
  },
  {
   "cell_type": "code",
   "execution_count": 72,
   "metadata": {},
   "outputs": [
    {
     "name": "stdout",
     "output_type": "stream",
     "text": [
      "     Features   VIF\n",
      "5  curbweight  1.33\n",
      "0           l  1.31\n",
      "1       three  1.15\n",
      "3         bmw  1.09\n",
      "2      twelve  1.04\n",
      "4     porsche  1.04\n"
     ]
    }
   ],
   "source": [
    "VIF_calc(X_train_rfe)"
   ]
  },
  {
   "cell_type": "markdown",
   "metadata": {},
   "source": [
    "### We can say that we have got our first model (lm) as all the variables are significant as the p-value is low for all of them, VIF is also very small and R-Squared is 0.876\n"
   ]
  },
  {
   "cell_type": "code",
   "execution_count": 73,
   "metadata": {},
   "outputs": [
    {
     "data": {
      "text/html": [
       "<div>\n",
       "<style scoped>\n",
       "    .dataframe tbody tr th:only-of-type {\n",
       "        vertical-align: middle;\n",
       "    }\n",
       "\n",
       "    .dataframe tbody tr th {\n",
       "        vertical-align: top;\n",
       "    }\n",
       "\n",
       "    .dataframe thead th {\n",
       "        text-align: right;\n",
       "    }\n",
       "</style>\n",
       "<table border=\"1\" class=\"dataframe\">\n",
       "  <thead>\n",
       "    <tr style=\"text-align: right;\">\n",
       "      <th></th>\n",
       "      <th>const</th>\n",
       "      <th>l</th>\n",
       "      <th>three</th>\n",
       "      <th>twelve</th>\n",
       "      <th>bmw</th>\n",
       "      <th>porsche</th>\n",
       "      <th>curbweight</th>\n",
       "    </tr>\n",
       "    <tr>\n",
       "      <th>car_ID</th>\n",
       "      <th></th>\n",
       "      <th></th>\n",
       "      <th></th>\n",
       "      <th></th>\n",
       "      <th></th>\n",
       "      <th></th>\n",
       "      <th></th>\n",
       "    </tr>\n",
       "  </thead>\n",
       "  <tbody>\n",
       "    <tr>\n",
       "      <th>123</th>\n",
       "      <td>1.0</td>\n",
       "      <td>0</td>\n",
       "      <td>0</td>\n",
       "      <td>0</td>\n",
       "      <td>0</td>\n",
       "      <td>0</td>\n",
       "      <td>0.272692</td>\n",
       "    </tr>\n",
       "    <tr>\n",
       "      <th>126</th>\n",
       "      <td>1.0</td>\n",
       "      <td>0</td>\n",
       "      <td>0</td>\n",
       "      <td>0</td>\n",
       "      <td>0</td>\n",
       "      <td>1</td>\n",
       "      <td>0.500388</td>\n",
       "    </tr>\n",
       "    <tr>\n",
       "      <th>167</th>\n",
       "      <td>1.0</td>\n",
       "      <td>0</td>\n",
       "      <td>0</td>\n",
       "      <td>0</td>\n",
       "      <td>0</td>\n",
       "      <td>0</td>\n",
       "      <td>0.314973</td>\n",
       "    </tr>\n",
       "    <tr>\n",
       "      <th>2</th>\n",
       "      <td>1.0</td>\n",
       "      <td>0</td>\n",
       "      <td>0</td>\n",
       "      <td>0</td>\n",
       "      <td>0</td>\n",
       "      <td>0</td>\n",
       "      <td>0.411171</td>\n",
       "    </tr>\n",
       "    <tr>\n",
       "      <th>200</th>\n",
       "      <td>1.0</td>\n",
       "      <td>0</td>\n",
       "      <td>0</td>\n",
       "      <td>0</td>\n",
       "      <td>0</td>\n",
       "      <td>0</td>\n",
       "      <td>0.647401</td>\n",
       "    </tr>\n",
       "  </tbody>\n",
       "</table>\n",
       "</div>"
      ],
      "text/plain": [
       "        const  l  three  twelve  bmw  porsche  curbweight\n",
       "car_ID                                                   \n",
       "123       1.0  0      0       0    0        0    0.272692\n",
       "126       1.0  0      0       0    0        1    0.500388\n",
       "167       1.0  0      0       0    0        0    0.314973\n",
       "2         1.0  0      0       0    0        0    0.411171\n",
       "200       1.0  0      0       0    0        0    0.647401"
      ]
     },
     "execution_count": 73,
     "metadata": {},
     "output_type": "execute_result"
    }
   ],
   "source": [
    "X_train_rfe.head()"
   ]
  },
  {
   "cell_type": "markdown",
   "metadata": {},
   "source": [
    "#### Now let's drop some variables whose p-value is below 0.05 but still high as compared to others as \"twelve\" and see the effect"
   ]
  },
  {
   "cell_type": "code",
   "execution_count": 74,
   "metadata": {},
   "outputs": [
    {
     "name": "stdout",
     "output_type": "stream",
     "text": [
      "                            OLS Regression Results                            \n",
      "==============================================================================\n",
      "Dep. Variable:                  price   R-squared:                       0.872\n",
      "Model:                            OLS   Adj. R-squared:                  0.868\n",
      "Method:                 Least Squares   F-statistic:                     187.0\n",
      "Date:                Mon, 20 Jan 2020   Prob (F-statistic):           2.26e-59\n",
      "Time:                        20:38:31   Log-Likelihood:                -1337.0\n",
      "No. Observations:                 143   AIC:                             2686.\n",
      "Df Residuals:                     137   BIC:                             2704.\n",
      "Df Model:                           5                                         \n",
      "Covariance Type:            nonrobust                                         \n",
      "==============================================================================\n",
      "                 coef    std err          t      P>|t|      [0.025      0.975]\n",
      "------------------------------------------------------------------------------\n",
      "const       -267.7395    537.075     -0.499      0.619   -1329.768     794.289\n",
      "l          -5753.2986   1098.496     -5.237      0.000   -7925.499   -3581.098\n",
      "three       1.117e+04   3128.110      3.571      0.000    4986.415    1.74e+04\n",
      "bmw         8838.4077   1211.189      7.297      0.000    6443.364    1.12e+04\n",
      "porsche     1.113e+04   1676.994      6.637      0.000    7814.211    1.44e+04\n",
      "curbweight  3.188e+04   1238.554     25.741      0.000    2.94e+04    3.43e+04\n",
      "==============================================================================\n",
      "Omnibus:                       11.098   Durbin-Watson:                   1.956\n",
      "Prob(Omnibus):                  0.004   Jarque-Bera (JB):               28.535\n",
      "Skew:                           0.027   Prob(JB):                     6.36e-07\n",
      "Kurtosis:                       5.188   Cond. No.                         14.6\n",
      "==============================================================================\n",
      "\n",
      "Warnings:\n",
      "[1] Standard Errors assume that the covariance matrix of the errors is correctly specified.\n"
     ]
    }
   ],
   "source": [
    "temp_1,lm_1=reit_lm(X_train_rfe,'twelve')"
   ]
  },
  {
   "cell_type": "code",
   "execution_count": 75,
   "metadata": {},
   "outputs": [
    {
     "name": "stdout",
     "output_type": "stream",
     "text": [
      "     Features   VIF\n",
      "0           l  1.30\n",
      "4  curbweight  1.28\n",
      "1       three  1.14\n",
      "2         bmw  1.08\n",
      "3     porsche  1.04\n"
     ]
    }
   ],
   "source": [
    "VIF_calc(temp_1)"
   ]
  },
  {
   "cell_type": "markdown",
   "metadata": {},
   "source": [
    "#### Not much change in r-squared, (0.872 from 0.876) and p-value is almost 0 for all the varaibles, so this can be our another model"
   ]
  },
  {
   "cell_type": "markdown",
   "metadata": {},
   "source": [
    "### We can now say that we have another model now (lm_1) with R-Squared value of 0.872, which is almost similar to that of lm(0.876)"
   ]
  },
  {
   "cell_type": "code",
   "execution_count": 76,
   "metadata": {},
   "outputs": [
    {
     "data": {
      "text/html": [
       "<div>\n",
       "<style scoped>\n",
       "    .dataframe tbody tr th:only-of-type {\n",
       "        vertical-align: middle;\n",
       "    }\n",
       "\n",
       "    .dataframe tbody tr th {\n",
       "        vertical-align: top;\n",
       "    }\n",
       "\n",
       "    .dataframe thead th {\n",
       "        text-align: right;\n",
       "    }\n",
       "</style>\n",
       "<table border=\"1\" class=\"dataframe\">\n",
       "  <thead>\n",
       "    <tr style=\"text-align: right;\">\n",
       "      <th></th>\n",
       "      <th>const</th>\n",
       "      <th>l</th>\n",
       "      <th>three</th>\n",
       "      <th>bmw</th>\n",
       "      <th>porsche</th>\n",
       "      <th>curbweight</th>\n",
       "    </tr>\n",
       "    <tr>\n",
       "      <th>car_ID</th>\n",
       "      <th></th>\n",
       "      <th></th>\n",
       "      <th></th>\n",
       "      <th></th>\n",
       "      <th></th>\n",
       "      <th></th>\n",
       "    </tr>\n",
       "  </thead>\n",
       "  <tbody>\n",
       "    <tr>\n",
       "      <th>123</th>\n",
       "      <td>1.0</td>\n",
       "      <td>0</td>\n",
       "      <td>0</td>\n",
       "      <td>0</td>\n",
       "      <td>0</td>\n",
       "      <td>0.272692</td>\n",
       "    </tr>\n",
       "    <tr>\n",
       "      <th>126</th>\n",
       "      <td>1.0</td>\n",
       "      <td>0</td>\n",
       "      <td>0</td>\n",
       "      <td>0</td>\n",
       "      <td>1</td>\n",
       "      <td>0.500388</td>\n",
       "    </tr>\n",
       "    <tr>\n",
       "      <th>167</th>\n",
       "      <td>1.0</td>\n",
       "      <td>0</td>\n",
       "      <td>0</td>\n",
       "      <td>0</td>\n",
       "      <td>0</td>\n",
       "      <td>0.314973</td>\n",
       "    </tr>\n",
       "    <tr>\n",
       "      <th>2</th>\n",
       "      <td>1.0</td>\n",
       "      <td>0</td>\n",
       "      <td>0</td>\n",
       "      <td>0</td>\n",
       "      <td>0</td>\n",
       "      <td>0.411171</td>\n",
       "    </tr>\n",
       "    <tr>\n",
       "      <th>200</th>\n",
       "      <td>1.0</td>\n",
       "      <td>0</td>\n",
       "      <td>0</td>\n",
       "      <td>0</td>\n",
       "      <td>0</td>\n",
       "      <td>0.647401</td>\n",
       "    </tr>\n",
       "  </tbody>\n",
       "</table>\n",
       "</div>"
      ],
      "text/plain": [
       "        const  l  three  bmw  porsche  curbweight\n",
       "car_ID                                           \n",
       "123       1.0  0      0    0        0    0.272692\n",
       "126       1.0  0      0    0        1    0.500388\n",
       "167       1.0  0      0    0        0    0.314973\n",
       "2         1.0  0      0    0        0    0.411171\n",
       "200       1.0  0      0    0        0    0.647401"
      ]
     },
     "execution_count": 76,
     "metadata": {},
     "output_type": "execute_result"
    }
   ],
   "source": [
    "temp_1.head()"
   ]
  },
  {
   "cell_type": "markdown",
   "metadata": {},
   "source": [
    "#### From the scatter plot we can see that enginesize,horsepower,citympg,highwaympg are also effecting the price, whereas tese are missing from our final model, let's add these variables one by one and analyse it\n",
    "#### Let's first add enginesize"
   ]
  },
  {
   "cell_type": "code",
   "execution_count": 77,
   "metadata": {},
   "outputs": [
    {
     "data": {
      "text/html": [
       "<table class=\"simpletable\">\n",
       "<caption>OLS Regression Results</caption>\n",
       "<tr>\n",
       "  <th>Dep. Variable:</th>          <td>price</td>      <th>  R-squared:         </th> <td>   0.884</td>\n",
       "</tr>\n",
       "<tr>\n",
       "  <th>Model:</th>                   <td>OLS</td>       <th>  Adj. R-squared:    </th> <td>   0.878</td>\n",
       "</tr>\n",
       "<tr>\n",
       "  <th>Method:</th>             <td>Least Squares</td>  <th>  F-statistic:       </th> <td>   146.7</td>\n",
       "</tr>\n",
       "<tr>\n",
       "  <th>Date:</th>             <td>Mon, 20 Jan 2020</td> <th>  Prob (F-statistic):</th> <td>6.90e-60</td>\n",
       "</tr>\n",
       "<tr>\n",
       "  <th>Time:</th>                 <td>20:39:11</td>     <th>  Log-Likelihood:    </th> <td> -1330.2</td>\n",
       "</tr>\n",
       "<tr>\n",
       "  <th>No. Observations:</th>      <td>   143</td>      <th>  AIC:               </th> <td>   2676.</td>\n",
       "</tr>\n",
       "<tr>\n",
       "  <th>Df Residuals:</th>          <td>   135</td>      <th>  BIC:               </th> <td>   2700.</td>\n",
       "</tr>\n",
       "<tr>\n",
       "  <th>Df Model:</th>              <td>     7</td>      <th>                     </th>     <td> </td>   \n",
       "</tr>\n",
       "<tr>\n",
       "  <th>Covariance Type:</th>      <td>nonrobust</td>    <th>                     </th>     <td> </td>   \n",
       "</tr>\n",
       "</table>\n",
       "<table class=\"simpletable\">\n",
       "<tr>\n",
       "       <td></td>         <th>coef</th>     <th>std err</th>      <th>t</th>      <th>P>|t|</th>  <th>[0.025</th>    <th>0.975]</th>  \n",
       "</tr>\n",
       "<tr>\n",
       "  <th>const</th>      <td>   78.6366</td> <td>  526.521</td> <td>    0.149</td> <td> 0.881</td> <td> -962.660</td> <td> 1119.934</td>\n",
       "</tr>\n",
       "<tr>\n",
       "  <th>l</th>          <td>-4197.0586</td> <td> 1150.231</td> <td>   -3.649</td> <td> 0.000</td> <td>-6471.862</td> <td>-1922.255</td>\n",
       "</tr>\n",
       "<tr>\n",
       "  <th>three</th>      <td> 9269.4220</td> <td> 3051.060</td> <td>    3.038</td> <td> 0.003</td> <td> 3235.365</td> <td> 1.53e+04</td>\n",
       "</tr>\n",
       "<tr>\n",
       "  <th>twelve</th>     <td> 1466.7095</td> <td> 3266.675</td> <td>    0.449</td> <td> 0.654</td> <td>-4993.769</td> <td> 7927.188</td>\n",
       "</tr>\n",
       "<tr>\n",
       "  <th>bmw</th>        <td> 8248.2298</td> <td> 1195.230</td> <td>    6.901</td> <td> 0.000</td> <td> 5884.432</td> <td> 1.06e+04</td>\n",
       "</tr>\n",
       "<tr>\n",
       "  <th>porsche</th>    <td> 9979.5098</td> <td> 1675.019</td> <td>    5.958</td> <td> 0.000</td> <td> 6666.837</td> <td> 1.33e+04</td>\n",
       "</tr>\n",
       "<tr>\n",
       "  <th>curbweight</th> <td> 2.422e+04</td> <td> 2674.403</td> <td>    9.055</td> <td> 0.000</td> <td> 1.89e+04</td> <td> 2.95e+04</td>\n",
       "</tr>\n",
       "<tr>\n",
       "  <th>enginesize</th> <td> 1.133e+04</td> <td> 3853.272</td> <td>    2.940</td> <td> 0.004</td> <td> 3707.330</td> <td> 1.89e+04</td>\n",
       "</tr>\n",
       "</table>\n",
       "<table class=\"simpletable\">\n",
       "<tr>\n",
       "  <th>Omnibus:</th>       <td> 5.640</td> <th>  Durbin-Watson:     </th> <td>   1.956</td>\n",
       "</tr>\n",
       "<tr>\n",
       "  <th>Prob(Omnibus):</th> <td> 0.060</td> <th>  Jarque-Bera (JB):  </th> <td>   7.873</td>\n",
       "</tr>\n",
       "<tr>\n",
       "  <th>Skew:</th>          <td> 0.144</td> <th>  Prob(JB):          </th> <td>  0.0195</td>\n",
       "</tr>\n",
       "<tr>\n",
       "  <th>Kurtosis:</th>      <td> 4.113</td> <th>  Cond. No.          </th> <td>    24.6</td>\n",
       "</tr>\n",
       "</table><br/><br/>Warnings:<br/>[1] Standard Errors assume that the covariance matrix of the errors is correctly specified."
      ],
      "text/plain": [
       "<class 'statsmodels.iolib.summary.Summary'>\n",
       "\"\"\"\n",
       "                            OLS Regression Results                            \n",
       "==============================================================================\n",
       "Dep. Variable:                  price   R-squared:                       0.884\n",
       "Model:                            OLS   Adj. R-squared:                  0.878\n",
       "Method:                 Least Squares   F-statistic:                     146.7\n",
       "Date:                Mon, 20 Jan 2020   Prob (F-statistic):           6.90e-60\n",
       "Time:                        20:39:11   Log-Likelihood:                -1330.2\n",
       "No. Observations:                 143   AIC:                             2676.\n",
       "Df Residuals:                     135   BIC:                             2700.\n",
       "Df Model:                           7                                         \n",
       "Covariance Type:            nonrobust                                         \n",
       "==============================================================================\n",
       "                 coef    std err          t      P>|t|      [0.025      0.975]\n",
       "------------------------------------------------------------------------------\n",
       "const         78.6366    526.521      0.149      0.881    -962.660    1119.934\n",
       "l          -4197.0586   1150.231     -3.649      0.000   -6471.862   -1922.255\n",
       "three       9269.4220   3051.060      3.038      0.003    3235.365    1.53e+04\n",
       "twelve      1466.7095   3266.675      0.449      0.654   -4993.769    7927.188\n",
       "bmw         8248.2298   1195.230      6.901      0.000    5884.432    1.06e+04\n",
       "porsche     9979.5098   1675.019      5.958      0.000    6666.837    1.33e+04\n",
       "curbweight  2.422e+04   2674.403      9.055      0.000    1.89e+04    2.95e+04\n",
       "enginesize  1.133e+04   3853.272      2.940      0.004    3707.330    1.89e+04\n",
       "==============================================================================\n",
       "Omnibus:                        5.640   Durbin-Watson:                   1.956\n",
       "Prob(Omnibus):                  0.060   Jarque-Bera (JB):                7.873\n",
       "Skew:                           0.144   Prob(JB):                       0.0195\n",
       "Kurtosis:                       4.113   Cond. No.                         24.6\n",
       "==============================================================================\n",
       "\n",
       "Warnings:\n",
       "[1] Standard Errors assume that the covariance matrix of the errors is correctly specified.\n",
       "\"\"\""
      ]
     },
     "execution_count": 77,
     "metadata": {},
     "output_type": "execute_result"
    }
   ],
   "source": [
    "temp=pd.concat([X_train_rfe,X_train['enginesize']],axis = 1,ignore_index=False)\n",
    "lm_new=sm.OLS(y_train,temp).fit()\n",
    "lm_new.summary()"
   ]
  },
  {
   "cell_type": "code",
   "execution_count": 78,
   "metadata": {},
   "outputs": [
    {
     "name": "stdout",
     "output_type": "stream",
     "text": [
      "     Features    VIF\n",
      "6  enginesize  23.20\n",
      "5  curbweight  22.19\n",
      "0           l   1.52\n",
      "2      twelve   1.41\n",
      "1       three   1.17\n",
      "3         bmw   1.15\n",
      "4     porsche   1.13\n"
     ]
    }
   ],
   "source": [
    "VIF_calc(temp)"
   ]
  },
  {
   "cell_type": "markdown",
   "metadata": {},
   "source": [
    "#### We can see that the R-square has been increased, whereas the p-value of \"twelve\" also increased, so let's drop twelve and see it's effect"
   ]
  },
  {
   "cell_type": "code",
   "execution_count": 79,
   "metadata": {},
   "outputs": [
    {
     "name": "stdout",
     "output_type": "stream",
     "text": [
      "                            OLS Regression Results                            \n",
      "==============================================================================\n",
      "Dep. Variable:                  price   R-squared:                       0.884\n",
      "Model:                            OLS   Adj. R-squared:                  0.879\n",
      "Method:                 Least Squares   F-statistic:                     172.2\n",
      "Date:                Mon, 20 Jan 2020   Prob (F-statistic):           5.56e-61\n",
      "Time:                        20:39:24   Log-Likelihood:                -1330.3\n",
      "No. Observations:                 143   AIC:                             2675.\n",
      "Df Residuals:                     136   BIC:                             2695.\n",
      "Df Model:                           6                                         \n",
      "Covariance Type:            nonrobust                                         \n",
      "==============================================================================\n",
      "                 coef    std err          t      P>|t|      [0.025      0.975]\n",
      "------------------------------------------------------------------------------\n",
      "const         52.0320    521.638      0.100      0.921    -979.540    1083.604\n",
      "l          -4141.5802   1140.214     -3.632      0.000   -6396.422   -1886.738\n",
      "three       9240.5482   3041.415      3.038      0.003    3225.966    1.53e+04\n",
      "bmw         8157.5659   1174.587      6.945      0.000    5834.749    1.05e+04\n",
      "porsche     9846.2032   1643.650      5.990      0.000    6595.786    1.31e+04\n",
      "curbweight   2.38e+04   2504.142      9.506      0.000    1.89e+04    2.88e+04\n",
      "enginesize  1.219e+04   3328.792      3.663      0.000    5608.844    1.88e+04\n",
      "==============================================================================\n",
      "Omnibus:                        5.109   Durbin-Watson:                   1.954\n",
      "Prob(Omnibus):                  0.078   Jarque-Bera (JB):                6.864\n",
      "Skew:                           0.122   Prob(JB):                       0.0323\n",
      "Kurtosis:                       4.045   Cond. No.                         20.7\n",
      "==============================================================================\n",
      "\n",
      "Warnings:\n",
      "[1] Standard Errors assume that the covariance matrix of the errors is correctly specified.\n"
     ]
    }
   ],
   "source": [
    "temp,lm_new=reit_lm(temp,'twelve')"
   ]
  },
  {
   "cell_type": "code",
   "execution_count": 80,
   "metadata": {},
   "outputs": [
    {
     "name": "stdout",
     "output_type": "stream",
     "text": [
      "     Features    VIF\n",
      "4  curbweight  17.55\n",
      "5  enginesize  17.06\n",
      "0           l   1.50\n",
      "1       three   1.17\n",
      "2         bmw   1.12\n",
      "3     porsche   1.09\n"
     ]
    }
   ],
   "source": [
    "VIF_calc(temp)"
   ]
  },
  {
   "cell_type": "markdown",
   "metadata": {},
   "source": [
    "#### Not much impact on R-square, p-values are also small, but VIF is high for curbweight, let's drop carwidth and see it's effect"
   ]
  },
  {
   "cell_type": "code",
   "execution_count": 81,
   "metadata": {},
   "outputs": [
    {
     "name": "stdout",
     "output_type": "stream",
     "text": [
      "                            OLS Regression Results                            \n",
      "==============================================================================\n",
      "Dep. Variable:                  price   R-squared:                       0.806\n",
      "Model:                            OLS   Adj. R-squared:                  0.799\n",
      "Method:                 Least Squares   F-statistic:                     114.1\n",
      "Date:                Mon, 20 Jan 2020   Prob (F-statistic):           4.58e-47\n",
      "Time:                        20:39:39   Log-Likelihood:                -1366.7\n",
      "No. Observations:                 143   AIC:                             2745.\n",
      "Df Residuals:                     137   BIC:                             2763.\n",
      "Df Model:                           5                                         \n",
      "Covariance Type:            nonrobust                                         \n",
      "==============================================================================\n",
      "                 coef    std err          t      P>|t|      [0.025      0.975]\n",
      "------------------------------------------------------------------------------\n",
      "const       2822.6368    556.081      5.076      0.000    1723.024    3922.249\n",
      "l           1113.6828   1281.825      0.869      0.386   -1421.037    3648.403\n",
      "three       1214.6805   3755.777      0.323      0.747   -6212.110    8641.471\n",
      "bmw         7627.5350   1508.113      5.058      0.000    4645.345    1.06e+04\n",
      "porsche     7933.6358   2096.861      3.784      0.000    3787.238    1.21e+04\n",
      "enginesize  4.006e+04   2026.498     19.768      0.000    3.61e+04    4.41e+04\n",
      "==============================================================================\n",
      "Omnibus:                       24.969   Durbin-Watson:                   2.066\n",
      "Prob(Omnibus):                  0.000   Jarque-Bera (JB):               32.502\n",
      "Skew:                           1.012   Prob(JB):                     8.75e-08\n",
      "Kurtosis:                       4.166   Cond. No.                         13.4\n",
      "==============================================================================\n",
      "\n",
      "Warnings:\n",
      "[1] Standard Errors assume that the covariance matrix of the errors is correctly specified.\n"
     ]
    }
   ],
   "source": [
    "temp,lm_new=reit_lm(temp,'curbweight')"
   ]
  },
  {
   "cell_type": "code",
   "execution_count": 82,
   "metadata": {},
   "outputs": [
    {
     "name": "stdout",
     "output_type": "stream",
     "text": [
      "     Features   VIF\n",
      "4  enginesize  1.25\n",
      "0           l  1.21\n",
      "1       three  1.13\n",
      "2         bmw  1.11\n",
      "3     porsche  1.07\n"
     ]
    }
   ],
   "source": [
    "VIF_calc(temp)"
   ]
  },
  {
   "cell_type": "markdown",
   "metadata": {},
   "source": [
    "#### R square has been decreased slightly, all the p-values are small except for three and VIF are small, so let's drop three and see it's effect"
   ]
  },
  {
   "cell_type": "code",
   "execution_count": 83,
   "metadata": {},
   "outputs": [
    {
     "name": "stdout",
     "output_type": "stream",
     "text": [
      "                            OLS Regression Results                            \n",
      "==============================================================================\n",
      "Dep. Variable:                  price   R-squared:                       0.806\n",
      "Model:                            OLS   Adj. R-squared:                  0.801\n",
      "Method:                 Least Squares   F-statistic:                     143.5\n",
      "Date:                Mon, 20 Jan 2020   Prob (F-statistic):           3.77e-48\n",
      "Time:                        20:39:50   Log-Likelihood:                -1366.7\n",
      "No. Observations:                 143   AIC:                             2743.\n",
      "Df Residuals:                     138   BIC:                             2758.\n",
      "Df Model:                           4                                         \n",
      "Covariance Type:            nonrobust                                         \n",
      "==============================================================================\n",
      "                 coef    std err          t      P>|t|      [0.025      0.975]\n",
      "------------------------------------------------------------------------------\n",
      "const       2845.8727    549.629      5.178      0.000    1759.090    3932.655\n",
      "l           1251.7787   1204.689      1.039      0.301   -1130.257    3633.814\n",
      "bmw         7646.2979   1502.100      5.090      0.000    4676.191    1.06e+04\n",
      "porsche     7957.4231   2088.761      3.810      0.000    3827.309    1.21e+04\n",
      "enginesize  3.996e+04   1995.096     20.028      0.000     3.6e+04    4.39e+04\n",
      "==============================================================================\n",
      "Omnibus:                       24.969   Durbin-Watson:                   2.063\n",
      "Prob(Omnibus):                  0.000   Jarque-Bera (JB):               32.459\n",
      "Skew:                           1.014   Prob(JB):                     8.94e-08\n",
      "Kurtosis:                       4.157   Cond. No.                         8.21\n",
      "==============================================================================\n",
      "\n",
      "Warnings:\n",
      "[1] Standard Errors assume that the covariance matrix of the errors is correctly specified.\n"
     ]
    }
   ],
   "source": [
    "temp,lm_new=reit_lm(temp,'three')"
   ]
  },
  {
   "cell_type": "code",
   "execution_count": 84,
   "metadata": {},
   "outputs": [
    {
     "name": "stdout",
     "output_type": "stream",
     "text": [
      "     Features   VIF\n",
      "3  enginesize  1.24\n",
      "1         bmw  1.11\n",
      "2     porsche  1.07\n",
      "0           l  1.06\n"
     ]
    }
   ],
   "source": [
    "VIF_calc(temp)"
   ]
  },
  {
   "cell_type": "markdown",
   "metadata": {},
   "source": [
    "#### Not much change in R-Square, whereas p-value of \"l\" is increased to make it insignificant, all VIFs are good, so let's drop peugeot and see the effect"
   ]
  },
  {
   "cell_type": "code",
   "execution_count": 85,
   "metadata": {},
   "outputs": [
    {
     "name": "stdout",
     "output_type": "stream",
     "text": [
      "                            OLS Regression Results                            \n",
      "==============================================================================\n",
      "Dep. Variable:                  price   R-squared:                       0.805\n",
      "Model:                            OLS   Adj. R-squared:                  0.800\n",
      "Method:                 Least Squares   F-statistic:                     190.9\n",
      "Date:                Mon, 20 Jan 2020   Prob (F-statistic):           4.29e-49\n",
      "Time:                        20:39:58   Log-Likelihood:                -1367.3\n",
      "No. Observations:                 143   AIC:                             2743.\n",
      "Df Residuals:                     139   BIC:                             2754.\n",
      "Df Model:                           3                                         \n",
      "Covariance Type:            nonrobust                                         \n",
      "==============================================================================\n",
      "                 coef    std err          t      P>|t|      [0.025      0.975]\n",
      "------------------------------------------------------------------------------\n",
      "const       2905.9176    546.739      5.315      0.000    1824.917    3986.918\n",
      "bmw         7543.2088   1499.249      5.031      0.000    4578.926    1.05e+04\n",
      "porsche     7849.1846   2086.760      3.761      0.000    3723.290     1.2e+04\n",
      "enginesize  4.006e+04   1993.108     20.101      0.000    3.61e+04     4.4e+04\n",
      "==============================================================================\n",
      "Omnibus:                       22.745   Durbin-Watson:                   2.048\n",
      "Prob(Omnibus):                  0.000   Jarque-Bera (JB):               28.385\n",
      "Skew:                           0.964   Prob(JB):                     6.86e-07\n",
      "Kurtosis:                       4.025   Cond. No.                         8.17\n",
      "==============================================================================\n",
      "\n",
      "Warnings:\n",
      "[1] Standard Errors assume that the covariance matrix of the errors is correctly specified.\n"
     ]
    }
   ],
   "source": [
    "temp,lm_new=reit_lm(temp,'l')"
   ]
  },
  {
   "cell_type": "code",
   "execution_count": 86,
   "metadata": {},
   "outputs": [
    {
     "name": "stdout",
     "output_type": "stream",
     "text": [
      "     Features   VIF\n",
      "2  enginesize  1.16\n",
      "0         bmw  1.10\n",
      "1     porsche  1.06\n"
     ]
    }
   ],
   "source": [
    "VIF_calc(temp)"
   ]
  },
  {
   "cell_type": "markdown",
   "metadata": {},
   "source": [
    "#### Very small change in R-Square, all the p-values are small and all the VIFs are also small, so this seems to be good model\n",
    "#### Now let's add another variable and see it's effect"
   ]
  },
  {
   "cell_type": "code",
   "execution_count": 87,
   "metadata": {},
   "outputs": [
    {
     "data": {
      "text/html": [
       "<table class=\"simpletable\">\n",
       "<caption>OLS Regression Results</caption>\n",
       "<tr>\n",
       "  <th>Dep. Variable:</th>          <td>price</td>      <th>  R-squared:         </th> <td>   0.819</td>\n",
       "</tr>\n",
       "<tr>\n",
       "  <th>Model:</th>                   <td>OLS</td>       <th>  Adj. R-squared:    </th> <td>   0.814</td>\n",
       "</tr>\n",
       "<tr>\n",
       "  <th>Method:</th>             <td>Least Squares</td>  <th>  F-statistic:       </th> <td>   155.9</td>\n",
       "</tr>\n",
       "<tr>\n",
       "  <th>Date:</th>             <td>Mon, 20 Jan 2020</td> <th>  Prob (F-statistic):</th> <td>3.71e-50</td>\n",
       "</tr>\n",
       "<tr>\n",
       "  <th>Time:</th>                 <td>20:40:07</td>     <th>  Log-Likelihood:    </th> <td> -1361.9</td>\n",
       "</tr>\n",
       "<tr>\n",
       "  <th>No. Observations:</th>      <td>   143</td>      <th>  AIC:               </th> <td>   2734.</td>\n",
       "</tr>\n",
       "<tr>\n",
       "  <th>Df Residuals:</th>          <td>   138</td>      <th>  BIC:               </th> <td>   2749.</td>\n",
       "</tr>\n",
       "<tr>\n",
       "  <th>Df Model:</th>              <td>     4</td>      <th>                     </th>     <td> </td>   \n",
       "</tr>\n",
       "<tr>\n",
       "  <th>Covariance Type:</th>      <td>nonrobust</td>    <th>                     </th>     <td> </td>   \n",
       "</tr>\n",
       "</table>\n",
       "<table class=\"simpletable\">\n",
       "<tr>\n",
       "       <td></td>         <th>coef</th>     <th>std err</th>      <th>t</th>      <th>P>|t|</th>  <th>[0.025</th>    <th>0.975]</th>  \n",
       "</tr>\n",
       "<tr>\n",
       "  <th>const</th>      <td> 2649.5624</td> <td>  534.271</td> <td>    4.959</td> <td> 0.000</td> <td> 1593.146</td> <td> 3705.979</td>\n",
       "</tr>\n",
       "<tr>\n",
       "  <th>bmw</th>        <td> 7360.9629</td> <td> 1450.351</td> <td>    5.075</td> <td> 0.000</td> <td> 4493.178</td> <td> 1.02e+04</td>\n",
       "</tr>\n",
       "<tr>\n",
       "  <th>porsche</th>    <td> 4750.8693</td> <td> 2227.603</td> <td>    2.133</td> <td> 0.035</td> <td>  346.222</td> <td> 9155.516</td>\n",
       "</tr>\n",
       "<tr>\n",
       "  <th>enginesize</th> <td>  3.13e+04</td> <td> 3295.601</td> <td>    9.497</td> <td> 0.000</td> <td> 2.48e+04</td> <td> 3.78e+04</td>\n",
       "</tr>\n",
       "<tr>\n",
       "  <th>horsepower</th> <td> 1.076e+04</td> <td> 3280.472</td> <td>    3.279</td> <td> 0.001</td> <td> 4268.845</td> <td> 1.72e+04</td>\n",
       "</tr>\n",
       "</table>\n",
       "<table class=\"simpletable\">\n",
       "<tr>\n",
       "  <th>Omnibus:</th>       <td>16.226</td> <th>  Durbin-Watson:     </th> <td>   2.058</td>\n",
       "</tr>\n",
       "<tr>\n",
       "  <th>Prob(Omnibus):</th> <td> 0.000</td> <th>  Jarque-Bera (JB):  </th> <td>  18.756</td>\n",
       "</tr>\n",
       "<tr>\n",
       "  <th>Skew:</th>          <td> 0.746</td> <th>  Prob(JB):          </th> <td>8.46e-05</td>\n",
       "</tr>\n",
       "<tr>\n",
       "  <th>Kurtosis:</th>      <td> 3.959</td> <th>  Cond. No.          </th> <td>    16.9</td>\n",
       "</tr>\n",
       "</table><br/><br/>Warnings:<br/>[1] Standard Errors assume that the covariance matrix of the errors is correctly specified."
      ],
      "text/plain": [
       "<class 'statsmodels.iolib.summary.Summary'>\n",
       "\"\"\"\n",
       "                            OLS Regression Results                            \n",
       "==============================================================================\n",
       "Dep. Variable:                  price   R-squared:                       0.819\n",
       "Model:                            OLS   Adj. R-squared:                  0.814\n",
       "Method:                 Least Squares   F-statistic:                     155.9\n",
       "Date:                Mon, 20 Jan 2020   Prob (F-statistic):           3.71e-50\n",
       "Time:                        20:40:07   Log-Likelihood:                -1361.9\n",
       "No. Observations:                 143   AIC:                             2734.\n",
       "Df Residuals:                     138   BIC:                             2749.\n",
       "Df Model:                           4                                         \n",
       "Covariance Type:            nonrobust                                         \n",
       "==============================================================================\n",
       "                 coef    std err          t      P>|t|      [0.025      0.975]\n",
       "------------------------------------------------------------------------------\n",
       "const       2649.5624    534.271      4.959      0.000    1593.146    3705.979\n",
       "bmw         7360.9629   1450.351      5.075      0.000    4493.178    1.02e+04\n",
       "porsche     4750.8693   2227.603      2.133      0.035     346.222    9155.516\n",
       "enginesize   3.13e+04   3295.601      9.497      0.000    2.48e+04    3.78e+04\n",
       "horsepower  1.076e+04   3280.472      3.279      0.001    4268.845    1.72e+04\n",
       "==============================================================================\n",
       "Omnibus:                       16.226   Durbin-Watson:                   2.058\n",
       "Prob(Omnibus):                  0.000   Jarque-Bera (JB):               18.756\n",
       "Skew:                           0.746   Prob(JB):                     8.46e-05\n",
       "Kurtosis:                       3.959   Cond. No.                         16.9\n",
       "==============================================================================\n",
       "\n",
       "Warnings:\n",
       "[1] Standard Errors assume that the covariance matrix of the errors is correctly specified.\n",
       "\"\"\""
      ]
     },
     "execution_count": 87,
     "metadata": {},
     "output_type": "execute_result"
    }
   ],
   "source": [
    "temp=pd.concat([temp,X_train['horsepower']],axis = 1,ignore_index=False)\n",
    "lm_new=sm.OLS(y_train,temp).fit()\n",
    "lm_new.summary()"
   ]
  },
  {
   "cell_type": "code",
   "execution_count": 88,
   "metadata": {},
   "outputs": [
    {
     "name": "stdout",
     "output_type": "stream",
     "text": [
      "     Features    VIF\n",
      "3  horsepower  10.45\n",
      "2  enginesize   9.72\n",
      "1     porsche   1.28\n",
      "0         bmw   1.10\n"
     ]
    }
   ],
   "source": [
    "VIF_calc(temp)"
   ]
  },
  {
   "cell_type": "markdown",
   "metadata": {},
   "source": [
    "#### R-Square has increased, all the p values are also almost 0, whereas the VIF has been increased for both enginesize and horsepower, so we can say that these 2 are corelated with each other, so we cannot use these in our model, so let's drop enginesize having and see it's effect "
   ]
  },
  {
   "cell_type": "code",
   "execution_count": 89,
   "metadata": {},
   "outputs": [
    {
     "name": "stdout",
     "output_type": "stream",
     "text": [
      "                            OLS Regression Results                            \n",
      "==============================================================================\n",
      "Dep. Variable:                  price   R-squared:                       0.700\n",
      "Model:                            OLS   Adj. R-squared:                  0.694\n",
      "Method:                 Least Squares   F-statistic:                     108.3\n",
      "Date:                Mon, 20 Jan 2020   Prob (F-statistic):           3.29e-36\n",
      "Time:                        20:40:17   Log-Likelihood:                -1397.9\n",
      "No. Observations:                 143   AIC:                             2804.\n",
      "Df Residuals:                     139   BIC:                             2816.\n",
      "Df Model:                           3                                         \n",
      "Covariance Type:            nonrobust                                         \n",
      "==============================================================================\n",
      "                 coef    std err          t      P>|t|      [0.025      0.975]\n",
      "------------------------------------------------------------------------------\n",
      "const       4495.8670    637.607      7.051      0.000    3235.204    5756.530\n",
      "bmw         8870.3283   1847.082      4.802      0.000    5218.320    1.25e+04\n",
      "porsche      -67.7172   2779.105     -0.024      0.981   -5562.502    5427.068\n",
      "horsepower  3.603e+04   2457.249     14.663      0.000    3.12e+04    4.09e+04\n",
      "==============================================================================\n",
      "Omnibus:                       43.676   Durbin-Watson:                   2.075\n",
      "Prob(Omnibus):                  0.000   Jarque-Bera (JB):               83.676\n",
      "Skew:                           1.385   Prob(JB):                     6.76e-19\n",
      "Kurtosis:                       5.524   Cond. No.                         9.08\n",
      "==============================================================================\n",
      "\n",
      "Warnings:\n",
      "[1] Standard Errors assume that the covariance matrix of the errors is correctly specified.\n"
     ]
    }
   ],
   "source": [
    "temp,lm_2=reit_lm(temp,'enginesize')"
   ]
  },
  {
   "cell_type": "code",
   "execution_count": 90,
   "metadata": {},
   "outputs": [
    {
     "name": "stdout",
     "output_type": "stream",
     "text": [
      "     Features   VIF\n",
      "2  horsepower  1.25\n",
      "1     porsche  1.16\n",
      "0         bmw  1.09\n"
     ]
    }
   ],
   "source": [
    "VIF_calc(temp)"
   ]
  },
  {
   "cell_type": "markdown",
   "metadata": {},
   "source": [
    "#### all the variables are significant as p values are almost 0 and VIF is also small, wheras the R-Square has been reduced to 0.7 from 0.8, which means' old model was better as compared to this one, so let's go back to old model and add another variable to see if there is any improvement"
   ]
  },
  {
   "cell_type": "code",
   "execution_count": 91,
   "metadata": {},
   "outputs": [
    {
     "data": {
      "text/html": [
       "<div>\n",
       "<style scoped>\n",
       "    .dataframe tbody tr th:only-of-type {\n",
       "        vertical-align: middle;\n",
       "    }\n",
       "\n",
       "    .dataframe tbody tr th {\n",
       "        vertical-align: top;\n",
       "    }\n",
       "\n",
       "    .dataframe thead th {\n",
       "        text-align: right;\n",
       "    }\n",
       "</style>\n",
       "<table border=\"1\" class=\"dataframe\">\n",
       "  <thead>\n",
       "    <tr style=\"text-align: right;\">\n",
       "      <th></th>\n",
       "      <th>const</th>\n",
       "      <th>bmw</th>\n",
       "      <th>porsche</th>\n",
       "      <th>horsepower</th>\n",
       "    </tr>\n",
       "    <tr>\n",
       "      <th>car_ID</th>\n",
       "      <th></th>\n",
       "      <th></th>\n",
       "      <th></th>\n",
       "      <th></th>\n",
       "    </tr>\n",
       "  </thead>\n",
       "  <tbody>\n",
       "    <tr>\n",
       "      <th>123</th>\n",
       "      <td>1.0</td>\n",
       "      <td>0</td>\n",
       "      <td>0</td>\n",
       "      <td>0.083333</td>\n",
       "    </tr>\n",
       "    <tr>\n",
       "      <th>126</th>\n",
       "      <td>1.0</td>\n",
       "      <td>0</td>\n",
       "      <td>1</td>\n",
       "      <td>0.395833</td>\n",
       "    </tr>\n",
       "    <tr>\n",
       "      <th>167</th>\n",
       "      <td>1.0</td>\n",
       "      <td>0</td>\n",
       "      <td>0</td>\n",
       "      <td>0.266667</td>\n",
       "    </tr>\n",
       "    <tr>\n",
       "      <th>2</th>\n",
       "      <td>1.0</td>\n",
       "      <td>0</td>\n",
       "      <td>0</td>\n",
       "      <td>0.262500</td>\n",
       "    </tr>\n",
       "    <tr>\n",
       "      <th>200</th>\n",
       "      <td>1.0</td>\n",
       "      <td>0</td>\n",
       "      <td>0</td>\n",
       "      <td>0.475000</td>\n",
       "    </tr>\n",
       "  </tbody>\n",
       "</table>\n",
       "</div>"
      ],
      "text/plain": [
       "        const  bmw  porsche  horsepower\n",
       "car_ID                                 \n",
       "123       1.0    0        0    0.083333\n",
       "126       1.0    0        1    0.395833\n",
       "167       1.0    0        0    0.266667\n",
       "2         1.0    0        0    0.262500\n",
       "200       1.0    0        0    0.475000"
      ]
     },
     "execution_count": 91,
     "metadata": {},
     "output_type": "execute_result"
    }
   ],
   "source": [
    "temp.head()"
   ]
  },
  {
   "cell_type": "code",
   "execution_count": 92,
   "metadata": {},
   "outputs": [
    {
     "data": {
      "text/html": [
       "<table class=\"simpletable\">\n",
       "<caption>OLS Regression Results</caption>\n",
       "<tr>\n",
       "  <th>Dep. Variable:</th>          <td>price</td>      <th>  R-squared:         </th> <td>   0.819</td>\n",
       "</tr>\n",
       "<tr>\n",
       "  <th>Model:</th>                   <td>OLS</td>       <th>  Adj. R-squared:    </th> <td>   0.814</td>\n",
       "</tr>\n",
       "<tr>\n",
       "  <th>Method:</th>             <td>Least Squares</td>  <th>  F-statistic:       </th> <td>   155.9</td>\n",
       "</tr>\n",
       "<tr>\n",
       "  <th>Date:</th>             <td>Mon, 20 Jan 2020</td> <th>  Prob (F-statistic):</th> <td>3.71e-50</td>\n",
       "</tr>\n",
       "<tr>\n",
       "  <th>Time:</th>                 <td>20:40:32</td>     <th>  Log-Likelihood:    </th> <td> -1361.9</td>\n",
       "</tr>\n",
       "<tr>\n",
       "  <th>No. Observations:</th>      <td>   143</td>      <th>  AIC:               </th> <td>   2734.</td>\n",
       "</tr>\n",
       "<tr>\n",
       "  <th>Df Residuals:</th>          <td>   138</td>      <th>  BIC:               </th> <td>   2749.</td>\n",
       "</tr>\n",
       "<tr>\n",
       "  <th>Df Model:</th>              <td>     4</td>      <th>                     </th>     <td> </td>   \n",
       "</tr>\n",
       "<tr>\n",
       "  <th>Covariance Type:</th>      <td>nonrobust</td>    <th>                     </th>     <td> </td>   \n",
       "</tr>\n",
       "</table>\n",
       "<table class=\"simpletable\">\n",
       "<tr>\n",
       "       <td></td>         <th>coef</th>     <th>std err</th>      <th>t</th>      <th>P>|t|</th>  <th>[0.025</th>    <th>0.975]</th>  \n",
       "</tr>\n",
       "<tr>\n",
       "  <th>const</th>      <td> 2649.5624</td> <td>  534.271</td> <td>    4.959</td> <td> 0.000</td> <td> 1593.146</td> <td> 3705.979</td>\n",
       "</tr>\n",
       "<tr>\n",
       "  <th>bmw</th>        <td> 7360.9629</td> <td> 1450.351</td> <td>    5.075</td> <td> 0.000</td> <td> 4493.178</td> <td> 1.02e+04</td>\n",
       "</tr>\n",
       "<tr>\n",
       "  <th>porsche</th>    <td> 4750.8693</td> <td> 2227.603</td> <td>    2.133</td> <td> 0.035</td> <td>  346.222</td> <td> 9155.516</td>\n",
       "</tr>\n",
       "<tr>\n",
       "  <th>horsepower</th> <td> 1.076e+04</td> <td> 3280.472</td> <td>    3.279</td> <td> 0.001</td> <td> 4268.845</td> <td> 1.72e+04</td>\n",
       "</tr>\n",
       "<tr>\n",
       "  <th>enginesize</th> <td>  3.13e+04</td> <td> 3295.601</td> <td>    9.497</td> <td> 0.000</td> <td> 2.48e+04</td> <td> 3.78e+04</td>\n",
       "</tr>\n",
       "</table>\n",
       "<table class=\"simpletable\">\n",
       "<tr>\n",
       "  <th>Omnibus:</th>       <td>16.226</td> <th>  Durbin-Watson:     </th> <td>   2.058</td>\n",
       "</tr>\n",
       "<tr>\n",
       "  <th>Prob(Omnibus):</th> <td> 0.000</td> <th>  Jarque-Bera (JB):  </th> <td>  18.756</td>\n",
       "</tr>\n",
       "<tr>\n",
       "  <th>Skew:</th>          <td> 0.746</td> <th>  Prob(JB):          </th> <td>8.46e-05</td>\n",
       "</tr>\n",
       "<tr>\n",
       "  <th>Kurtosis:</th>      <td> 3.959</td> <th>  Cond. No.          </th> <td>    16.9</td>\n",
       "</tr>\n",
       "</table><br/><br/>Warnings:<br/>[1] Standard Errors assume that the covariance matrix of the errors is correctly specified."
      ],
      "text/plain": [
       "<class 'statsmodels.iolib.summary.Summary'>\n",
       "\"\"\"\n",
       "                            OLS Regression Results                            \n",
       "==============================================================================\n",
       "Dep. Variable:                  price   R-squared:                       0.819\n",
       "Model:                            OLS   Adj. R-squared:                  0.814\n",
       "Method:                 Least Squares   F-statistic:                     155.9\n",
       "Date:                Mon, 20 Jan 2020   Prob (F-statistic):           3.71e-50\n",
       "Time:                        20:40:32   Log-Likelihood:                -1361.9\n",
       "No. Observations:                 143   AIC:                             2734.\n",
       "Df Residuals:                     138   BIC:                             2749.\n",
       "Df Model:                           4                                         \n",
       "Covariance Type:            nonrobust                                         \n",
       "==============================================================================\n",
       "                 coef    std err          t      P>|t|      [0.025      0.975]\n",
       "------------------------------------------------------------------------------\n",
       "const       2649.5624    534.271      4.959      0.000    1593.146    3705.979\n",
       "bmw         7360.9629   1450.351      5.075      0.000    4493.178    1.02e+04\n",
       "porsche     4750.8693   2227.603      2.133      0.035     346.222    9155.516\n",
       "horsepower  1.076e+04   3280.472      3.279      0.001    4268.845    1.72e+04\n",
       "enginesize   3.13e+04   3295.601      9.497      0.000    2.48e+04    3.78e+04\n",
       "==============================================================================\n",
       "Omnibus:                       16.226   Durbin-Watson:                   2.058\n",
       "Prob(Omnibus):                  0.000   Jarque-Bera (JB):               18.756\n",
       "Skew:                           0.746   Prob(JB):                     8.46e-05\n",
       "Kurtosis:                       3.959   Cond. No.                         16.9\n",
       "==============================================================================\n",
       "\n",
       "Warnings:\n",
       "[1] Standard Errors assume that the covariance matrix of the errors is correctly specified.\n",
       "\"\"\""
      ]
     },
     "execution_count": 92,
     "metadata": {},
     "output_type": "execute_result"
    }
   ],
   "source": [
    "temp=pd.concat([temp,X_train['enginesize']],axis = 1,ignore_index=False)\n",
    "lm_new=sm.OLS(y_train,temp).fit()\n",
    "lm_new.summary()"
   ]
  },
  {
   "cell_type": "code",
   "execution_count": 93,
   "metadata": {},
   "outputs": [
    {
     "name": "stdout",
     "output_type": "stream",
     "text": [
      "     Features    VIF\n",
      "2  horsepower  10.45\n",
      "3  enginesize   9.72\n",
      "1     porsche   1.28\n",
      "0         bmw   1.10\n"
     ]
    }
   ],
   "source": [
    "VIF_calc(temp)"
   ]
  },
  {
   "cell_type": "code",
   "execution_count": 94,
   "metadata": {},
   "outputs": [
    {
     "name": "stdout",
     "output_type": "stream",
     "text": [
      "                            OLS Regression Results                            \n",
      "==============================================================================\n",
      "Dep. Variable:                  price   R-squared:                       0.805\n",
      "Model:                            OLS   Adj. R-squared:                  0.800\n",
      "Method:                 Least Squares   F-statistic:                     190.9\n",
      "Date:                Mon, 20 Jan 2020   Prob (F-statistic):           4.29e-49\n",
      "Time:                        20:40:40   Log-Likelihood:                -1367.3\n",
      "No. Observations:                 143   AIC:                             2743.\n",
      "Df Residuals:                     139   BIC:                             2754.\n",
      "Df Model:                           3                                         \n",
      "Covariance Type:            nonrobust                                         \n",
      "==============================================================================\n",
      "                 coef    std err          t      P>|t|      [0.025      0.975]\n",
      "------------------------------------------------------------------------------\n",
      "const       2905.9176    546.739      5.315      0.000    1824.917    3986.918\n",
      "bmw         7543.2088   1499.249      5.031      0.000    4578.926    1.05e+04\n",
      "porsche     7849.1846   2086.760      3.761      0.000    3723.290     1.2e+04\n",
      "enginesize  4.006e+04   1993.108     20.101      0.000    3.61e+04     4.4e+04\n",
      "==============================================================================\n",
      "Omnibus:                       22.745   Durbin-Watson:                   2.048\n",
      "Prob(Omnibus):                  0.000   Jarque-Bera (JB):               28.385\n",
      "Skew:                           0.964   Prob(JB):                     6.86e-07\n",
      "Kurtosis:                       4.025   Cond. No.                         8.17\n",
      "==============================================================================\n",
      "\n",
      "Warnings:\n",
      "[1] Standard Errors assume that the covariance matrix of the errors is correctly specified.\n"
     ]
    }
   ],
   "source": [
    "temp,lm_2=reit_lm(temp,'horsepower')"
   ]
  },
  {
   "cell_type": "code",
   "execution_count": 95,
   "metadata": {},
   "outputs": [
    {
     "name": "stdout",
     "output_type": "stream",
     "text": [
      "     Features   VIF\n",
      "2  enginesize  1.16\n",
      "0         bmw  1.10\n",
      "1     porsche  1.06\n"
     ]
    }
   ],
   "source": [
    "VIF_calc(temp)"
   ]
  },
  {
   "cell_type": "markdown",
   "metadata": {},
   "source": [
    "#### Now let's add another variable and sse if the model improved"
   ]
  },
  {
   "cell_type": "code",
   "execution_count": 96,
   "metadata": {},
   "outputs": [
    {
     "data": {
      "text/html": [
       "<table class=\"simpletable\">\n",
       "<caption>OLS Regression Results</caption>\n",
       "<tr>\n",
       "  <th>Dep. Variable:</th>          <td>price</td>      <th>  R-squared:         </th> <td>   0.827</td>\n",
       "</tr>\n",
       "<tr>\n",
       "  <th>Model:</th>                   <td>OLS</td>       <th>  Adj. R-squared:    </th> <td>   0.822</td>\n",
       "</tr>\n",
       "<tr>\n",
       "  <th>Method:</th>             <td>Least Squares</td>  <th>  F-statistic:       </th> <td>   164.6</td>\n",
       "</tr>\n",
       "<tr>\n",
       "  <th>Date:</th>             <td>Mon, 20 Jan 2020</td> <th>  Prob (F-statistic):</th> <td>1.74e-51</td>\n",
       "</tr>\n",
       "<tr>\n",
       "  <th>Time:</th>                 <td>20:40:46</td>     <th>  Log-Likelihood:    </th> <td> -1358.8</td>\n",
       "</tr>\n",
       "<tr>\n",
       "  <th>No. Observations:</th>      <td>   143</td>      <th>  AIC:               </th> <td>   2728.</td>\n",
       "</tr>\n",
       "<tr>\n",
       "  <th>Df Residuals:</th>          <td>   138</td>      <th>  BIC:               </th> <td>   2742.</td>\n",
       "</tr>\n",
       "<tr>\n",
       "  <th>Df Model:</th>              <td>     4</td>      <th>                     </th>     <td> </td>   \n",
       "</tr>\n",
       "<tr>\n",
       "  <th>Covariance Type:</th>      <td>nonrobust</td>    <th>                     </th>     <td> </td>   \n",
       "</tr>\n",
       "</table>\n",
       "<table class=\"simpletable\">\n",
       "<tr>\n",
       "       <td></td>         <th>coef</th>     <th>std err</th>      <th>t</th>      <th>P>|t|</th>  <th>[0.025</th>    <th>0.975]</th>  \n",
       "</tr>\n",
       "<tr>\n",
       "  <th>const</th>      <td> 7102.1102</td> <td> 1128.124</td> <td>    6.296</td> <td> 0.000</td> <td> 4871.468</td> <td> 9332.753</td>\n",
       "</tr>\n",
       "<tr>\n",
       "  <th>bmw</th>        <td> 7154.8487</td> <td> 1420.457</td> <td>    5.037</td> <td> 0.000</td> <td> 4346.174</td> <td> 9963.523</td>\n",
       "</tr>\n",
       "<tr>\n",
       "  <th>porsche</th>    <td> 7376.6496</td> <td> 1976.096</td> <td>    3.733</td> <td> 0.000</td> <td> 3469.309</td> <td> 1.13e+04</td>\n",
       "</tr>\n",
       "<tr>\n",
       "  <th>enginesize</th> <td> 3.422e+04</td> <td> 2345.913</td> <td>   14.585</td> <td> 0.000</td> <td> 2.96e+04</td> <td> 3.89e+04</td>\n",
       "</tr>\n",
       "<tr>\n",
       "  <th>citympg</th>    <td>-8014.4320</td> <td> 1915.154</td> <td>   -4.185</td> <td> 0.000</td> <td>-1.18e+04</td> <td>-4227.591</td>\n",
       "</tr>\n",
       "</table>\n",
       "<table class=\"simpletable\">\n",
       "<tr>\n",
       "  <th>Omnibus:</th>       <td>14.375</td> <th>  Durbin-Watson:     </th> <td>   2.172</td>\n",
       "</tr>\n",
       "<tr>\n",
       "  <th>Prob(Omnibus):</th> <td> 0.001</td> <th>  Jarque-Bera (JB):  </th> <td>  15.761</td>\n",
       "</tr>\n",
       "<tr>\n",
       "  <th>Skew:</th>          <td> 0.715</td> <th>  Prob(JB):          </th> <td>0.000378</td>\n",
       "</tr>\n",
       "<tr>\n",
       "  <th>Kurtosis:</th>      <td> 3.774</td> <th>  Cond. No.          </th> <td>    11.6</td>\n",
       "</tr>\n",
       "</table><br/><br/>Warnings:<br/>[1] Standard Errors assume that the covariance matrix of the errors is correctly specified."
      ],
      "text/plain": [
       "<class 'statsmodels.iolib.summary.Summary'>\n",
       "\"\"\"\n",
       "                            OLS Regression Results                            \n",
       "==============================================================================\n",
       "Dep. Variable:                  price   R-squared:                       0.827\n",
       "Model:                            OLS   Adj. R-squared:                  0.822\n",
       "Method:                 Least Squares   F-statistic:                     164.6\n",
       "Date:                Mon, 20 Jan 2020   Prob (F-statistic):           1.74e-51\n",
       "Time:                        20:40:46   Log-Likelihood:                -1358.8\n",
       "No. Observations:                 143   AIC:                             2728.\n",
       "Df Residuals:                     138   BIC:                             2742.\n",
       "Df Model:                           4                                         \n",
       "Covariance Type:            nonrobust                                         \n",
       "==============================================================================\n",
       "                 coef    std err          t      P>|t|      [0.025      0.975]\n",
       "------------------------------------------------------------------------------\n",
       "const       7102.1102   1128.124      6.296      0.000    4871.468    9332.753\n",
       "bmw         7154.8487   1420.457      5.037      0.000    4346.174    9963.523\n",
       "porsche     7376.6496   1976.096      3.733      0.000    3469.309    1.13e+04\n",
       "enginesize  3.422e+04   2345.913     14.585      0.000    2.96e+04    3.89e+04\n",
       "citympg    -8014.4320   1915.154     -4.185      0.000   -1.18e+04   -4227.591\n",
       "==============================================================================\n",
       "Omnibus:                       14.375   Durbin-Watson:                   2.172\n",
       "Prob(Omnibus):                  0.001   Jarque-Bera (JB):               15.761\n",
       "Skew:                           0.715   Prob(JB):                     0.000378\n",
       "Kurtosis:                       3.774   Cond. No.                         11.6\n",
       "==============================================================================\n",
       "\n",
       "Warnings:\n",
       "[1] Standard Errors assume that the covariance matrix of the errors is correctly specified.\n",
       "\"\"\""
      ]
     },
     "execution_count": 96,
     "metadata": {},
     "output_type": "execute_result"
    }
   ],
   "source": [
    "temp=pd.concat([temp,X_train['citympg']],axis = 1,ignore_index=False)\n",
    "lm_2=sm.OLS(y_train,temp).fit()\n",
    "lm_2.summary()"
   ]
  },
  {
   "cell_type": "code",
   "execution_count": 97,
   "metadata": {},
   "outputs": [
    {
     "name": "stdout",
     "output_type": "stream",
     "text": [
      "     Features   VIF\n",
      "2  enginesize  1.78\n",
      "3     citympg  1.55\n",
      "0         bmw  1.11\n",
      "1     porsche  1.08\n"
     ]
    }
   ],
   "source": [
    "VIF_calc(temp)"
   ]
  },
  {
   "cell_type": "markdown",
   "metadata": {},
   "source": [
    "#### R-Squared has improved, p-values and VIFs are also small, so we can say this is a good model"
   ]
  },
  {
   "cell_type": "markdown",
   "metadata": {},
   "source": [
    "#### Let's add another variable highwaympg and seeit's effect"
   ]
  },
  {
   "cell_type": "code",
   "execution_count": 98,
   "metadata": {},
   "outputs": [
    {
     "data": {
      "text/html": [
       "<table class=\"simpletable\">\n",
       "<caption>OLS Regression Results</caption>\n",
       "<tr>\n",
       "  <th>Dep. Variable:</th>          <td>price</td>      <th>  R-squared:         </th> <td>   0.838</td>\n",
       "</tr>\n",
       "<tr>\n",
       "  <th>Model:</th>                   <td>OLS</td>       <th>  Adj. R-squared:    </th> <td>   0.832</td>\n",
       "</tr>\n",
       "<tr>\n",
       "  <th>Method:</th>             <td>Least Squares</td>  <th>  F-statistic:       </th> <td>   141.4</td>\n",
       "</tr>\n",
       "<tr>\n",
       "  <th>Date:</th>             <td>Mon, 20 Jan 2020</td> <th>  Prob (F-statistic):</th> <td>2.74e-52</td>\n",
       "</tr>\n",
       "<tr>\n",
       "  <th>Time:</th>                 <td>20:40:50</td>     <th>  Log-Likelihood:    </th> <td> -1354.1</td>\n",
       "</tr>\n",
       "<tr>\n",
       "  <th>No. Observations:</th>      <td>   143</td>      <th>  AIC:               </th> <td>   2720.</td>\n",
       "</tr>\n",
       "<tr>\n",
       "  <th>Df Residuals:</th>          <td>   137</td>      <th>  BIC:               </th> <td>   2738.</td>\n",
       "</tr>\n",
       "<tr>\n",
       "  <th>Df Model:</th>              <td>     5</td>      <th>                     </th>     <td> </td>   \n",
       "</tr>\n",
       "<tr>\n",
       "  <th>Covariance Type:</th>      <td>nonrobust</td>    <th>                     </th>     <td> </td>   \n",
       "</tr>\n",
       "</table>\n",
       "<table class=\"simpletable\">\n",
       "<tr>\n",
       "       <td></td>         <th>coef</th>     <th>std err</th>      <th>t</th>      <th>P>|t|</th>  <th>[0.025</th>    <th>0.975]</th>  \n",
       "</tr>\n",
       "<tr>\n",
       "  <th>const</th>      <td> 8481.6603</td> <td> 1185.731</td> <td>    7.153</td> <td> 0.000</td> <td> 6136.959</td> <td> 1.08e+04</td>\n",
       "</tr>\n",
       "<tr>\n",
       "  <th>bmw</th>        <td> 7816.6078</td> <td> 1396.721</td> <td>    5.596</td> <td> 0.000</td> <td> 5054.689</td> <td> 1.06e+04</td>\n",
       "</tr>\n",
       "<tr>\n",
       "  <th>porsche</th>    <td> 9834.1390</td> <td> 2082.184</td> <td>    4.723</td> <td> 0.000</td> <td> 5716.764</td> <td>  1.4e+04</td>\n",
       "</tr>\n",
       "<tr>\n",
       "  <th>enginesize</th> <td> 3.217e+04</td> <td> 2375.765</td> <td>   13.540</td> <td> 0.000</td> <td> 2.75e+04</td> <td> 3.69e+04</td>\n",
       "</tr>\n",
       "<tr>\n",
       "  <th>citympg</th>    <td> 1.218e+04</td> <td> 6886.562</td> <td>    1.768</td> <td> 0.079</td> <td>-1442.390</td> <td> 2.58e+04</td>\n",
       "</tr>\n",
       "<tr>\n",
       "  <th>highwaympg</th> <td>-2.111e+04</td> <td> 6931.461</td> <td>   -3.045</td> <td> 0.003</td> <td>-3.48e+04</td> <td>-7399.483</td>\n",
       "</tr>\n",
       "</table>\n",
       "<table class=\"simpletable\">\n",
       "<tr>\n",
       "  <th>Omnibus:</th>       <td>12.058</td> <th>  Durbin-Watson:     </th> <td>   2.190</td>\n",
       "</tr>\n",
       "<tr>\n",
       "  <th>Prob(Omnibus):</th> <td> 0.002</td> <th>  Jarque-Bera (JB):  </th> <td>  12.529</td>\n",
       "</tr>\n",
       "<tr>\n",
       "  <th>Skew:</th>          <td> 0.674</td> <th>  Prob(JB):          </th> <td> 0.00190</td>\n",
       "</tr>\n",
       "<tr>\n",
       "  <th>Kurtosis:</th>      <td> 3.533</td> <th>  Cond. No.          </th> <td>    41.9</td>\n",
       "</tr>\n",
       "</table><br/><br/>Warnings:<br/>[1] Standard Errors assume that the covariance matrix of the errors is correctly specified."
      ],
      "text/plain": [
       "<class 'statsmodels.iolib.summary.Summary'>\n",
       "\"\"\"\n",
       "                            OLS Regression Results                            \n",
       "==============================================================================\n",
       "Dep. Variable:                  price   R-squared:                       0.838\n",
       "Model:                            OLS   Adj. R-squared:                  0.832\n",
       "Method:                 Least Squares   F-statistic:                     141.4\n",
       "Date:                Mon, 20 Jan 2020   Prob (F-statistic):           2.74e-52\n",
       "Time:                        20:40:50   Log-Likelihood:                -1354.1\n",
       "No. Observations:                 143   AIC:                             2720.\n",
       "Df Residuals:                     137   BIC:                             2738.\n",
       "Df Model:                           5                                         \n",
       "Covariance Type:            nonrobust                                         \n",
       "==============================================================================\n",
       "                 coef    std err          t      P>|t|      [0.025      0.975]\n",
       "------------------------------------------------------------------------------\n",
       "const       8481.6603   1185.731      7.153      0.000    6136.959    1.08e+04\n",
       "bmw         7816.6078   1396.721      5.596      0.000    5054.689    1.06e+04\n",
       "porsche     9834.1390   2082.184      4.723      0.000    5716.764     1.4e+04\n",
       "enginesize  3.217e+04   2375.765     13.540      0.000    2.75e+04    3.69e+04\n",
       "citympg     1.218e+04   6886.562      1.768      0.079   -1442.390    2.58e+04\n",
       "highwaympg -2.111e+04   6931.461     -3.045      0.003   -3.48e+04   -7399.483\n",
       "==============================================================================\n",
       "Omnibus:                       12.058   Durbin-Watson:                   2.190\n",
       "Prob(Omnibus):                  0.002   Jarque-Bera (JB):               12.529\n",
       "Skew:                           0.674   Prob(JB):                      0.00190\n",
       "Kurtosis:                       3.533   Cond. No.                         41.9\n",
       "==============================================================================\n",
       "\n",
       "Warnings:\n",
       "[1] Standard Errors assume that the covariance matrix of the errors is correctly specified.\n",
       "\"\"\""
      ]
     },
     "execution_count": 98,
     "metadata": {},
     "output_type": "execute_result"
    }
   ],
   "source": [
    "temp=pd.concat([temp,X_train['highwaympg']],axis = 1,ignore_index=False)\n",
    "lm_2=sm.OLS(y_train,temp).fit()\n",
    "lm_2.summary()"
   ]
  },
  {
   "cell_type": "code",
   "execution_count": 99,
   "metadata": {},
   "outputs": [
    {
     "name": "stdout",
     "output_type": "stream",
     "text": [
      "     Features     VIF\n",
      "4  highwaympg  100.64\n",
      "3     citympg   98.96\n",
      "2  enginesize    1.79\n",
      "1     porsche    1.24\n",
      "0         bmw    1.14\n"
     ]
    }
   ],
   "source": [
    "VIF_calc(temp)"
   ]
  },
  {
   "cell_type": "markdown",
   "metadata": {},
   "source": [
    "#### R-Square improved, whereas the VIF and p-values increased for both highwaympg and citympg, so we can say these 2 are highly corelated,so we need to drop highwaympg  "
   ]
  },
  {
   "cell_type": "code",
   "execution_count": 100,
   "metadata": {},
   "outputs": [
    {
     "name": "stdout",
     "output_type": "stream",
     "text": [
      "                            OLS Regression Results                            \n",
      "==============================================================================\n",
      "Dep. Variable:                  price   R-squared:                       0.827\n",
      "Model:                            OLS   Adj. R-squared:                  0.822\n",
      "Method:                 Least Squares   F-statistic:                     164.6\n",
      "Date:                Mon, 20 Jan 2020   Prob (F-statistic):           1.74e-51\n",
      "Time:                        20:40:54   Log-Likelihood:                -1358.8\n",
      "No. Observations:                 143   AIC:                             2728.\n",
      "Df Residuals:                     138   BIC:                             2742.\n",
      "Df Model:                           4                                         \n",
      "Covariance Type:            nonrobust                                         \n",
      "==============================================================================\n",
      "                 coef    std err          t      P>|t|      [0.025      0.975]\n",
      "------------------------------------------------------------------------------\n",
      "const       7102.1102   1128.124      6.296      0.000    4871.468    9332.753\n",
      "bmw         7154.8487   1420.457      5.037      0.000    4346.174    9963.523\n",
      "porsche     7376.6496   1976.096      3.733      0.000    3469.309    1.13e+04\n",
      "enginesize  3.422e+04   2345.913     14.585      0.000    2.96e+04    3.89e+04\n",
      "citympg    -8014.4320   1915.154     -4.185      0.000   -1.18e+04   -4227.591\n",
      "==============================================================================\n",
      "Omnibus:                       14.375   Durbin-Watson:                   2.172\n",
      "Prob(Omnibus):                  0.001   Jarque-Bera (JB):               15.761\n",
      "Skew:                           0.715   Prob(JB):                     0.000378\n",
      "Kurtosis:                       3.774   Cond. No.                         11.6\n",
      "==============================================================================\n",
      "\n",
      "Warnings:\n",
      "[1] Standard Errors assume that the covariance matrix of the errors is correctly specified.\n"
     ]
    }
   ],
   "source": [
    "temp,lm_2=reit_lm(temp,'highwaympg')"
   ]
  },
  {
   "attachments": {
    "image.png": {
     "image/png": "[encoded data removed]"
    }
   },
   "cell_type": "markdown",
   "metadata": {},
   "source": [
    "### So as of now we have got 3 models details below\n",
    "Model name\tR-square-Train\tX-train dataframe\n",
    "lm\t0.876\tX_train_rfe\n",
    "lm_1\t0.872\ttemp_1\n",
    "lm_2\t0.827\ttemp\n",
    "![image.png](attachment:image.png)"
   ]
  },
  {
   "cell_type": "code",
   "execution_count": 101,
   "metadata": {},
   "outputs": [
    {
     "data": {
      "text/html": [
       "<table class=\"simpletable\">\n",
       "<caption>OLS Regression Results</caption>\n",
       "<tr>\n",
       "  <th>Dep. Variable:</th>          <td>price</td>      <th>  R-squared:         </th> <td>   0.876</td>\n",
       "</tr>\n",
       "<tr>\n",
       "  <th>Model:</th>                   <td>OLS</td>       <th>  Adj. R-squared:    </th> <td>   0.871</td>\n",
       "</tr>\n",
       "<tr>\n",
       "  <th>Method:</th>             <td>Least Squares</td>  <th>  F-statistic:       </th> <td>   160.7</td>\n",
       "</tr>\n",
       "<tr>\n",
       "  <th>Date:</th>             <td>Mon, 20 Jan 2020</td> <th>  Prob (F-statistic):</th> <td>3.36e-59</td>\n",
       "</tr>\n",
       "<tr>\n",
       "  <th>Time:</th>                 <td>20:40:57</td>     <th>  Log-Likelihood:    </th> <td> -1334.6</td>\n",
       "</tr>\n",
       "<tr>\n",
       "  <th>No. Observations:</th>      <td>   143</td>      <th>  AIC:               </th> <td>   2683.</td>\n",
       "</tr>\n",
       "<tr>\n",
       "  <th>Df Residuals:</th>          <td>   136</td>      <th>  BIC:               </th> <td>   2704.</td>\n",
       "</tr>\n",
       "<tr>\n",
       "  <th>Df Model:</th>              <td>     6</td>      <th>                     </th>     <td> </td>   \n",
       "</tr>\n",
       "<tr>\n",
       "  <th>Covariance Type:</th>      <td>nonrobust</td>    <th>                     </th>     <td> </td>   \n",
       "</tr>\n",
       "</table>\n",
       "<table class=\"simpletable\">\n",
       "<tr>\n",
       "       <td></td>         <th>coef</th>     <th>std err</th>      <th>t</th>      <th>P>|t|</th>  <th>[0.025</th>    <th>0.975]</th>  \n",
       "</tr>\n",
       "<tr>\n",
       "  <th>const</th>      <td>  -57.4352</td> <td>  539.018</td> <td>   -0.107</td> <td> 0.915</td> <td>-1123.376</td> <td> 1008.506</td>\n",
       "</tr>\n",
       "<tr>\n",
       "  <th>l</th>          <td>-5502.6297</td> <td> 1090.446</td> <td>   -5.046</td> <td> 0.000</td> <td>-7659.053</td> <td>-3346.206</td>\n",
       "</tr>\n",
       "<tr>\n",
       "  <th>three</th>      <td> 1.071e+04</td> <td> 3094.849</td> <td>    3.461</td> <td> 0.001</td> <td> 4590.813</td> <td> 1.68e+04</td>\n",
       "</tr>\n",
       "<tr>\n",
       "  <th>twelve</th>     <td> 6261.6183</td> <td> 2908.798</td> <td>    2.153</td> <td> 0.033</td> <td>  509.293</td> <td>  1.2e+04</td>\n",
       "</tr>\n",
       "<tr>\n",
       "  <th>bmw</th>        <td> 9019.5246</td> <td> 1198.396</td> <td>    7.526</td> <td> 0.000</td> <td> 6649.624</td> <td> 1.14e+04</td>\n",
       "</tr>\n",
       "<tr>\n",
       "  <th>porsche</th>    <td> 1.131e+04</td> <td> 1657.313</td> <td>    6.825</td> <td> 0.000</td> <td> 8033.591</td> <td> 1.46e+04</td>\n",
       "</tr>\n",
       "<tr>\n",
       "  <th>curbweight</th> <td>  3.12e+04</td> <td> 1262.796</td> <td>   24.707</td> <td> 0.000</td> <td> 2.87e+04</td> <td> 3.37e+04</td>\n",
       "</tr>\n",
       "</table>\n",
       "<table class=\"simpletable\">\n",
       "<tr>\n",
       "  <th>Omnibus:</th>       <td>12.427</td> <th>  Durbin-Watson:     </th> <td>   1.961</td>\n",
       "</tr>\n",
       "<tr>\n",
       "  <th>Prob(Omnibus):</th> <td> 0.002</td> <th>  Jarque-Bera (JB):  </th> <td>  34.330</td>\n",
       "</tr>\n",
       "<tr>\n",
       "  <th>Skew:</th>          <td> 0.104</td> <th>  Prob(JB):          </th> <td>3.51e-08</td>\n",
       "</tr>\n",
       "<tr>\n",
       "  <th>Kurtosis:</th>      <td> 5.391</td> <th>  Cond. No.          </th> <td>    14.9</td>\n",
       "</tr>\n",
       "</table><br/><br/>Warnings:<br/>[1] Standard Errors assume that the covariance matrix of the errors is correctly specified."
      ],
      "text/plain": [
       "<class 'statsmodels.iolib.summary.Summary'>\n",
       "\"\"\"\n",
       "                            OLS Regression Results                            \n",
       "==============================================================================\n",
       "Dep. Variable:                  price   R-squared:                       0.876\n",
       "Model:                            OLS   Adj. R-squared:                  0.871\n",
       "Method:                 Least Squares   F-statistic:                     160.7\n",
       "Date:                Mon, 20 Jan 2020   Prob (F-statistic):           3.36e-59\n",
       "Time:                        20:40:57   Log-Likelihood:                -1334.6\n",
       "No. Observations:                 143   AIC:                             2683.\n",
       "Df Residuals:                     136   BIC:                             2704.\n",
       "Df Model:                           6                                         \n",
       "Covariance Type:            nonrobust                                         \n",
       "==============================================================================\n",
       "                 coef    std err          t      P>|t|      [0.025      0.975]\n",
       "------------------------------------------------------------------------------\n",
       "const        -57.4352    539.018     -0.107      0.915   -1123.376    1008.506\n",
       "l          -5502.6297   1090.446     -5.046      0.000   -7659.053   -3346.206\n",
       "three       1.071e+04   3094.849      3.461      0.001    4590.813    1.68e+04\n",
       "twelve      6261.6183   2908.798      2.153      0.033     509.293     1.2e+04\n",
       "bmw         9019.5246   1198.396      7.526      0.000    6649.624    1.14e+04\n",
       "porsche     1.131e+04   1657.313      6.825      0.000    8033.591    1.46e+04\n",
       "curbweight   3.12e+04   1262.796     24.707      0.000    2.87e+04    3.37e+04\n",
       "==============================================================================\n",
       "Omnibus:                       12.427   Durbin-Watson:                   1.961\n",
       "Prob(Omnibus):                  0.002   Jarque-Bera (JB):               34.330\n",
       "Skew:                           0.104   Prob(JB):                     3.51e-08\n",
       "Kurtosis:                       5.391   Cond. No.                         14.9\n",
       "==============================================================================\n",
       "\n",
       "Warnings:\n",
       "[1] Standard Errors assume that the covariance matrix of the errors is correctly specified.\n",
       "\"\"\""
      ]
     },
     "execution_count": 101,
     "metadata": {},
     "output_type": "execute_result"
    }
   ],
   "source": [
    "lm.summary()"
   ]
  },
  {
   "cell_type": "code",
   "execution_count": 102,
   "metadata": {},
   "outputs": [
    {
     "data": {
      "text/html": [
       "<table class=\"simpletable\">\n",
       "<caption>OLS Regression Results</caption>\n",
       "<tr>\n",
       "  <th>Dep. Variable:</th>          <td>price</td>      <th>  R-squared:         </th> <td>   0.872</td>\n",
       "</tr>\n",
       "<tr>\n",
       "  <th>Model:</th>                   <td>OLS</td>       <th>  Adj. R-squared:    </th> <td>   0.868</td>\n",
       "</tr>\n",
       "<tr>\n",
       "  <th>Method:</th>             <td>Least Squares</td>  <th>  F-statistic:       </th> <td>   187.0</td>\n",
       "</tr>\n",
       "<tr>\n",
       "  <th>Date:</th>             <td>Mon, 20 Jan 2020</td> <th>  Prob (F-statistic):</th> <td>2.26e-59</td>\n",
       "</tr>\n",
       "<tr>\n",
       "  <th>Time:</th>                 <td>20:40:58</td>     <th>  Log-Likelihood:    </th> <td> -1337.0</td>\n",
       "</tr>\n",
       "<tr>\n",
       "  <th>No. Observations:</th>      <td>   143</td>      <th>  AIC:               </th> <td>   2686.</td>\n",
       "</tr>\n",
       "<tr>\n",
       "  <th>Df Residuals:</th>          <td>   137</td>      <th>  BIC:               </th> <td>   2704.</td>\n",
       "</tr>\n",
       "<tr>\n",
       "  <th>Df Model:</th>              <td>     5</td>      <th>                     </th>     <td> </td>   \n",
       "</tr>\n",
       "<tr>\n",
       "  <th>Covariance Type:</th>      <td>nonrobust</td>    <th>                     </th>     <td> </td>   \n",
       "</tr>\n",
       "</table>\n",
       "<table class=\"simpletable\">\n",
       "<tr>\n",
       "       <td></td>         <th>coef</th>     <th>std err</th>      <th>t</th>      <th>P>|t|</th>  <th>[0.025</th>    <th>0.975]</th>  \n",
       "</tr>\n",
       "<tr>\n",
       "  <th>const</th>      <td> -267.7395</td> <td>  537.075</td> <td>   -0.499</td> <td> 0.619</td> <td>-1329.768</td> <td>  794.289</td>\n",
       "</tr>\n",
       "<tr>\n",
       "  <th>l</th>          <td>-5753.2986</td> <td> 1098.496</td> <td>   -5.237</td> <td> 0.000</td> <td>-7925.499</td> <td>-3581.098</td>\n",
       "</tr>\n",
       "<tr>\n",
       "  <th>three</th>      <td> 1.117e+04</td> <td> 3128.110</td> <td>    3.571</td> <td> 0.000</td> <td> 4986.415</td> <td> 1.74e+04</td>\n",
       "</tr>\n",
       "<tr>\n",
       "  <th>bmw</th>        <td> 8838.4077</td> <td> 1211.189</td> <td>    7.297</td> <td> 0.000</td> <td> 6443.364</td> <td> 1.12e+04</td>\n",
       "</tr>\n",
       "<tr>\n",
       "  <th>porsche</th>    <td> 1.113e+04</td> <td> 1676.994</td> <td>    6.637</td> <td> 0.000</td> <td> 7814.211</td> <td> 1.44e+04</td>\n",
       "</tr>\n",
       "<tr>\n",
       "  <th>curbweight</th> <td> 3.188e+04</td> <td> 1238.554</td> <td>   25.741</td> <td> 0.000</td> <td> 2.94e+04</td> <td> 3.43e+04</td>\n",
       "</tr>\n",
       "</table>\n",
       "<table class=\"simpletable\">\n",
       "<tr>\n",
       "  <th>Omnibus:</th>       <td>11.098</td> <th>  Durbin-Watson:     </th> <td>   1.956</td>\n",
       "</tr>\n",
       "<tr>\n",
       "  <th>Prob(Omnibus):</th> <td> 0.004</td> <th>  Jarque-Bera (JB):  </th> <td>  28.535</td>\n",
       "</tr>\n",
       "<tr>\n",
       "  <th>Skew:</th>          <td> 0.027</td> <th>  Prob(JB):          </th> <td>6.36e-07</td>\n",
       "</tr>\n",
       "<tr>\n",
       "  <th>Kurtosis:</th>      <td> 5.188</td> <th>  Cond. No.          </th> <td>    14.6</td>\n",
       "</tr>\n",
       "</table><br/><br/>Warnings:<br/>[1] Standard Errors assume that the covariance matrix of the errors is correctly specified."
      ],
      "text/plain": [
       "<class 'statsmodels.iolib.summary.Summary'>\n",
       "\"\"\"\n",
       "                            OLS Regression Results                            \n",
       "==============================================================================\n",
       "Dep. Variable:                  price   R-squared:                       0.872\n",
       "Model:                            OLS   Adj. R-squared:                  0.868\n",
       "Method:                 Least Squares   F-statistic:                     187.0\n",
       "Date:                Mon, 20 Jan 2020   Prob (F-statistic):           2.26e-59\n",
       "Time:                        20:40:58   Log-Likelihood:                -1337.0\n",
       "No. Observations:                 143   AIC:                             2686.\n",
       "Df Residuals:                     137   BIC:                             2704.\n",
       "Df Model:                           5                                         \n",
       "Covariance Type:            nonrobust                                         \n",
       "==============================================================================\n",
       "                 coef    std err          t      P>|t|      [0.025      0.975]\n",
       "------------------------------------------------------------------------------\n",
       "const       -267.7395    537.075     -0.499      0.619   -1329.768     794.289\n",
       "l          -5753.2986   1098.496     -5.237      0.000   -7925.499   -3581.098\n",
       "three       1.117e+04   3128.110      3.571      0.000    4986.415    1.74e+04\n",
       "bmw         8838.4077   1211.189      7.297      0.000    6443.364    1.12e+04\n",
       "porsche     1.113e+04   1676.994      6.637      0.000    7814.211    1.44e+04\n",
       "curbweight  3.188e+04   1238.554     25.741      0.000    2.94e+04    3.43e+04\n",
       "==============================================================================\n",
       "Omnibus:                       11.098   Durbin-Watson:                   1.956\n",
       "Prob(Omnibus):                  0.004   Jarque-Bera (JB):               28.535\n",
       "Skew:                           0.027   Prob(JB):                     6.36e-07\n",
       "Kurtosis:                       5.188   Cond. No.                         14.6\n",
       "==============================================================================\n",
       "\n",
       "Warnings:\n",
       "[1] Standard Errors assume that the covariance matrix of the errors is correctly specified.\n",
       "\"\"\""
      ]
     },
     "execution_count": 102,
     "metadata": {},
     "output_type": "execute_result"
    }
   ],
   "source": [
    "lm_1.summary()"
   ]
  },
  {
   "cell_type": "code",
   "execution_count": 103,
   "metadata": {},
   "outputs": [
    {
     "data": {
      "text/html": [
       "<table class=\"simpletable\">\n",
       "<caption>OLS Regression Results</caption>\n",
       "<tr>\n",
       "  <th>Dep. Variable:</th>          <td>price</td>      <th>  R-squared:         </th> <td>   0.827</td>\n",
       "</tr>\n",
       "<tr>\n",
       "  <th>Model:</th>                   <td>OLS</td>       <th>  Adj. R-squared:    </th> <td>   0.822</td>\n",
       "</tr>\n",
       "<tr>\n",
       "  <th>Method:</th>             <td>Least Squares</td>  <th>  F-statistic:       </th> <td>   164.6</td>\n",
       "</tr>\n",
       "<tr>\n",
       "  <th>Date:</th>             <td>Mon, 20 Jan 2020</td> <th>  Prob (F-statistic):</th> <td>1.74e-51</td>\n",
       "</tr>\n",
       "<tr>\n",
       "  <th>Time:</th>                 <td>20:40:59</td>     <th>  Log-Likelihood:    </th> <td> -1358.8</td>\n",
       "</tr>\n",
       "<tr>\n",
       "  <th>No. Observations:</th>      <td>   143</td>      <th>  AIC:               </th> <td>   2728.</td>\n",
       "</tr>\n",
       "<tr>\n",
       "  <th>Df Residuals:</th>          <td>   138</td>      <th>  BIC:               </th> <td>   2742.</td>\n",
       "</tr>\n",
       "<tr>\n",
       "  <th>Df Model:</th>              <td>     4</td>      <th>                     </th>     <td> </td>   \n",
       "</tr>\n",
       "<tr>\n",
       "  <th>Covariance Type:</th>      <td>nonrobust</td>    <th>                     </th>     <td> </td>   \n",
       "</tr>\n",
       "</table>\n",
       "<table class=\"simpletable\">\n",
       "<tr>\n",
       "       <td></td>         <th>coef</th>     <th>std err</th>      <th>t</th>      <th>P>|t|</th>  <th>[0.025</th>    <th>0.975]</th>  \n",
       "</tr>\n",
       "<tr>\n",
       "  <th>const</th>      <td> 7102.1102</td> <td> 1128.124</td> <td>    6.296</td> <td> 0.000</td> <td> 4871.468</td> <td> 9332.753</td>\n",
       "</tr>\n",
       "<tr>\n",
       "  <th>bmw</th>        <td> 7154.8487</td> <td> 1420.457</td> <td>    5.037</td> <td> 0.000</td> <td> 4346.174</td> <td> 9963.523</td>\n",
       "</tr>\n",
       "<tr>\n",
       "  <th>porsche</th>    <td> 7376.6496</td> <td> 1976.096</td> <td>    3.733</td> <td> 0.000</td> <td> 3469.309</td> <td> 1.13e+04</td>\n",
       "</tr>\n",
       "<tr>\n",
       "  <th>enginesize</th> <td> 3.422e+04</td> <td> 2345.913</td> <td>   14.585</td> <td> 0.000</td> <td> 2.96e+04</td> <td> 3.89e+04</td>\n",
       "</tr>\n",
       "<tr>\n",
       "  <th>citympg</th>    <td>-8014.4320</td> <td> 1915.154</td> <td>   -4.185</td> <td> 0.000</td> <td>-1.18e+04</td> <td>-4227.591</td>\n",
       "</tr>\n",
       "</table>\n",
       "<table class=\"simpletable\">\n",
       "<tr>\n",
       "  <th>Omnibus:</th>       <td>14.375</td> <th>  Durbin-Watson:     </th> <td>   2.172</td>\n",
       "</tr>\n",
       "<tr>\n",
       "  <th>Prob(Omnibus):</th> <td> 0.001</td> <th>  Jarque-Bera (JB):  </th> <td>  15.761</td>\n",
       "</tr>\n",
       "<tr>\n",
       "  <th>Skew:</th>          <td> 0.715</td> <th>  Prob(JB):          </th> <td>0.000378</td>\n",
       "</tr>\n",
       "<tr>\n",
       "  <th>Kurtosis:</th>      <td> 3.774</td> <th>  Cond. No.          </th> <td>    11.6</td>\n",
       "</tr>\n",
       "</table><br/><br/>Warnings:<br/>[1] Standard Errors assume that the covariance matrix of the errors is correctly specified."
      ],
      "text/plain": [
       "<class 'statsmodels.iolib.summary.Summary'>\n",
       "\"\"\"\n",
       "                            OLS Regression Results                            \n",
       "==============================================================================\n",
       "Dep. Variable:                  price   R-squared:                       0.827\n",
       "Model:                            OLS   Adj. R-squared:                  0.822\n",
       "Method:                 Least Squares   F-statistic:                     164.6\n",
       "Date:                Mon, 20 Jan 2020   Prob (F-statistic):           1.74e-51\n",
       "Time:                        20:40:59   Log-Likelihood:                -1358.8\n",
       "No. Observations:                 143   AIC:                             2728.\n",
       "Df Residuals:                     138   BIC:                             2742.\n",
       "Df Model:                           4                                         \n",
       "Covariance Type:            nonrobust                                         \n",
       "==============================================================================\n",
       "                 coef    std err          t      P>|t|      [0.025      0.975]\n",
       "------------------------------------------------------------------------------\n",
       "const       7102.1102   1128.124      6.296      0.000    4871.468    9332.753\n",
       "bmw         7154.8487   1420.457      5.037      0.000    4346.174    9963.523\n",
       "porsche     7376.6496   1976.096      3.733      0.000    3469.309    1.13e+04\n",
       "enginesize  3.422e+04   2345.913     14.585      0.000    2.96e+04    3.89e+04\n",
       "citympg    -8014.4320   1915.154     -4.185      0.000   -1.18e+04   -4227.591\n",
       "==============================================================================\n",
       "Omnibus:                       14.375   Durbin-Watson:                   2.172\n",
       "Prob(Omnibus):                  0.001   Jarque-Bera (JB):               15.761\n",
       "Skew:                           0.715   Prob(JB):                     0.000378\n",
       "Kurtosis:                       3.774   Cond. No.                         11.6\n",
       "==============================================================================\n",
       "\n",
       "Warnings:\n",
       "[1] Standard Errors assume that the covariance matrix of the errors is correctly specified.\n",
       "\"\"\""
      ]
     },
     "execution_count": 103,
     "metadata": {},
     "output_type": "execute_result"
    }
   ],
   "source": [
    "lm_2.summary()"
   ]
  },
  {
   "cell_type": "markdown",
   "metadata": {},
   "source": [
    "## Residual Analysis for model lm\n"
   ]
  },
  {
   "cell_type": "code",
   "execution_count": 104,
   "metadata": {},
   "outputs": [],
   "source": [
    "## predict the values of y using the trained model\n",
    "y_train_pred_lm=lm.predict(X_train_rfe)"
   ]
  },
  {
   "cell_type": "code",
   "execution_count": 105,
   "metadata": {},
   "outputs": [
    {
     "data": {
      "text/plain": [
       "<matplotlib.axes._subplots.AxesSubplot at 0x51af897be0>"
      ]
     },
     "execution_count": 105,
     "metadata": {},
     "output_type": "execute_result"
    },
    {
     "data": {
      "image/png": "[encoded data removed]",
      "text/plain": [
       "<Figure size 432x288 with 1 Axes>"
      ]
     },
     "metadata": {
      "needs_background": "light"
     },
     "output_type": "display_data"
    }
   ],
   "source": [
    "## Calculate the residual and plot the distribution plot\n",
    "res_lm=y_train-y_train_pred_lm\n",
    "sns.distplot(res_lm)"
   ]
  },
  {
   "cell_type": "markdown",
   "metadata": {},
   "source": [
    "## Residual Analysis for model lm_1"
   ]
  },
  {
   "cell_type": "code",
   "execution_count": 106,
   "metadata": {},
   "outputs": [
    {
     "data": {
      "text/plain": [
       "<matplotlib.axes._subplots.AxesSubplot at 0x51b210e710>"
      ]
     },
     "execution_count": 106,
     "metadata": {},
     "output_type": "execute_result"
    },
    {
     "data": {
      "image/png": "[encoded data removed]",
      "text/plain": [
       "<Figure size 432x288 with 1 Axes>"
      ]
     },
     "metadata": {
      "needs_background": "light"
     },
     "output_type": "display_data"
    }
   ],
   "source": [
    "## predict the values of y using the trained model\n",
    "y_train_pred_lm_1=lm_1.predict(temp_1)\n",
    "## Calculate the residual and plot the distribution plot\n",
    "res_lm_1=y_train-y_train_pred_lm_1\n",
    "sns.distplot(res_lm_1)"
   ]
  },
  {
   "cell_type": "markdown",
   "metadata": {},
   "source": [
    "## Residual Analysis for model lm_2"
   ]
  },
  {
   "cell_type": "code",
   "execution_count": 107,
   "metadata": {},
   "outputs": [
    {
     "data": {
      "text/plain": [
       "<matplotlib.axes._subplots.AxesSubplot at 0x51b2064898>"
      ]
     },
     "execution_count": 107,
     "metadata": {},
     "output_type": "execute_result"
    },
    {
     "data": {
      "image/png": "[encoded data removed]",
      "text/plain": [
       "<Figure size 432x288 with 1 Axes>"
      ]
     },
     "metadata": {
      "needs_background": "light"
     },
     "output_type": "display_data"
    }
   ],
   "source": [
    "## predict the values of y using the trained model\n",
    "y_train_pred_lm_2=lm_2.predict(temp)\n",
    "## Calculate the residual and plot the distribution plot\n",
    "res_lm_2=y_train-y_train_pred_lm_2\n",
    "sns.distplot(res_lm_2)"
   ]
  },
  {
   "cell_type": "markdown",
   "metadata": {},
   "source": [
    "## Prediction and evaluation on test"
   ]
  },
  {
   "cell_type": "markdown",
   "metadata": {},
   "source": [
    "### Scale the test set"
   ]
  },
  {
   "cell_type": "code",
   "execution_count": 108,
   "metadata": {},
   "outputs": [
    {
     "data": {
      "text/html": [
       "<div>\n",
       "<style scoped>\n",
       "    .dataframe tbody tr th:only-of-type {\n",
       "        vertical-align: middle;\n",
       "    }\n",
       "\n",
       "    .dataframe tbody tr th {\n",
       "        vertical-align: top;\n",
       "    }\n",
       "\n",
       "    .dataframe thead th {\n",
       "        text-align: right;\n",
       "    }\n",
       "</style>\n",
       "<table border=\"1\" class=\"dataframe\">\n",
       "  <thead>\n",
       "    <tr style=\"text-align: right;\">\n",
       "      <th></th>\n",
       "      <th>fueltype</th>\n",
       "      <th>aspiration</th>\n",
       "      <th>doornumber</th>\n",
       "      <th>enginelocation</th>\n",
       "      <th>wheelbase</th>\n",
       "      <th>carlength</th>\n",
       "      <th>carwidth</th>\n",
       "      <th>carheight</th>\n",
       "      <th>curbweight</th>\n",
       "      <th>enginesize</th>\n",
       "      <th>...</th>\n",
       "      <th>saab</th>\n",
       "      <th>subaru</th>\n",
       "      <th>toyota</th>\n",
       "      <th>volkswagen</th>\n",
       "      <th>volvo</th>\n",
       "      <th>-1</th>\n",
       "      <th>0</th>\n",
       "      <th>1</th>\n",
       "      <th>2</th>\n",
       "      <th>3</th>\n",
       "    </tr>\n",
       "    <tr>\n",
       "      <th>car_ID</th>\n",
       "      <th></th>\n",
       "      <th></th>\n",
       "      <th></th>\n",
       "      <th></th>\n",
       "      <th></th>\n",
       "      <th></th>\n",
       "      <th></th>\n",
       "      <th></th>\n",
       "      <th></th>\n",
       "      <th></th>\n",
       "      <th></th>\n",
       "      <th></th>\n",
       "      <th></th>\n",
       "      <th></th>\n",
       "      <th></th>\n",
       "      <th></th>\n",
       "      <th></th>\n",
       "      <th></th>\n",
       "      <th></th>\n",
       "      <th></th>\n",
       "      <th></th>\n",
       "    </tr>\n",
       "  </thead>\n",
       "  <tbody>\n",
       "    <tr>\n",
       "      <th>161</th>\n",
       "      <td>1</td>\n",
       "      <td>1</td>\n",
       "      <td>1</td>\n",
       "      <td>1</td>\n",
       "      <td>0.313793</td>\n",
       "      <td>0.409756</td>\n",
       "      <td>0.341667</td>\n",
       "      <td>0.460177</td>\n",
       "      <td>0.235066</td>\n",
       "      <td>0.139623</td>\n",
       "      <td>...</td>\n",
       "      <td>0</td>\n",
       "      <td>0</td>\n",
       "      <td>1</td>\n",
       "      <td>0</td>\n",
       "      <td>0</td>\n",
       "      <td>0</td>\n",
       "      <td>1</td>\n",
       "      <td>0</td>\n",
       "      <td>0</td>\n",
       "      <td>0</td>\n",
       "    </tr>\n",
       "    <tr>\n",
       "      <th>187</th>\n",
       "      <td>1</td>\n",
       "      <td>1</td>\n",
       "      <td>1</td>\n",
       "      <td>1</td>\n",
       "      <td>0.368966</td>\n",
       "      <td>0.497561</td>\n",
       "      <td>0.433333</td>\n",
       "      <td>0.699115</td>\n",
       "      <td>0.305275</td>\n",
       "      <td>0.181132</td>\n",
       "      <td>...</td>\n",
       "      <td>0</td>\n",
       "      <td>0</td>\n",
       "      <td>0</td>\n",
       "      <td>1</td>\n",
       "      <td>0</td>\n",
       "      <td>0</td>\n",
       "      <td>0</td>\n",
       "      <td>0</td>\n",
       "      <td>1</td>\n",
       "      <td>0</td>\n",
       "    </tr>\n",
       "    <tr>\n",
       "      <th>60</th>\n",
       "      <td>1</td>\n",
       "      <td>1</td>\n",
       "      <td>0</td>\n",
       "      <td>1</td>\n",
       "      <td>0.420690</td>\n",
       "      <td>0.596748</td>\n",
       "      <td>0.516667</td>\n",
       "      <td>0.522124</td>\n",
       "      <td>0.347944</td>\n",
       "      <td>0.230189</td>\n",
       "      <td>...</td>\n",
       "      <td>0</td>\n",
       "      <td>0</td>\n",
       "      <td>0</td>\n",
       "      <td>0</td>\n",
       "      <td>0</td>\n",
       "      <td>0</td>\n",
       "      <td>0</td>\n",
       "      <td>1</td>\n",
       "      <td>0</td>\n",
       "      <td>0</td>\n",
       "    </tr>\n",
       "    <tr>\n",
       "      <th>166</th>\n",
       "      <td>1</td>\n",
       "      <td>1</td>\n",
       "      <td>0</td>\n",
       "      <td>1</td>\n",
       "      <td>0.272414</td>\n",
       "      <td>0.448780</td>\n",
       "      <td>0.308333</td>\n",
       "      <td>0.424779</td>\n",
       "      <td>0.301396</td>\n",
       "      <td>0.139623</td>\n",
       "      <td>...</td>\n",
       "      <td>0</td>\n",
       "      <td>0</td>\n",
       "      <td>1</td>\n",
       "      <td>0</td>\n",
       "      <td>0</td>\n",
       "      <td>0</td>\n",
       "      <td>0</td>\n",
       "      <td>1</td>\n",
       "      <td>0</td>\n",
       "      <td>0</td>\n",
       "    </tr>\n",
       "    <tr>\n",
       "      <th>141</th>\n",
       "      <td>1</td>\n",
       "      <td>1</td>\n",
       "      <td>0</td>\n",
       "      <td>1</td>\n",
       "      <td>0.231034</td>\n",
       "      <td>0.263415</td>\n",
       "      <td>0.291667</td>\n",
       "      <td>0.699115</td>\n",
       "      <td>0.291699</td>\n",
       "      <td>0.177358</td>\n",
       "      <td>...</td>\n",
       "      <td>0</td>\n",
       "      <td>1</td>\n",
       "      <td>0</td>\n",
       "      <td>0</td>\n",
       "      <td>0</td>\n",
       "      <td>0</td>\n",
       "      <td>0</td>\n",
       "      <td>0</td>\n",
       "      <td>1</td>\n",
       "      <td>0</td>\n",
       "    </tr>\n",
       "  </tbody>\n",
       "</table>\n",
       "<p>5 rows × 69 columns</p>\n",
       "</div>"
      ],
      "text/plain": [
       "        fueltype  aspiration  doornumber  enginelocation  wheelbase  \\\n",
       "car_ID                                                                \n",
       "161            1           1           1               1   0.313793   \n",
       "187            1           1           1               1   0.368966   \n",
       "60             1           1           0               1   0.420690   \n",
       "166            1           1           0               1   0.272414   \n",
       "141            1           1           0               1   0.231034   \n",
       "\n",
       "        carlength  carwidth  carheight  curbweight  enginesize  ...  saab  \\\n",
       "car_ID                                                          ...         \n",
       "161      0.409756  0.341667   0.460177    0.235066    0.139623  ...     0   \n",
       "187      0.497561  0.433333   0.699115    0.305275    0.181132  ...     0   \n",
       "60       0.596748  0.516667   0.522124    0.347944    0.230189  ...     0   \n",
       "166      0.448780  0.308333   0.424779    0.301396    0.139623  ...     0   \n",
       "141      0.263415  0.291667   0.699115    0.291699    0.177358  ...     0   \n",
       "\n",
       "        subaru  toyota  volkswagen  volvo  -1  0  1  2  3  \n",
       "car_ID                                                     \n",
       "161          0       1           0      0   0  1  0  0  0  \n",
       "187          0       0           1      0   0  0  0  1  0  \n",
       "60           0       0           0      0   0  0  1  0  0  \n",
       "166          0       1           0      0   0  0  1  0  0  \n",
       "141          1       0           0      0   0  0  0  1  0  \n",
       "\n",
       "[5 rows x 69 columns]"
      ]
     },
     "execution_count": 108,
     "metadata": {},
     "output_type": "execute_result"
    }
   ],
   "source": [
    "## Scale the test set as well\n",
    "## Fit on data\n",
    "df_test[num_var]=scaler.transform(df_test[num_var])\n",
    "df_test.head()"
   ]
  },
  {
   "cell_type": "code",
   "execution_count": 109,
   "metadata": {},
   "outputs": [
    {
     "data": {
      "text/html": [
       "<div>\n",
       "<style scoped>\n",
       "    .dataframe tbody tr th:only-of-type {\n",
       "        vertical-align: middle;\n",
       "    }\n",
       "\n",
       "    .dataframe tbody tr th {\n",
       "        vertical-align: top;\n",
       "    }\n",
       "\n",
       "    .dataframe thead th {\n",
       "        text-align: right;\n",
       "    }\n",
       "</style>\n",
       "<table border=\"1\" class=\"dataframe\">\n",
       "  <thead>\n",
       "    <tr style=\"text-align: right;\">\n",
       "      <th></th>\n",
       "      <th>fueltype</th>\n",
       "      <th>aspiration</th>\n",
       "      <th>doornumber</th>\n",
       "      <th>enginelocation</th>\n",
       "      <th>wheelbase</th>\n",
       "      <th>carlength</th>\n",
       "      <th>carwidth</th>\n",
       "      <th>carheight</th>\n",
       "      <th>curbweight</th>\n",
       "      <th>enginesize</th>\n",
       "      <th>...</th>\n",
       "      <th>saab</th>\n",
       "      <th>subaru</th>\n",
       "      <th>toyota</th>\n",
       "      <th>volkswagen</th>\n",
       "      <th>volvo</th>\n",
       "      <th>-1</th>\n",
       "      <th>0</th>\n",
       "      <th>1</th>\n",
       "      <th>2</th>\n",
       "      <th>3</th>\n",
       "    </tr>\n",
       "  </thead>\n",
       "  <tbody>\n",
       "    <tr>\n",
       "      <th>count</th>\n",
       "      <td>62.000000</td>\n",
       "      <td>62.000000</td>\n",
       "      <td>62.000000</td>\n",
       "      <td>62.000000</td>\n",
       "      <td>62.000000</td>\n",
       "      <td>62.000000</td>\n",
       "      <td>62.000000</td>\n",
       "      <td>62.000000</td>\n",
       "      <td>62.000000</td>\n",
       "      <td>62.000000</td>\n",
       "      <td>...</td>\n",
       "      <td>62.000000</td>\n",
       "      <td>62.000000</td>\n",
       "      <td>62.000000</td>\n",
       "      <td>62.000000</td>\n",
       "      <td>62.000000</td>\n",
       "      <td>62.000000</td>\n",
       "      <td>62.000000</td>\n",
       "      <td>62.000000</td>\n",
       "      <td>62.000000</td>\n",
       "      <td>62.000000</td>\n",
       "    </tr>\n",
       "    <tr>\n",
       "      <th>mean</th>\n",
       "      <td>0.887097</td>\n",
       "      <td>0.822581</td>\n",
       "      <td>0.564516</td>\n",
       "      <td>0.967742</td>\n",
       "      <td>0.437764</td>\n",
       "      <td>0.559481</td>\n",
       "      <td>0.480376</td>\n",
       "      <td>0.559663</td>\n",
       "      <td>0.428470</td>\n",
       "      <td>0.265673</td>\n",
       "      <td>...</td>\n",
       "      <td>0.048387</td>\n",
       "      <td>0.016129</td>\n",
       "      <td>0.193548</td>\n",
       "      <td>0.080645</td>\n",
       "      <td>0.080645</td>\n",
       "      <td>0.145161</td>\n",
       "      <td>0.274194</td>\n",
       "      <td>0.177419</td>\n",
       "      <td>0.241935</td>\n",
       "      <td>0.145161</td>\n",
       "    </tr>\n",
       "    <tr>\n",
       "      <th>std</th>\n",
       "      <td>0.319058</td>\n",
       "      <td>0.385142</td>\n",
       "      <td>0.499868</td>\n",
       "      <td>0.178127</td>\n",
       "      <td>0.212861</td>\n",
       "      <td>0.189947</td>\n",
       "      <td>0.165440</td>\n",
       "      <td>0.215811</td>\n",
       "      <td>0.179488</td>\n",
       "      <td>0.162820</td>\n",
       "      <td>...</td>\n",
       "      <td>0.216335</td>\n",
       "      <td>0.127000</td>\n",
       "      <td>0.398304</td>\n",
       "      <td>0.274512</td>\n",
       "      <td>0.274512</td>\n",
       "      <td>0.355139</td>\n",
       "      <td>0.449749</td>\n",
       "      <td>0.385142</td>\n",
       "      <td>0.431751</td>\n",
       "      <td>0.355139</td>\n",
       "    </tr>\n",
       "    <tr>\n",
       "      <th>min</th>\n",
       "      <td>0.000000</td>\n",
       "      <td>0.000000</td>\n",
       "      <td>0.000000</td>\n",
       "      <td>0.000000</td>\n",
       "      <td>0.000000</td>\n",
       "      <td>0.056911</td>\n",
       "      <td>0.183333</td>\n",
       "      <td>0.141593</td>\n",
       "      <td>0.128394</td>\n",
       "      <td>0.067925</td>\n",
       "      <td>...</td>\n",
       "      <td>0.000000</td>\n",
       "      <td>0.000000</td>\n",
       "      <td>0.000000</td>\n",
       "      <td>0.000000</td>\n",
       "      <td>0.000000</td>\n",
       "      <td>0.000000</td>\n",
       "      <td>0.000000</td>\n",
       "      <td>0.000000</td>\n",
       "      <td>0.000000</td>\n",
       "      <td>0.000000</td>\n",
       "    </tr>\n",
       "    <tr>\n",
       "      <th>25%</th>\n",
       "      <td>1.000000</td>\n",
       "      <td>1.000000</td>\n",
       "      <td>0.000000</td>\n",
       "      <td>1.000000</td>\n",
       "      <td>0.313793</td>\n",
       "      <td>0.459350</td>\n",
       "      <td>0.358333</td>\n",
       "      <td>0.384956</td>\n",
       "      <td>0.305275</td>\n",
       "      <td>0.177358</td>\n",
       "      <td>...</td>\n",
       "      <td>0.000000</td>\n",
       "      <td>0.000000</td>\n",
       "      <td>0.000000</td>\n",
       "      <td>0.000000</td>\n",
       "      <td>0.000000</td>\n",
       "      <td>0.000000</td>\n",
       "      <td>0.000000</td>\n",
       "      <td>0.000000</td>\n",
       "      <td>0.000000</td>\n",
       "      <td>0.000000</td>\n",
       "    </tr>\n",
       "    <tr>\n",
       "      <th>50%</th>\n",
       "      <td>1.000000</td>\n",
       "      <td>1.000000</td>\n",
       "      <td>1.000000</td>\n",
       "      <td>1.000000</td>\n",
       "      <td>0.387931</td>\n",
       "      <td>0.547967</td>\n",
       "      <td>0.441667</td>\n",
       "      <td>0.588496</td>\n",
       "      <td>0.406129</td>\n",
       "      <td>0.226415</td>\n",
       "      <td>...</td>\n",
       "      <td>0.000000</td>\n",
       "      <td>0.000000</td>\n",
       "      <td>0.000000</td>\n",
       "      <td>0.000000</td>\n",
       "      <td>0.000000</td>\n",
       "      <td>0.000000</td>\n",
       "      <td>0.000000</td>\n",
       "      <td>0.000000</td>\n",
       "      <td>0.000000</td>\n",
       "      <td>0.000000</td>\n",
       "    </tr>\n",
       "    <tr>\n",
       "      <th>75%</th>\n",
       "      <td>1.000000</td>\n",
       "      <td>1.000000</td>\n",
       "      <td>1.000000</td>\n",
       "      <td>1.000000</td>\n",
       "      <td>0.570690</td>\n",
       "      <td>0.719919</td>\n",
       "      <td>0.516667</td>\n",
       "      <td>0.699115</td>\n",
       "      <td>0.564876</td>\n",
       "      <td>0.316038</td>\n",
       "      <td>...</td>\n",
       "      <td>0.000000</td>\n",
       "      <td>0.000000</td>\n",
       "      <td>0.000000</td>\n",
       "      <td>0.000000</td>\n",
       "      <td>0.000000</td>\n",
       "      <td>0.000000</td>\n",
       "      <td>1.000000</td>\n",
       "      <td>0.000000</td>\n",
       "      <td>0.000000</td>\n",
       "      <td>0.000000</td>\n",
       "    </tr>\n",
       "    <tr>\n",
       "      <th>max</th>\n",
       "      <td>1.000000</td>\n",
       "      <td>1.000000</td>\n",
       "      <td>1.000000</td>\n",
       "      <td>1.000000</td>\n",
       "      <td>1.182759</td>\n",
       "      <td>1.089431</td>\n",
       "      <td>0.975000</td>\n",
       "      <td>1.061947</td>\n",
       "      <td>0.935609</td>\n",
       "      <td>0.932075</td>\n",
       "      <td>...</td>\n",
       "      <td>1.000000</td>\n",
       "      <td>1.000000</td>\n",
       "      <td>1.000000</td>\n",
       "      <td>1.000000</td>\n",
       "      <td>1.000000</td>\n",
       "      <td>1.000000</td>\n",
       "      <td>1.000000</td>\n",
       "      <td>1.000000</td>\n",
       "      <td>1.000000</td>\n",
       "      <td>1.000000</td>\n",
       "    </tr>\n",
       "  </tbody>\n",
       "</table>\n",
       "<p>8 rows × 69 columns</p>\n",
       "</div>"
      ],
      "text/plain": [
       "        fueltype  aspiration  doornumber  enginelocation  wheelbase  \\\n",
       "count  62.000000   62.000000   62.000000       62.000000  62.000000   \n",
       "mean    0.887097    0.822581    0.564516        0.967742   0.437764   \n",
       "std     0.319058    0.385142    0.499868        0.178127   0.212861   \n",
       "min     0.000000    0.000000    0.000000        0.000000   0.000000   \n",
       "25%     1.000000    1.000000    0.000000        1.000000   0.313793   \n",
       "50%     1.000000    1.000000    1.000000        1.000000   0.387931   \n",
       "75%     1.000000    1.000000    1.000000        1.000000   0.570690   \n",
       "max     1.000000    1.000000    1.000000        1.000000   1.182759   \n",
       "\n",
       "       carlength   carwidth  carheight  curbweight  enginesize  ...  \\\n",
       "count  62.000000  62.000000  62.000000   62.000000   62.000000  ...   \n",
       "mean    0.559481   0.480376   0.559663    0.428470    0.265673  ...   \n",
       "std     0.189947   0.165440   0.215811    0.179488    0.162820  ...   \n",
       "min     0.056911   0.183333   0.141593    0.128394    0.067925  ...   \n",
       "25%     0.459350   0.358333   0.384956    0.305275    0.177358  ...   \n",
       "50%     0.547967   0.441667   0.588496    0.406129    0.226415  ...   \n",
       "75%     0.719919   0.516667   0.699115    0.564876    0.316038  ...   \n",
       "max     1.089431   0.975000   1.061947    0.935609    0.932075  ...   \n",
       "\n",
       "            saab     subaru     toyota  volkswagen      volvo         -1  \\\n",
       "count  62.000000  62.000000  62.000000   62.000000  62.000000  62.000000   \n",
       "mean    0.048387   0.016129   0.193548    0.080645   0.080645   0.145161   \n",
       "std     0.216335   0.127000   0.398304    0.274512   0.274512   0.355139   \n",
       "min     0.000000   0.000000   0.000000    0.000000   0.000000   0.000000   \n",
       "25%     0.000000   0.000000   0.000000    0.000000   0.000000   0.000000   \n",
       "50%     0.000000   0.000000   0.000000    0.000000   0.000000   0.000000   \n",
       "75%     0.000000   0.000000   0.000000    0.000000   0.000000   0.000000   \n",
       "max     1.000000   1.000000   1.000000    1.000000   1.000000   1.000000   \n",
       "\n",
       "               0          1          2          3  \n",
       "count  62.000000  62.000000  62.000000  62.000000  \n",
       "mean    0.274194   0.177419   0.241935   0.145161  \n",
       "std     0.449749   0.385142   0.431751   0.355139  \n",
       "min     0.000000   0.000000   0.000000   0.000000  \n",
       "25%     0.000000   0.000000   0.000000   0.000000  \n",
       "50%     0.000000   0.000000   0.000000   0.000000  \n",
       "75%     1.000000   0.000000   0.000000   0.000000  \n",
       "max     1.000000   1.000000   1.000000   1.000000  \n",
       "\n",
       "[8 rows x 69 columns]"
      ]
     },
     "execution_count": 109,
     "metadata": {},
     "output_type": "execute_result"
    }
   ],
   "source": [
    "df_test.describe()"
   ]
  },
  {
   "cell_type": "markdown",
   "metadata": {},
   "source": [
    "### Devide into X_test and y_test"
   ]
  },
  {
   "cell_type": "code",
   "execution_count": 110,
   "metadata": {},
   "outputs": [],
   "source": [
    "y_test=df_test.pop('price')\n",
    "X_test=df_test"
   ]
  },
  {
   "cell_type": "markdown",
   "metadata": {},
   "source": [
    "### Add constant variable"
   ]
  },
  {
   "cell_type": "code",
   "execution_count": 111,
   "metadata": {},
   "outputs": [],
   "source": [
    "## for lm model\n",
    "X_test_lm = sm.add_constant(X_test)\n",
    "\n",
    "## for lm_1 model\n",
    "X_test_lm_1 = sm.add_constant(X_test)\n",
    "\n",
    "## for lm_2 model\n",
    "X_test_lm_2 = sm.add_constant(X_test)"
   ]
  },
  {
   "cell_type": "markdown",
   "metadata": {},
   "source": [
    "### Evaluating the models one by one\n"
   ]
  },
  {
   "cell_type": "markdown",
   "metadata": {},
   "source": [
    "### - Model lm"
   ]
  },
  {
   "cell_type": "code",
   "execution_count": 112,
   "metadata": {},
   "outputs": [
    {
     "data": {
      "text/html": [
       "<div>\n",
       "<style scoped>\n",
       "    .dataframe tbody tr th:only-of-type {\n",
       "        vertical-align: middle;\n",
       "    }\n",
       "\n",
       "    .dataframe tbody tr th {\n",
       "        vertical-align: top;\n",
       "    }\n",
       "\n",
       "    .dataframe thead th {\n",
       "        text-align: right;\n",
       "    }\n",
       "</style>\n",
       "<table border=\"1\" class=\"dataframe\">\n",
       "  <thead>\n",
       "    <tr style=\"text-align: right;\">\n",
       "      <th></th>\n",
       "      <th>const</th>\n",
       "      <th>l</th>\n",
       "      <th>three</th>\n",
       "      <th>twelve</th>\n",
       "      <th>bmw</th>\n",
       "      <th>porsche</th>\n",
       "      <th>curbweight</th>\n",
       "    </tr>\n",
       "    <tr>\n",
       "      <th>car_ID</th>\n",
       "      <th></th>\n",
       "      <th></th>\n",
       "      <th></th>\n",
       "      <th></th>\n",
       "      <th></th>\n",
       "      <th></th>\n",
       "      <th></th>\n",
       "    </tr>\n",
       "  </thead>\n",
       "  <tbody>\n",
       "    <tr>\n",
       "      <th>161</th>\n",
       "      <td>1.0</td>\n",
       "      <td>0</td>\n",
       "      <td>0</td>\n",
       "      <td>0</td>\n",
       "      <td>0</td>\n",
       "      <td>0</td>\n",
       "      <td>0.235066</td>\n",
       "    </tr>\n",
       "    <tr>\n",
       "      <th>187</th>\n",
       "      <td>1.0</td>\n",
       "      <td>0</td>\n",
       "      <td>0</td>\n",
       "      <td>0</td>\n",
       "      <td>0</td>\n",
       "      <td>0</td>\n",
       "      <td>0.305275</td>\n",
       "    </tr>\n",
       "    <tr>\n",
       "      <th>60</th>\n",
       "      <td>1.0</td>\n",
       "      <td>0</td>\n",
       "      <td>0</td>\n",
       "      <td>0</td>\n",
       "      <td>0</td>\n",
       "      <td>0</td>\n",
       "      <td>0.347944</td>\n",
       "    </tr>\n",
       "    <tr>\n",
       "      <th>166</th>\n",
       "      <td>1.0</td>\n",
       "      <td>0</td>\n",
       "      <td>0</td>\n",
       "      <td>0</td>\n",
       "      <td>0</td>\n",
       "      <td>0</td>\n",
       "      <td>0.301396</td>\n",
       "    </tr>\n",
       "    <tr>\n",
       "      <th>141</th>\n",
       "      <td>1.0</td>\n",
       "      <td>0</td>\n",
       "      <td>0</td>\n",
       "      <td>0</td>\n",
       "      <td>0</td>\n",
       "      <td>0</td>\n",
       "      <td>0.291699</td>\n",
       "    </tr>\n",
       "  </tbody>\n",
       "</table>\n",
       "</div>"
      ],
      "text/plain": [
       "        const  l  three  twelve  bmw  porsche  curbweight\n",
       "car_ID                                                   \n",
       "161       1.0  0      0       0    0        0    0.235066\n",
       "187       1.0  0      0       0    0        0    0.305275\n",
       "60        1.0  0      0       0    0        0    0.347944\n",
       "166       1.0  0      0       0    0        0    0.301396\n",
       "141       1.0  0      0       0    0        0    0.291699"
      ]
     },
     "execution_count": 112,
     "metadata": {},
     "output_type": "execute_result"
    }
   ],
   "source": [
    "### Creating the X_test_lm having the same column as X_train_rfe\n",
    "cols=[]\n",
    "for col in X_train_rfe.columns:\n",
    "    cols.append(col)\n",
    "\n",
    "X_test_lm = X_test_lm [cols]\n",
    "X_test_lm.head()"
   ]
  },
  {
   "cell_type": "code",
   "execution_count": 113,
   "metadata": {},
   "outputs": [],
   "source": [
    "y_pred_lm = lm.predict(X_test_lm)"
   ]
  },
  {
   "cell_type": "code",
   "execution_count": 114,
   "metadata": {},
   "outputs": [
    {
     "data": {
      "text/plain": [
       "Text(0, 0.5, 'y_pred')"
      ]
     },
     "execution_count": 114,
     "metadata": {},
     "output_type": "execute_result"
    },
    {
     "data": {
      "image/png": "[encoded data removed]",
      "text/plain": [
       "<Figure size 432x288 with 1 Axes>"
      ]
     },
     "metadata": {
      "needs_background": "light"
     },
     "output_type": "display_data"
    }
   ],
   "source": [
    "# Plotting y_test and y_pred_lm to understand the spread\n",
    "\n",
    "fig = plt.figure()\n",
    "plt.scatter(y_test, y_pred_lm)\n",
    "fig.suptitle('y_test vs y_pred', fontsize = 20)              \n",
    "plt.xlabel('y_test', fontsize = 18)                          \n",
    "plt.ylabel('y_pred', fontsize = 16)      "
   ]
  },
  {
   "cell_type": "code",
   "execution_count": 115,
   "metadata": {},
   "outputs": [
    {
     "data": {
      "text/plain": [
       "0.785399659983677"
      ]
     },
     "execution_count": 115,
     "metadata": {},
     "output_type": "execute_result"
    }
   ],
   "source": [
    "## evaluate the model by comparing R-square\n",
    "r2_score(y_true=y_test,y_pred=y_pred_lm)"
   ]
  },
  {
   "cell_type": "markdown",
   "metadata": {},
   "source": [
    "### - Model lm_1"
   ]
  },
  {
   "cell_type": "code",
   "execution_count": 116,
   "metadata": {},
   "outputs": [
    {
     "data": {
      "text/html": [
       "<div>\n",
       "<style scoped>\n",
       "    .dataframe tbody tr th:only-of-type {\n",
       "        vertical-align: middle;\n",
       "    }\n",
       "\n",
       "    .dataframe tbody tr th {\n",
       "        vertical-align: top;\n",
       "    }\n",
       "\n",
       "    .dataframe thead th {\n",
       "        text-align: right;\n",
       "    }\n",
       "</style>\n",
       "<table border=\"1\" class=\"dataframe\">\n",
       "  <thead>\n",
       "    <tr style=\"text-align: right;\">\n",
       "      <th></th>\n",
       "      <th>const</th>\n",
       "      <th>l</th>\n",
       "      <th>three</th>\n",
       "      <th>bmw</th>\n",
       "      <th>porsche</th>\n",
       "      <th>curbweight</th>\n",
       "    </tr>\n",
       "    <tr>\n",
       "      <th>car_ID</th>\n",
       "      <th></th>\n",
       "      <th></th>\n",
       "      <th></th>\n",
       "      <th></th>\n",
       "      <th></th>\n",
       "      <th></th>\n",
       "    </tr>\n",
       "  </thead>\n",
       "  <tbody>\n",
       "    <tr>\n",
       "      <th>161</th>\n",
       "      <td>1.0</td>\n",
       "      <td>0</td>\n",
       "      <td>0</td>\n",
       "      <td>0</td>\n",
       "      <td>0</td>\n",
       "      <td>0.235066</td>\n",
       "    </tr>\n",
       "    <tr>\n",
       "      <th>187</th>\n",
       "      <td>1.0</td>\n",
       "      <td>0</td>\n",
       "      <td>0</td>\n",
       "      <td>0</td>\n",
       "      <td>0</td>\n",
       "      <td>0.305275</td>\n",
       "    </tr>\n",
       "    <tr>\n",
       "      <th>60</th>\n",
       "      <td>1.0</td>\n",
       "      <td>0</td>\n",
       "      <td>0</td>\n",
       "      <td>0</td>\n",
       "      <td>0</td>\n",
       "      <td>0.347944</td>\n",
       "    </tr>\n",
       "    <tr>\n",
       "      <th>166</th>\n",
       "      <td>1.0</td>\n",
       "      <td>0</td>\n",
       "      <td>0</td>\n",
       "      <td>0</td>\n",
       "      <td>0</td>\n",
       "      <td>0.301396</td>\n",
       "    </tr>\n",
       "    <tr>\n",
       "      <th>141</th>\n",
       "      <td>1.0</td>\n",
       "      <td>0</td>\n",
       "      <td>0</td>\n",
       "      <td>0</td>\n",
       "      <td>0</td>\n",
       "      <td>0.291699</td>\n",
       "    </tr>\n",
       "  </tbody>\n",
       "</table>\n",
       "</div>"
      ],
      "text/plain": [
       "        const  l  three  bmw  porsche  curbweight\n",
       "car_ID                                           \n",
       "161       1.0  0      0    0        0    0.235066\n",
       "187       1.0  0      0    0        0    0.305275\n",
       "60        1.0  0      0    0        0    0.347944\n",
       "166       1.0  0      0    0        0    0.301396\n",
       "141       1.0  0      0    0        0    0.291699"
      ]
     },
     "execution_count": 116,
     "metadata": {},
     "output_type": "execute_result"
    }
   ],
   "source": [
    "### Creating the X_test_lm_1 having the same column as temp_1\n",
    "cols=[]\n",
    "for col in temp_1.columns:\n",
    "    cols.append(col)\n",
    "\n",
    "X_test_lm_1 = X_test_lm_1 [cols]\n",
    "X_test_lm_1.head()"
   ]
  },
  {
   "cell_type": "code",
   "execution_count": 117,
   "metadata": {},
   "outputs": [],
   "source": [
    "y_pred_lm_1 = lm_1.predict(X_test_lm_1)"
   ]
  },
  {
   "cell_type": "code",
   "execution_count": 118,
   "metadata": {},
   "outputs": [
    {
     "data": {
      "text/plain": [
       "Text(0, 0.5, 'y_pred')"
      ]
     },
     "execution_count": 118,
     "metadata": {},
     "output_type": "execute_result"
    },
    {
     "data": {
      "image/png": "[encoded data removed]",
      "text/plain": [
       "<Figure size 432x288 with 1 Axes>"
      ]
     },
     "metadata": {
      "needs_background": "light"
     },
     "output_type": "display_data"
    }
   ],
   "source": [
    "# Plotting y_test and y_pred_lm_1 to understand the spread\n",
    "\n",
    "fig = plt.figure()\n",
    "plt.scatter(y_test, y_pred_lm_1)\n",
    "fig.suptitle('y_test vs y_pred for model lm_1', fontsize = 20)          \n",
    "plt.xlabel('y_test', fontsize = 18)                          \n",
    "plt.ylabel('y_pred', fontsize = 16)      "
   ]
  },
  {
   "cell_type": "code",
   "execution_count": 119,
   "metadata": {},
   "outputs": [
    {
     "data": {
      "text/plain": [
       "0.7878324574704243"
      ]
     },
     "execution_count": 119,
     "metadata": {},
     "output_type": "execute_result"
    }
   ],
   "source": [
    "## evaluate the model by comparing R-square\n",
    "r2_score(y_true=y_test,y_pred=y_pred_lm_1)"
   ]
  },
  {
   "cell_type": "markdown",
   "metadata": {},
   "source": [
    "### - Model lm_1"
   ]
  },
  {
   "cell_type": "code",
   "execution_count": 120,
   "metadata": {},
   "outputs": [
    {
     "data": {
      "text/html": [
       "<div>\n",
       "<style scoped>\n",
       "    .dataframe tbody tr th:only-of-type {\n",
       "        vertical-align: middle;\n",
       "    }\n",
       "\n",
       "    .dataframe tbody tr th {\n",
       "        vertical-align: top;\n",
       "    }\n",
       "\n",
       "    .dataframe thead th {\n",
       "        text-align: right;\n",
       "    }\n",
       "</style>\n",
       "<table border=\"1\" class=\"dataframe\">\n",
       "  <thead>\n",
       "    <tr style=\"text-align: right;\">\n",
       "      <th></th>\n",
       "      <th>const</th>\n",
       "      <th>bmw</th>\n",
       "      <th>porsche</th>\n",
       "      <th>enginesize</th>\n",
       "      <th>citympg</th>\n",
       "    </tr>\n",
       "    <tr>\n",
       "      <th>car_ID</th>\n",
       "      <th></th>\n",
       "      <th></th>\n",
       "      <th></th>\n",
       "      <th></th>\n",
       "      <th></th>\n",
       "    </tr>\n",
       "  </thead>\n",
       "  <tbody>\n",
       "    <tr>\n",
       "      <th>161</th>\n",
       "      <td>1.0</td>\n",
       "      <td>0</td>\n",
       "      <td>0</td>\n",
       "      <td>0.139623</td>\n",
       "      <td>0.694444</td>\n",
       "    </tr>\n",
       "    <tr>\n",
       "      <th>187</th>\n",
       "      <td>1.0</td>\n",
       "      <td>0</td>\n",
       "      <td>0</td>\n",
       "      <td>0.181132</td>\n",
       "      <td>0.388889</td>\n",
       "    </tr>\n",
       "    <tr>\n",
       "      <th>60</th>\n",
       "      <td>1.0</td>\n",
       "      <td>0</td>\n",
       "      <td>0</td>\n",
       "      <td>0.230189</td>\n",
       "      <td>0.361111</td>\n",
       "    </tr>\n",
       "    <tr>\n",
       "      <th>166</th>\n",
       "      <td>1.0</td>\n",
       "      <td>0</td>\n",
       "      <td>0</td>\n",
       "      <td>0.139623</td>\n",
       "      <td>0.361111</td>\n",
       "    </tr>\n",
       "    <tr>\n",
       "      <th>141</th>\n",
       "      <td>1.0</td>\n",
       "      <td>0</td>\n",
       "      <td>0</td>\n",
       "      <td>0.177358</td>\n",
       "      <td>0.361111</td>\n",
       "    </tr>\n",
       "  </tbody>\n",
       "</table>\n",
       "</div>"
      ],
      "text/plain": [
       "        const  bmw  porsche  enginesize   citympg\n",
       "car_ID                                           \n",
       "161       1.0    0        0    0.139623  0.694444\n",
       "187       1.0    0        0    0.181132  0.388889\n",
       "60        1.0    0        0    0.230189  0.361111\n",
       "166       1.0    0        0    0.139623  0.361111\n",
       "141       1.0    0        0    0.177358  0.361111"
      ]
     },
     "execution_count": 120,
     "metadata": {},
     "output_type": "execute_result"
    }
   ],
   "source": [
    "### Creating the X_test_lm_1 having the same column as temp\n",
    "cols=[]\n",
    "for col in temp.columns:\n",
    "    cols.append(col)\n",
    "\n",
    "X_test_lm_2 = X_test_lm_2 [cols]\n",
    "X_test_lm_2.head()"
   ]
  },
  {
   "cell_type": "code",
   "execution_count": 121,
   "metadata": {},
   "outputs": [],
   "source": [
    "y_pred_lm_2 = lm_2.predict(X_test_lm_2)"
   ]
  },
  {
   "cell_type": "code",
   "execution_count": 122,
   "metadata": {},
   "outputs": [
    {
     "data": {
      "text/plain": [
       "Text(0, 0.5, 'y_pred')"
      ]
     },
     "execution_count": 122,
     "metadata": {},
     "output_type": "execute_result"
    },
    {
     "data": {
      "image/png": "[encoded data removed]",
      "text/plain": [
       "<Figure size 432x288 with 1 Axes>"
      ]
     },
     "metadata": {
      "needs_background": "light"
     },
     "output_type": "display_data"
    }
   ],
   "source": [
    "# Plotting y_test and y_pred_lm_2 to understand the spread\n",
    "\n",
    "fig = plt.figure()\n",
    "plt.scatter(y_test, y_pred_lm_2)\n",
    "fig.suptitle('y_test vs y_pred for model lm_2', fontsize = 20)          \n",
    "plt.xlabel('y_test', fontsize = 18)                          \n",
    "plt.ylabel('y_pred', fontsize = 16)      "
   ]
  },
  {
   "cell_type": "code",
   "execution_count": 123,
   "metadata": {},
   "outputs": [
    {
     "data": {
      "text/plain": [
       "0.8529935212088972"
      ]
     },
     "execution_count": 123,
     "metadata": {},
     "output_type": "execute_result"
    }
   ],
   "source": [
    "## evaluate the model by comparing R-square\n",
    "r2_score(y_true=y_test,y_pred=y_pred_lm_2)"
   ]
  },
  {
   "attachments": {
    "image.png": {
     "image/png": "[encoded data removed]"
    }
   },
   "cell_type": "markdown",
   "metadata": {},
   "source": [
    "## We can see that model lm_2 is the best model by comparing the R-Square values of train and test set\n",
    "Model name\tR-square-Train\tX-train dataframe\tR-Square-Pred\n",
    "lm\t0.876\tX_train_rfe\t0.78\n",
    "lm_1\t0.872\ttemp_1\t0.78\n",
    "lm_2\t0.827\ttemp\t0.85\n",
    "![image.png](attachment:image.png)"
   ]
  },
  {
   "cell_type": "code",
   "execution_count": 124,
   "metadata": {},
   "outputs": [
    {
     "data": {
      "text/html": [
       "<div>\n",
       "<style scoped>\n",
       "    .dataframe tbody tr th:only-of-type {\n",
       "        vertical-align: middle;\n",
       "    }\n",
       "\n",
       "    .dataframe tbody tr th {\n",
       "        vertical-align: top;\n",
       "    }\n",
       "\n",
       "    .dataframe thead th {\n",
       "        text-align: right;\n",
       "    }\n",
       "</style>\n",
       "<table border=\"1\" class=\"dataframe\">\n",
       "  <thead>\n",
       "    <tr style=\"text-align: right;\">\n",
       "      <th></th>\n",
       "      <th>const</th>\n",
       "      <th>bmw</th>\n",
       "      <th>porsche</th>\n",
       "      <th>enginesize</th>\n",
       "      <th>citympg</th>\n",
       "    </tr>\n",
       "    <tr>\n",
       "      <th>car_ID</th>\n",
       "      <th></th>\n",
       "      <th></th>\n",
       "      <th></th>\n",
       "      <th></th>\n",
       "      <th></th>\n",
       "    </tr>\n",
       "  </thead>\n",
       "  <tbody>\n",
       "    <tr>\n",
       "      <th>123</th>\n",
       "      <td>1.0</td>\n",
       "      <td>0</td>\n",
       "      <td>0</td>\n",
       "      <td>0.139623</td>\n",
       "      <td>0.500000</td>\n",
       "    </tr>\n",
       "    <tr>\n",
       "      <th>126</th>\n",
       "      <td>1.0</td>\n",
       "      <td>0</td>\n",
       "      <td>1</td>\n",
       "      <td>0.339623</td>\n",
       "      <td>0.166667</td>\n",
       "    </tr>\n",
       "    <tr>\n",
       "      <th>167</th>\n",
       "      <td>1.0</td>\n",
       "      <td>0</td>\n",
       "      <td>0</td>\n",
       "      <td>0.139623</td>\n",
       "      <td>0.361111</td>\n",
       "    </tr>\n",
       "    <tr>\n",
       "      <th>2</th>\n",
       "      <td>1.0</td>\n",
       "      <td>0</td>\n",
       "      <td>0</td>\n",
       "      <td>0.260377</td>\n",
       "      <td>0.222222</td>\n",
       "    </tr>\n",
       "    <tr>\n",
       "      <th>200</th>\n",
       "      <td>1.0</td>\n",
       "      <td>0</td>\n",
       "      <td>0</td>\n",
       "      <td>0.260377</td>\n",
       "      <td>0.111111</td>\n",
       "    </tr>\n",
       "  </tbody>\n",
       "</table>\n",
       "</div>"
      ],
      "text/plain": [
       "        const  bmw  porsche  enginesize   citympg\n",
       "car_ID                                           \n",
       "123       1.0    0        0    0.139623  0.500000\n",
       "126       1.0    0        1    0.339623  0.166667\n",
       "167       1.0    0        0    0.139623  0.361111\n",
       "2         1.0    0        0    0.260377  0.222222\n",
       "200       1.0    0        0    0.260377  0.111111"
      ]
     },
     "execution_count": 124,
     "metadata": {},
     "output_type": "execute_result"
    }
   ],
   "source": [
    "temp.head()"
   ]
  },
  {
   "cell_type": "code",
   "execution_count": 125,
   "metadata": {},
   "outputs": [
    {
     "data": {
      "text/html": [
       "<table class=\"simpletable\">\n",
       "<caption>OLS Regression Results</caption>\n",
       "<tr>\n",
       "  <th>Dep. Variable:</th>          <td>price</td>      <th>  R-squared:         </th> <td>   0.827</td>\n",
       "</tr>\n",
       "<tr>\n",
       "  <th>Model:</th>                   <td>OLS</td>       <th>  Adj. R-squared:    </th> <td>   0.822</td>\n",
       "</tr>\n",
       "<tr>\n",
       "  <th>Method:</th>             <td>Least Squares</td>  <th>  F-statistic:       </th> <td>   164.6</td>\n",
       "</tr>\n",
       "<tr>\n",
       "  <th>Date:</th>             <td>Mon, 20 Jan 2020</td> <th>  Prob (F-statistic):</th> <td>1.74e-51</td>\n",
       "</tr>\n",
       "<tr>\n",
       "  <th>Time:</th>                 <td>20:42:10</td>     <th>  Log-Likelihood:    </th> <td> -1358.8</td>\n",
       "</tr>\n",
       "<tr>\n",
       "  <th>No. Observations:</th>      <td>   143</td>      <th>  AIC:               </th> <td>   2728.</td>\n",
       "</tr>\n",
       "<tr>\n",
       "  <th>Df Residuals:</th>          <td>   138</td>      <th>  BIC:               </th> <td>   2742.</td>\n",
       "</tr>\n",
       "<tr>\n",
       "  <th>Df Model:</th>              <td>     4</td>      <th>                     </th>     <td> </td>   \n",
       "</tr>\n",
       "<tr>\n",
       "  <th>Covariance Type:</th>      <td>nonrobust</td>    <th>                     </th>     <td> </td>   \n",
       "</tr>\n",
       "</table>\n",
       "<table class=\"simpletable\">\n",
       "<tr>\n",
       "       <td></td>         <th>coef</th>     <th>std err</th>      <th>t</th>      <th>P>|t|</th>  <th>[0.025</th>    <th>0.975]</th>  \n",
       "</tr>\n",
       "<tr>\n",
       "  <th>const</th>      <td> 7102.1102</td> <td> 1128.124</td> <td>    6.296</td> <td> 0.000</td> <td> 4871.468</td> <td> 9332.753</td>\n",
       "</tr>\n",
       "<tr>\n",
       "  <th>bmw</th>        <td> 7154.8487</td> <td> 1420.457</td> <td>    5.037</td> <td> 0.000</td> <td> 4346.174</td> <td> 9963.523</td>\n",
       "</tr>\n",
       "<tr>\n",
       "  <th>porsche</th>    <td> 7376.6496</td> <td> 1976.096</td> <td>    3.733</td> <td> 0.000</td> <td> 3469.309</td> <td> 1.13e+04</td>\n",
       "</tr>\n",
       "<tr>\n",
       "  <th>enginesize</th> <td> 3.422e+04</td> <td> 2345.913</td> <td>   14.585</td> <td> 0.000</td> <td> 2.96e+04</td> <td> 3.89e+04</td>\n",
       "</tr>\n",
       "<tr>\n",
       "  <th>citympg</th>    <td>-8014.4320</td> <td> 1915.154</td> <td>   -4.185</td> <td> 0.000</td> <td>-1.18e+04</td> <td>-4227.591</td>\n",
       "</tr>\n",
       "</table>\n",
       "<table class=\"simpletable\">\n",
       "<tr>\n",
       "  <th>Omnibus:</th>       <td>14.375</td> <th>  Durbin-Watson:     </th> <td>   2.172</td>\n",
       "</tr>\n",
       "<tr>\n",
       "  <th>Prob(Omnibus):</th> <td> 0.001</td> <th>  Jarque-Bera (JB):  </th> <td>  15.761</td>\n",
       "</tr>\n",
       "<tr>\n",
       "  <th>Skew:</th>          <td> 0.715</td> <th>  Prob(JB):          </th> <td>0.000378</td>\n",
       "</tr>\n",
       "<tr>\n",
       "  <th>Kurtosis:</th>      <td> 3.774</td> <th>  Cond. No.          </th> <td>    11.6</td>\n",
       "</tr>\n",
       "</table><br/><br/>Warnings:<br/>[1] Standard Errors assume that the covariance matrix of the errors is correctly specified."
      ],
      "text/plain": [
       "<class 'statsmodels.iolib.summary.Summary'>\n",
       "\"\"\"\n",
       "                            OLS Regression Results                            \n",
       "==============================================================================\n",
       "Dep. Variable:                  price   R-squared:                       0.827\n",
       "Model:                            OLS   Adj. R-squared:                  0.822\n",
       "Method:                 Least Squares   F-statistic:                     164.6\n",
       "Date:                Mon, 20 Jan 2020   Prob (F-statistic):           1.74e-51\n",
       "Time:                        20:42:10   Log-Likelihood:                -1358.8\n",
       "No. Observations:                 143   AIC:                             2728.\n",
       "Df Residuals:                     138   BIC:                             2742.\n",
       "Df Model:                           4                                         \n",
       "Covariance Type:            nonrobust                                         \n",
       "==============================================================================\n",
       "                 coef    std err          t      P>|t|      [0.025      0.975]\n",
       "------------------------------------------------------------------------------\n",
       "const       7102.1102   1128.124      6.296      0.000    4871.468    9332.753\n",
       "bmw         7154.8487   1420.457      5.037      0.000    4346.174    9963.523\n",
       "porsche     7376.6496   1976.096      3.733      0.000    3469.309    1.13e+04\n",
       "enginesize  3.422e+04   2345.913     14.585      0.000    2.96e+04    3.89e+04\n",
       "citympg    -8014.4320   1915.154     -4.185      0.000   -1.18e+04   -4227.591\n",
       "==============================================================================\n",
       "Omnibus:                       14.375   Durbin-Watson:                   2.172\n",
       "Prob(Omnibus):                  0.001   Jarque-Bera (JB):               15.761\n",
       "Skew:                           0.715   Prob(JB):                     0.000378\n",
       "Kurtosis:                       3.774   Cond. No.                         11.6\n",
       "==============================================================================\n",
       "\n",
       "Warnings:\n",
       "[1] Standard Errors assume that the covariance matrix of the errors is correctly specified.\n",
       "\"\"\""
      ]
     },
     "execution_count": 125,
     "metadata": {},
     "output_type": "execute_result"
    }
   ],
   "source": [
    "lm_2.summary()"
   ]
  },
  {
   "cell_type": "markdown",
   "metadata": {},
   "source": [
    "## So we can conclude that the predictors having effect on the car price are \n",
    "- The car is of make BMW (This will increase the cost, as the cofficient is +ve)\n",
    "- The car is of make porsche (This will increase the cost, as the cofficient is +ve)\n",
    "- The eingine size or the car size ( This will also increase the cost as the coffcient is +ve)\n",
    "- The milage in city (This will decrease the cost as the coffcient is -ve)"
   ]
  },
  {
   "cell_type": "markdown",
   "metadata": {},
   "source": [
    "## So can say that in USA market, people are more concerned about the brand of the car(can say Brand Loyality) and the size of the car\n",
    "## As the milage in city is having negative effect of the cost of the car, this may be indicating that for improving the milage, the companies may have compromised with the fearures, weight, engine quality etc. Which is driving the customers away from the cars having higher milage"
   ]
  },
  {
   "cell_type": "code",
   "execution_count": null,
   "metadata": {},
   "outputs": [],
   "source": []
  }
 ],
 "metadata": {
  "kernelspec": {
   "display_name": "Python 3",
   "language": "python",
   "name": "python3"
  },
  "language_info": {
   "codemirror_mode": {
    "name": "ipython",
    "version": 3
   },
   "file_extension": ".py",
   "mimetype": "text/x-python",
   "name": "python",
   "nbconvert_exporter": "python",
   "pygments_lexer": "ipython3",
   "version": "3.7.3"
  }
 },
 "nbformat": 4,
 "nbformat_minor": 2
}
